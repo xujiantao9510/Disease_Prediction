{
 "cells": [
  {
   "cell_type": "code",
   "execution_count": 13,
   "metadata": {
    "pycharm": {
     "name": "#%%\n"
    }
   },
   "outputs": [],
   "source": [
    "#LIBRARIES \n",
    "# data analysis and wrangling\n",
    "import pandas as pd\n",
    "import numpy as np\n",
    "import random as rnd\n",
    "\n",
    "# visualization\n",
    "import seaborn as sns\n",
    "import matplotlib.pyplot as plt\n",
    "\n",
    "\n",
    "# machine learning\n",
    "\n",
    "from sklearn.svm import SVC, LinearSVC\n",
    "from sklearn.ensemble import RandomForestClassifier\n",
    "from sklearn.neighbors import KNeighborsClassifier\n",
    "from sklearn.naive_bayes import GaussianNB\n",
    "from sklearn.linear_model import Perceptron\n",
    "from sklearn.linear_model import SGDClassifier\n",
    "from sklearn.tree import DecisionTreeClassifier"
   ]
  },
  {
   "cell_type": "markdown",
   "metadata": {
    "pycharm": {
     "name": "#%% md\n"
    }
   },
   "source": [
    "# Data pre-processing"
   ]
  },
  {
   "cell_type": "code",
   "execution_count": 14,
   "metadata": {
    "pycharm": {
     "name": "#%%\n"
    }
   },
   "outputs": [],
   "source": [
    "df=pd.read_csv('data_arrhythmiacv.csv',delimiter=';')"
   ]
  },
  {
   "cell_type": "code",
   "execution_count": 15,
   "metadata": {
    "pycharm": {
     "name": "#%%\n"
    }
   },
   "outputs": [],
   "source": [
    "#identify the target\n",
    "df.rename(columns={280:'diagnosis'},inplace=True)"
   ]
  },
  {
   "cell_type": "code",
   "execution_count": 16,
   "metadata": {
    "pycharm": {
     "name": "#%%\n"
    }
   },
   "outputs": [
    {
     "data": {
      "text/plain": "<Figure size 640x480 with 1 Axes>",
      "image/png": "[encoded data removed]"
     },
     "metadata": {},
     "output_type": "display_data"
    }
   ],
   "source": [
    "sns.barplot(data=df,x='diagnosis',y='diagnosis', estimator = len)\n",
    "plt.title('Distribution of patients in each class')\n",
    "plt.show()"
   ]
  },
  {
   "cell_type": "markdown",
   "metadata": {
    "pycharm": {
     "name": "#%% md\n"
    }
   },
   "source": [
    "# Binary classification 1/0"
   ]
  },
  {
   "cell_type": "code",
   "execution_count": 17,
   "metadata": {
    "pycharm": {
     "name": "#%%\n"
    }
   },
   "outputs": [
    {
     "name": "stderr",
     "output_type": "stream",
     "text": [
      "C:\\Users\\Xu Jiantao\\AppData\\Local\\Temp\\ipykernel_5868\\3785995654.py:2: UserWarning: Pandas doesn't allow columns to be created via a new attribute name - see https://pandas.pydata.org/pandas-docs/stable/indexing.html#attribute-access\n",
      "  df_binary.Label=df_binary.diagnosis.apply(lambda x: 0 if x==1 else 1)\n"
     ]
    },
    {
     "data": {
      "text/plain": "   age  sex  height  weight  qrs_duration(ms)  p-r_interval(ms)  q-t_interval  \\\n0   75    0     190      80                91               193           371   \n1   56    1     165      64                81               174           401   \n2   54    0     172      95               138               163           386   \n3   55    0     175      94               100               202           380   \n4   75    0     190      80                88               181           360   \n5   13    0     169      51               100               167           321   \n6   40    1     160      52                77               129           377   \n7   49    1     162      54                78                 0           376   \n8   44    0     168      56                84               118           354   \n9   50    1     167      67                89               130           383   \n\n   t_interval  p_interval  qrs  ...   KY    KZ   LA   LB LC   LD   LE    LF  \\\n0         174         121  -16  ...  0.0   9.0 -0.9  0.0  0  0.9  2.9  23.3   \n1         149          39   25  ...  0.0   8.5  0.0  0.0  0  0.2  2.1  20.4   \n2         185         102   96  ...  0.0   9.5 -2.4  0.0  0  0.3  3.4  12.3   \n3         179         143   28  ...  0.0  12.2 -2.2  0.0  0  0.4  2.6  34.6   \n4         177         103  -16  ...  0.0  13.1 -3.6  0.0  0 -0.1  3.9  25.4   \n5         174          91  107  ... -0.6  12.2 -2.8  0.0  0  0.9  2.2  13.5   \n6         133          77   77  ...  0.0   6.5  0.0  0.0  0  0.4  1.0  14.3   \n7         157          70   67  ...  0.0   8.2 -1.9  0.0  0  0.1  0.5  15.8   \n8         160          63   61  ...  0.0   7.0 -1.3  0.0  0  0.6  2.1  12.5   \n9         156          73   85  ... -0.6  10.8 -1.7  0.0  0  0.8  0.9  20.1   \n\n     LG  diagnosis  \n0  49.4          8  \n1  38.8          6  \n2  49.0         10  \n3  61.6          1  \n4  62.8          7  \n5  31.1         14  \n6  20.5          1  \n7  19.8          1  \n8  30.9          1  \n9  25.1         10  \n\n[10 rows x 280 columns]",
      "text/html": "<div>\n<style scoped>\n    .dataframe tbody tr th:only-of-type {\n        vertical-align: middle;\n    }\n\n    .dataframe tbody tr th {\n        vertical-align: top;\n    }\n\n    .dataframe thead th {\n        text-align: right;\n    }\n</style>\n<table border=\"1\" class=\"dataframe\">\n  <thead>\n    <tr style=\"text-align: right;\">\n      <th></th>\n      <th>age</th>\n      <th>sex</th>\n      <th>height</th>\n      <th>weight</th>\n      <th>qrs_duration(ms)</th>\n      <th>p-r_interval(ms)</th>\n      <th>q-t_interval</th>\n      <th>t_interval</th>\n      <th>p_interval</th>\n      <th>qrs</th>\n      <th>...</th>\n      <th>KY</th>\n      <th>KZ</th>\n      <th>LA</th>\n      <th>LB</th>\n      <th>LC</th>\n      <th>LD</th>\n      <th>LE</th>\n      <th>LF</th>\n      <th>LG</th>\n      <th>diagnosis</th>\n    </tr>\n  </thead>\n  <tbody>\n    <tr>\n      <th>0</th>\n      <td>75</td>\n      <td>0</td>\n      <td>190</td>\n      <td>80</td>\n      <td>91</td>\n      <td>193</td>\n      <td>371</td>\n      <td>174</td>\n      <td>121</td>\n      <td>-16</td>\n      <td>...</td>\n      <td>0.0</td>\n      <td>9.0</td>\n      <td>-0.9</td>\n      <td>0.0</td>\n      <td>0</td>\n      <td>0.9</td>\n      <td>2.9</td>\n      <td>23.3</td>\n      <td>49.4</td>\n      <td>8</td>\n    </tr>\n    <tr>\n      <th>1</th>\n      <td>56</td>\n      <td>1</td>\n      <td>165</td>\n      <td>64</td>\n      <td>81</td>\n      <td>174</td>\n      <td>401</td>\n      <td>149</td>\n      <td>39</td>\n      <td>25</td>\n      <td>...</td>\n      <td>0.0</td>\n      <td>8.5</td>\n      <td>0.0</td>\n      <td>0.0</td>\n      <td>0</td>\n      <td>0.2</td>\n      <td>2.1</td>\n      <td>20.4</td>\n      <td>38.8</td>\n      <td>6</td>\n    </tr>\n    <tr>\n      <th>2</th>\n      <td>54</td>\n      <td>0</td>\n      <td>172</td>\n      <td>95</td>\n      <td>138</td>\n      <td>163</td>\n      <td>386</td>\n      <td>185</td>\n      <td>102</td>\n      <td>96</td>\n      <td>...</td>\n      <td>0.0</td>\n      <td>9.5</td>\n      <td>-2.4</td>\n      <td>0.0</td>\n      <td>0</td>\n      <td>0.3</td>\n      <td>3.4</td>\n      <td>12.3</td>\n      <td>49.0</td>\n      <td>10</td>\n    </tr>\n    <tr>\n      <th>3</th>\n      <td>55</td>\n      <td>0</td>\n      <td>175</td>\n      <td>94</td>\n      <td>100</td>\n      <td>202</td>\n      <td>380</td>\n      <td>179</td>\n      <td>143</td>\n      <td>28</td>\n      <td>...</td>\n      <td>0.0</td>\n      <td>12.2</td>\n      <td>-2.2</td>\n      <td>0.0</td>\n      <td>0</td>\n      <td>0.4</td>\n      <td>2.6</td>\n      <td>34.6</td>\n      <td>61.6</td>\n      <td>1</td>\n    </tr>\n    <tr>\n      <th>4</th>\n      <td>75</td>\n      <td>0</td>\n      <td>190</td>\n      <td>80</td>\n      <td>88</td>\n      <td>181</td>\n      <td>360</td>\n      <td>177</td>\n      <td>103</td>\n      <td>-16</td>\n      <td>...</td>\n      <td>0.0</td>\n      <td>13.1</td>\n      <td>-3.6</td>\n      <td>0.0</td>\n      <td>0</td>\n      <td>-0.1</td>\n      <td>3.9</td>\n      <td>25.4</td>\n      <td>62.8</td>\n      <td>7</td>\n    </tr>\n    <tr>\n      <th>5</th>\n      <td>13</td>\n      <td>0</td>\n      <td>169</td>\n      <td>51</td>\n      <td>100</td>\n      <td>167</td>\n      <td>321</td>\n      <td>174</td>\n      <td>91</td>\n      <td>107</td>\n      <td>...</td>\n      <td>-0.6</td>\n      <td>12.2</td>\n      <td>-2.8</td>\n      <td>0.0</td>\n      <td>0</td>\n      <td>0.9</td>\n      <td>2.2</td>\n      <td>13.5</td>\n      <td>31.1</td>\n      <td>14</td>\n    </tr>\n    <tr>\n      <th>6</th>\n      <td>40</td>\n      <td>1</td>\n      <td>160</td>\n      <td>52</td>\n      <td>77</td>\n      <td>129</td>\n      <td>377</td>\n      <td>133</td>\n      <td>77</td>\n      <td>77</td>\n      <td>...</td>\n      <td>0.0</td>\n      <td>6.5</td>\n      <td>0.0</td>\n      <td>0.0</td>\n      <td>0</td>\n      <td>0.4</td>\n      <td>1.0</td>\n      <td>14.3</td>\n      <td>20.5</td>\n      <td>1</td>\n    </tr>\n    <tr>\n      <th>7</th>\n      <td>49</td>\n      <td>1</td>\n      <td>162</td>\n      <td>54</td>\n      <td>78</td>\n      <td>0</td>\n      <td>376</td>\n      <td>157</td>\n      <td>70</td>\n      <td>67</td>\n      <td>...</td>\n      <td>0.0</td>\n      <td>8.2</td>\n      <td>-1.9</td>\n      <td>0.0</td>\n      <td>0</td>\n      <td>0.1</td>\n      <td>0.5</td>\n      <td>15.8</td>\n      <td>19.8</td>\n      <td>1</td>\n    </tr>\n    <tr>\n      <th>8</th>\n      <td>44</td>\n      <td>0</td>\n      <td>168</td>\n      <td>56</td>\n      <td>84</td>\n      <td>118</td>\n      <td>354</td>\n      <td>160</td>\n      <td>63</td>\n      <td>61</td>\n      <td>...</td>\n      <td>0.0</td>\n      <td>7.0</td>\n      <td>-1.3</td>\n      <td>0.0</td>\n      <td>0</td>\n      <td>0.6</td>\n      <td>2.1</td>\n      <td>12.5</td>\n      <td>30.9</td>\n      <td>1</td>\n    </tr>\n    <tr>\n      <th>9</th>\n      <td>50</td>\n      <td>1</td>\n      <td>167</td>\n      <td>67</td>\n      <td>89</td>\n      <td>130</td>\n      <td>383</td>\n      <td>156</td>\n      <td>73</td>\n      <td>85</td>\n      <td>...</td>\n      <td>-0.6</td>\n      <td>10.8</td>\n      <td>-1.7</td>\n      <td>0.0</td>\n      <td>0</td>\n      <td>0.8</td>\n      <td>0.9</td>\n      <td>20.1</td>\n      <td>25.1</td>\n      <td>10</td>\n    </tr>\n  </tbody>\n</table>\n<p>10 rows × 280 columns</p>\n</div>"
     },
     "execution_count": 17,
     "metadata": {},
     "output_type": "execute_result"
    }
   ],
   "source": [
    "df_binary=df.copy()\n",
    "df_binary.Label=df_binary.diagnosis.apply(lambda x: 0 if x==1 else 1)\n",
    "df_binary.head(10)"
   ]
  },
  {
   "cell_type": "code",
   "execution_count": 18,
   "metadata": {
    "pycharm": {
     "name": "#%%\n"
    }
   },
   "outputs": [
    {
     "data": {
      "text/plain": "<Figure size 640x480 with 1 Axes>",
      "image/png": "[encoded data removed]"
     },
     "metadata": {},
     "output_type": "display_data"
    }
   ],
   "source": [
    "sns.barplot(data=df_binary,x='diagnosis',y='diagnosis', estimator = len)\n",
    "plt.title('Distribution of patients in each class')\n",
    "plt.show()"
   ]
  },
  {
   "cell_type": "code",
   "execution_count": 19,
   "outputs": [
    {
     "name": "stdout",
     "output_type": "stream",
     "text": [
      "Columns with '?' values: ['T', 'P', 'QRST(ms)', 'J', 'heart_rate(bpm)']\n",
      "Columns with all zeros: [\"S'_wave(ms)\", 'CB', 'CD', 'CS', 'EV', 'EY', 'FF', 'FH', 'FJ', 'FL', 'FS', 'FZ', 'GA', \"S'_wave(mv)\", 'IB', 'KP', 'LC']\n",
      "Columns with missing values: []\n"
     ]
    }
   ],
   "source": [
    "# Get the list of columns with \"?\" values\n",
    "cols_with_missing = [col for col in df.columns if df[col].isin([\"?\"]).any()]\n",
    "# Print the column names\n",
    "print(\"Columns with '?' values:\", cols_with_missing)\n",
    "\n",
    "# Find columns that contain only zeros\n",
    "cols_with_all_zeros00 = [col for col in df.columns if (df[col] == 0.0).all()]\n",
    "# Print the column names\n",
    "print(\"Columns with all zeros:\", cols_with_all_zeros00)\n",
    "\n",
    "cols_with_missing = df.columns[df.isnull().any()].tolist()\n",
    "# Print the column names\n",
    "print(\"Columns with missing values:\", cols_with_missing)"
   ],
   "metadata": {
    "collapsed": false,
    "pycharm": {
     "name": "#%%\n"
    }
   }
  },
  {
   "cell_type": "markdown",
   "metadata": {
    "pycharm": {
     "name": "#%% md\n"
    }
   },
   "source": [
    "### Processing columns with identical values "
   ]
  },
  {
   "cell_type": "code",
   "execution_count": 20,
   "metadata": {
    "pycharm": {
     "name": "#%%\n"
    }
   },
   "outputs": [
    {
     "name": "stdout",
     "output_type": "stream",
     "text": [
      "[\"S'_wave(ms)\" 'CB' 'CD' 'CS' 'EV' 'EY' 'FF' 'FH' 'FJ' 'FL' 'FS' 'FZ' 'GA'\n",
      " \"S'_wave(mv)\" 'IB' 'KP' 'LC']\n"
     ]
    },
    {
     "data": {
      "text/plain": "(452, 280)"
     },
     "execution_count": 20,
     "metadata": {},
     "output_type": "execute_result"
    }
   ],
   "source": [
    "nunique = df.apply(pd.Series.nunique)\n",
    "cols_to_drop = nunique[nunique == 1].index\n",
    "print(cols_to_drop.values)\n",
    "# df.drop(['19', '67', '69', '83', '131', '132', '139', '141', '143', '145', '151', '156', '157', '164', '204', '264', '274','10','11','12','13','14'], axis=1, inplace=True)\n",
    "df.shape\n"
   ]
  },
  {
   "cell_type": "markdown",
   "metadata": {
    "pycharm": {
     "name": "#%% md\n"
    }
   },
   "source": [
    "### Null values processing "
   ]
  },
  {
   "cell_type": "code",
   "execution_count": 21,
   "metadata": {
    "pycharm": {
     "name": "#%%\n"
    }
   },
   "outputs": [
    {
     "name": "stdout",
     "output_type": "stream",
     "text": [
      "<class 'pandas.core.frame.DataFrame'>\n",
      "RangeIndex: 452 entries, 0 to 451\n",
      "Data columns (total 280 columns):\n",
      " #    Column            Non-Null Count  Dtype  \n",
      "---   ------            --------------  -----  \n",
      " 0    age               452 non-null    int64  \n",
      " 1    sex               452 non-null    int64  \n",
      " 2    height            452 non-null    int64  \n",
      " 3    weight            452 non-null    int64  \n",
      " 4    qrs_duration(ms)  452 non-null    int64  \n",
      " 5    p-r_interval(ms)  452 non-null    int64  \n",
      " 6    q-t_interval      452 non-null    int64  \n",
      " 7    t_interval        452 non-null    int64  \n",
      " 8    p_interval        452 non-null    int64  \n",
      " 9    qrs               452 non-null    int64  \n",
      " 10   T                 452 non-null    object \n",
      " 11   P                 452 non-null    object \n",
      " 12   QRST(ms)          452 non-null    object \n",
      " 13   J                 452 non-null    object \n",
      " 14   heart_rate(bpm)   452 non-null    object \n",
      " 15   q_wave(ms)        452 non-null    int64  \n",
      " 16   r_wave(ms)        452 non-null    int64  \n",
      " 17   s_wave(ms)        452 non-null    int64  \n",
      " 18   R'_wave(ms)       452 non-null    int64  \n",
      " 19   S'_wave(ms)       452 non-null    int64  \n",
      " 20   AA                452 non-null    int64  \n",
      " 21   AB                452 non-null    int64  \n",
      " 22   AC                452 non-null    int64  \n",
      " 23   AD                452 non-null    int64  \n",
      " 24   AE                452 non-null    int64  \n",
      " 25   AF                452 non-null    int64  \n",
      " 26   AG                452 non-null    int64  \n",
      " 27   AH                452 non-null    int64  \n",
      " 28   AI                452 non-null    int64  \n",
      " 29   AJ                452 non-null    int64  \n",
      " 30   AK                452 non-null    int64  \n",
      " 31   AL                452 non-null    int64  \n",
      " 32   AM                452 non-null    int64  \n",
      " 33   AN                452 non-null    int64  \n",
      " 34   AO                452 non-null    int64  \n",
      " 35   AP                452 non-null    int64  \n",
      " 36   AR                452 non-null    int64  \n",
      " 37   AS                452 non-null    int64  \n",
      " 38   AT                452 non-null    int64  \n",
      " 39   AU                452 non-null    int64  \n",
      " 40   AV                452 non-null    int64  \n",
      " 41   AY                452 non-null    int64  \n",
      " 42   AZ                452 non-null    int64  \n",
      " 43   BA                452 non-null    int64  \n",
      " 44   BB                452 non-null    int64  \n",
      " 45   BC                452 non-null    int64  \n",
      " 46   BD                452 non-null    int64  \n",
      " 47   BE                452 non-null    int64  \n",
      " 48   BF                452 non-null    int64  \n",
      " 49   BG                452 non-null    int64  \n",
      " 50   BH                452 non-null    int64  \n",
      " 51   BI                452 non-null    int64  \n",
      " 52   BJ                452 non-null    int64  \n",
      " 53   BK                452 non-null    int64  \n",
      " 54   BL                452 non-null    int64  \n",
      " 55   BM                452 non-null    int64  \n",
      " 56   BN                452 non-null    int64  \n",
      " 57   BO                452 non-null    int64  \n",
      " 58   BP                452 non-null    int64  \n",
      " 59   BR                452 non-null    int64  \n",
      " 60   BS                452 non-null    int64  \n",
      " 61   BT                452 non-null    int64  \n",
      " 62   BU                452 non-null    int64  \n",
      " 63   BV                452 non-null    int64  \n",
      " 64   BY                452 non-null    int64  \n",
      " 65   BZ                452 non-null    int64  \n",
      " 66   CA                452 non-null    int64  \n",
      " 67   CB                452 non-null    int64  \n",
      " 68   CC                452 non-null    int64  \n",
      " 69   CD                452 non-null    int64  \n",
      " 70   CE                452 non-null    int64  \n",
      " 71   CF                452 non-null    int64  \n",
      " 72   CG                452 non-null    int64  \n",
      " 73   CH                452 non-null    int64  \n",
      " 74   CI                452 non-null    int64  \n",
      " 75   CJ                452 non-null    int64  \n",
      " 76   CK                452 non-null    int64  \n",
      " 77   CL                452 non-null    int64  \n",
      " 78   CM                452 non-null    int64  \n",
      " 79   CN                452 non-null    int64  \n",
      " 80   CO                452 non-null    int64  \n",
      " 81   CP                452 non-null    int64  \n",
      " 82   CR                452 non-null    int64  \n",
      " 83   CS                452 non-null    int64  \n",
      " 84   CT                452 non-null    int64  \n",
      " 85   CU                452 non-null    int64  \n",
      " 86   CV                452 non-null    int64  \n",
      " 87   CY                452 non-null    int64  \n",
      " 88   CZ                452 non-null    int64  \n",
      " 89   DA                452 non-null    int64  \n",
      " 90   DB                452 non-null    int64  \n",
      " 91   DC                452 non-null    int64  \n",
      " 92   DD                452 non-null    int64  \n",
      " 93   DE                452 non-null    int64  \n",
      " 94   DF                452 non-null    int64  \n",
      " 95   DG                452 non-null    int64  \n",
      " 96   DH                452 non-null    int64  \n",
      " 97   DI                452 non-null    int64  \n",
      " 98   DJ                452 non-null    int64  \n",
      " 99   DK                452 non-null    int64  \n",
      " 100  DL                452 non-null    int64  \n",
      " 101  DM                452 non-null    int64  \n",
      " 102  DN                452 non-null    int64  \n",
      " 103  DO                452 non-null    int64  \n",
      " 104  DP                452 non-null    int64  \n",
      " 105  DR                452 non-null    int64  \n",
      " 106  DS                452 non-null    int64  \n",
      " 107  DT                452 non-null    int64  \n",
      " 108  DU                452 non-null    int64  \n",
      " 109  DV                452 non-null    int64  \n",
      " 110  DY                452 non-null    int64  \n",
      " 111  DZ                452 non-null    int64  \n",
      " 112  EA                452 non-null    int64  \n",
      " 113  EB                452 non-null    int64  \n",
      " 114  EC                452 non-null    int64  \n",
      " 115  ED                452 non-null    int64  \n",
      " 116  EF                452 non-null    int64  \n",
      " 117  EG                452 non-null    int64  \n",
      " 118  EH                452 non-null    int64  \n",
      " 119  EI                452 non-null    int64  \n",
      " 120  EJ                452 non-null    int64  \n",
      " 121  EK                452 non-null    int64  \n",
      " 122  EL                452 non-null    int64  \n",
      " 123  EM                452 non-null    int64  \n",
      " 124  EN                452 non-null    int64  \n",
      " 125  EO                452 non-null    int64  \n",
      " 126  EP                452 non-null    int64  \n",
      " 127  ER                452 non-null    int64  \n",
      " 128  ES                452 non-null    int64  \n",
      " 129  ET                452 non-null    int64  \n",
      " 130  EU                452 non-null    int64  \n",
      " 131  EV                452 non-null    int64  \n",
      " 132  EY                452 non-null    int64  \n",
      " 133  EZ                452 non-null    int64  \n",
      " 134  FA                452 non-null    int64  \n",
      " 135  FB                452 non-null    int64  \n",
      " 136  FC                452 non-null    int64  \n",
      " 137  FD                452 non-null    int64  \n",
      " 138  FE                452 non-null    int64  \n",
      " 139  FF                452 non-null    int64  \n",
      " 140  FG                452 non-null    int64  \n",
      " 141  FH                452 non-null    int64  \n",
      " 142  FI                452 non-null    int64  \n",
      " 143  FJ                452 non-null    int64  \n",
      " 144  FK                452 non-null    int64  \n",
      " 145  FL                452 non-null    int64  \n",
      " 146  FM                452 non-null    int64  \n",
      " 147  FN                452 non-null    int64  \n",
      " 148  FO                452 non-null    int64  \n",
      " 149  FP                452 non-null    int64  \n",
      " 150  FR                452 non-null    int64  \n",
      " 151  FS                452 non-null    int64  \n",
      " 152  FT                452 non-null    int64  \n",
      " 153  FU                452 non-null    int64  \n",
      " 154  FV                452 non-null    int64  \n",
      " 155  FY                452 non-null    int64  \n",
      " 156  FZ                452 non-null    int64  \n",
      " 157  GA                452 non-null    int64  \n",
      " 158  GB                452 non-null    int64  \n",
      " 159  JJ_wave(mv)       452 non-null    float64\n",
      " 160  Q_wave(mv)        452 non-null    float64\n",
      " 161  R_wave(mv)        452 non-null    float64\n",
      " 162  S_wave(mv)        452 non-null    float64\n",
      " 163  R'_wave(mv)       452 non-null    float64\n",
      " 164  S'_wave(mv)       452 non-null    int64  \n",
      " 165  P_wave(mv)        452 non-null    float64\n",
      " 166  T_wave(mv)        452 non-null    float64\n",
      " 167  QRSA(mvs)         452 non-null    float64\n",
      " 168  QRSTA(mvs)        452 non-null    float64\n",
      " 169  GM                452 non-null    float64\n",
      " 170  GN                452 non-null    float64\n",
      " 171  GO                452 non-null    float64\n",
      " 172  GP                452 non-null    float64\n",
      " 173  GR                452 non-null    float64\n",
      " 174  GS                452 non-null    float64\n",
      " 175  GT                452 non-null    float64\n",
      " 176  GU                452 non-null    float64\n",
      " 177  GV                452 non-null    float64\n",
      " 178  GY                452 non-null    float64\n",
      " 179  GZ                452 non-null    float64\n",
      " 180  HA                452 non-null    float64\n",
      " 181  HB                452 non-null    float64\n",
      " 182  HC                452 non-null    float64\n",
      " 183  HD                452 non-null    float64\n",
      " 184  HE                452 non-null    float64\n",
      " 185  HF                452 non-null    float64\n",
      " 186  HG                452 non-null    float64\n",
      " 187  HH                452 non-null    float64\n",
      " 188  HI                452 non-null    float64\n",
      " 189  HJ                452 non-null    float64\n",
      " 190  HK                452 non-null    float64\n",
      " 191  HL                452 non-null    float64\n",
      " 192  HM                452 non-null    float64\n",
      " 193  HN                452 non-null    float64\n",
      " 194  HO                452 non-null    float64\n",
      " 195  HP                452 non-null    float64\n",
      " 196  HR                452 non-null    float64\n",
      " 197  HS                452 non-null    float64\n",
      " 198  HT                452 non-null    float64\n",
      " 199  HU                452 non-null    float64\n",
      " 200  HV                452 non-null    float64\n",
      " 201  HY                452 non-null    float64\n",
      " 202  HZ                452 non-null    float64\n",
      " 203  IA                452 non-null    float64\n",
      " 204  IB                452 non-null    int64  \n",
      " 205  IC                452 non-null    float64\n",
      " 206  ID                452 non-null    float64\n",
      " 207  IE                452 non-null    float64\n",
      " 208  IF                452 non-null    float64\n",
      " 209  IG                452 non-null    float64\n",
      " 210  IH                452 non-null    float64\n",
      " 211  II                452 non-null    float64\n",
      " 212  IJ                452 non-null    float64\n",
      " 213  IK                452 non-null    float64\n",
      " 214  IL                452 non-null    float64\n",
      " 215  IM                452 non-null    float64\n",
      " 216  IN                452 non-null    float64\n",
      " 217  IO                452 non-null    float64\n",
      " 218  IP                452 non-null    float64\n",
      " 219  IR                452 non-null    float64\n",
      " 220  IS                452 non-null    float64\n",
      " 221  IT                452 non-null    float64\n",
      " 222  IU                452 non-null    float64\n",
      " 223  IV                452 non-null    float64\n",
      " 224  IY                452 non-null    float64\n",
      " 225  IZ                452 non-null    float64\n",
      " 226  JA                452 non-null    float64\n",
      " 227  JB                452 non-null    float64\n",
      " 228  JC                452 non-null    float64\n",
      " 229  JD                452 non-null    float64\n",
      " 230  JE                452 non-null    float64\n",
      " 231  JF                452 non-null    float64\n",
      " 232  JG                452 non-null    float64\n",
      " 233  JH                452 non-null    float64\n",
      " 234  JI                452 non-null    float64\n",
      " 235  JJ                452 non-null    float64\n",
      " 236  JK                452 non-null    float64\n",
      " 237  JL                452 non-null    float64\n",
      " 238  JM                452 non-null    float64\n",
      " 239  JN                452 non-null    float64\n",
      " 240  JO                452 non-null    float64\n",
      " 241  JP                452 non-null    float64\n",
      " 242  JR                452 non-null    float64\n",
      " 243  JS                452 non-null    float64\n",
      " 244  JT                452 non-null    float64\n",
      " 245  JU                452 non-null    float64\n",
      " 246  JV                452 non-null    float64\n",
      " 247  JY                452 non-null    float64\n",
      " 248  JZ                452 non-null    float64\n",
      " 249  KA                452 non-null    float64\n",
      " 250  KB                452 non-null    float64\n",
      " 251  KC                452 non-null    float64\n",
      " 252  KD                452 non-null    float64\n",
      " 253  KE                452 non-null    float64\n",
      " 254  KF                452 non-null    float64\n",
      " 255  KG                452 non-null    float64\n",
      " 256  KH                452 non-null    float64\n",
      " 257  KI                452 non-null    float64\n",
      " 258  KJ                452 non-null    float64\n",
      " 259  KK                452 non-null    float64\n",
      " 260  KL                452 non-null    float64\n",
      " 261  KM                452 non-null    float64\n",
      " 262  KN                452 non-null    float64\n",
      " 263  KO                452 non-null    float64\n",
      " 264  KP                452 non-null    int64  \n",
      " 265  KR                452 non-null    float64\n",
      " 266  KS                452 non-null    float64\n",
      " 267  KT                452 non-null    float64\n",
      " 268  KU                452 non-null    float64\n",
      " 269  KV                452 non-null    float64\n",
      " 270  KY                452 non-null    float64\n",
      " 271  KZ                452 non-null    float64\n",
      " 272  LA                452 non-null    float64\n",
      " 273  LB                452 non-null    float64\n",
      " 274  LC                452 non-null    int64  \n",
      " 275  LD                452 non-null    float64\n",
      " 276  LE                452 non-null    float64\n",
      " 277  LF                452 non-null    float64\n",
      " 278  LG                452 non-null    float64\n",
      " 279  diagnosis         452 non-null    int64  \n",
      "dtypes: float64(116), int64(159), object(5)\n",
      "memory usage: 988.9+ KB\n"
     ]
    },
    {
     "name": "stderr",
     "output_type": "stream",
     "text": [
      "C:\\Users\\Xu Jiantao\\AppData\\Local\\Temp\\ipykernel_5868\\1618446966.py:3: FutureWarning: null_counts is deprecated. Use show_counts instead\n",
      "  df.info(verbose = True, null_counts = True)\n"
     ]
    }
   ],
   "source": [
    "#find \"?\" values in each column\n",
    "#replace each of these value with mean(column.values)\n",
    "df.info(verbose = True, null_counts = True)\n",
    "\n",
    "#10 -> 444\n",
    "#11 -> 430\n",
    "#12 -> 451\n",
    "#13 -> 76\n",
    "#14 -> 451"
   ]
  },
  {
   "cell_type": "code",
   "execution_count": 22,
   "metadata": {
    "pycharm": {
     "name": "#%%\n"
    }
   },
   "outputs": [],
   "source": [
    "from sklearn.model_selection import train_test_split\n",
    "#\n",
    "X_train,X_test,y_train,y_test=train_test_split(df_binary.drop(columns=['diagnosis'],axis=1),df_binary['diagnosis'],test_size=0.2,random_state=1)\n",
    "#\n",
    "# X_train['T', 'P', 'QRST(ms)', 'J', 'heart\\'_rate(bpm)'] = X_train['T', 'P', 'QRST(ms)', 'J', 'heart\\'_rate(bpm)'].fillna(X_train.groupby(y_train)['T', 'P', 'QRST(ms)', 'J', 'heart\\'_rate(bpm)'].transform('mean').fillna(X_train[['T', 'P', 'QRST(ms)', 'J', 'heart\\'_rate(bpm)']].mean(axis=0)))\n",
    "#\n",
    "#\n",
    "# X_test['T', 'P', 'QRST(ms)', 'J', 'heart\\'_rate(bpm)'] = X_test['T', 'P', 'QRST(ms)', 'J', 'heart\\'_rate(bpm)'].fillna(X_test.groupby(y_test)['T', 'P', 'QRST(ms)', 'J', 'heart\\'_rate(bpm)'].transform('mean').fillna(X_test['T', 'P', 'QRST(ms)', 'J', 'heart\\'_rate(bpm)'].mean(axis=0)))\n",
    "\n"
   ]
  },
  {
   "cell_type": "code",
   "execution_count": 23,
   "metadata": {
    "pycharm": {
     "name": "#%%\n"
    }
   },
   "outputs": [],
   "source": [
    "# df.drop(columns = [13], axis = 1, inplace = True)"
   ]
  },
  {
   "cell_type": "markdown",
   "metadata": {
    "pycharm": {
     "name": "#%% md\n"
    }
   },
   "source": [
    "### Finding relations between features "
   ]
  },
  {
   "cell_type": "code",
   "execution_count": 24,
   "metadata": {
    "pycharm": {
     "name": "#%%\n"
    }
   },
   "outputs": [
    {
     "ename": "AttributeError",
     "evalue": "'bool' object has no attribute 'all'",
     "output_type": "error",
     "traceback": [
      "\u001B[1;31m---------------------------------------------------------------------------\u001B[0m",
      "\u001B[1;31mAttributeError\u001B[0m                            Traceback (most recent call last)",
      "Cell \u001B[1;32mIn[24], line 4\u001B[0m\n\u001B[0;32m      2\u001B[0m sns\u001B[38;5;241m.\u001B[39mset(style\u001B[38;5;241m=\u001B[39m\u001B[38;5;124m\"\u001B[39m\u001B[38;5;124mwhitegrid\u001B[39m\u001B[38;5;124m\"\u001B[39m)\n\u001B[0;32m      3\u001B[0m plt\u001B[38;5;241m.\u001B[39msubplot(\u001B[38;5;241m1\u001B[39m,\u001B[38;5;241m2\u001B[39m,\u001B[38;5;241m1\u001B[39m)\n\u001B[1;32m----> 4\u001B[0m \u001B[43msns\u001B[49m\u001B[38;5;241;43m.\u001B[39;49m\u001B[43mbarplot\u001B[49m\u001B[43m(\u001B[49m\u001B[43mdata\u001B[49m\u001B[38;5;241;43m=\u001B[39;49m\u001B[43mdf_binary\u001B[49m\u001B[43m,\u001B[49m\u001B[43mx\u001B[49m\u001B[38;5;241;43m=\u001B[39;49m\u001B[38;5;124;43m'\u001B[39;49m\u001B[38;5;124;43mdiagnosis\u001B[39;49m\u001B[38;5;124;43m'\u001B[39;49m\u001B[43m,\u001B[49m\u001B[43my\u001B[49m\u001B[38;5;241;43m=\u001B[39;49m\u001B[38;5;241;43m0\u001B[39;49m\u001B[43m)\u001B[49m\n",
      "File \u001B[1;32mD:\\XuJiantao\\PycharmProjects\\pythonProject\\venv\\lib\\site-packages\\seaborn\\categorical.py:2754\u001B[0m, in \u001B[0;36mbarplot\u001B[1;34m(data, x, y, hue, order, hue_order, estimator, errorbar, n_boot, units, seed, orient, color, palette, saturation, width, errcolor, errwidth, capsize, dodge, ci, ax, **kwargs)\u001B[0m\n\u001B[0;32m   2751\u001B[0m \u001B[38;5;28;01mif\u001B[39;00m estimator \u001B[38;5;129;01mis\u001B[39;00m \u001B[38;5;28mlen\u001B[39m:\n\u001B[0;32m   2752\u001B[0m     estimator \u001B[38;5;241m=\u001B[39m \u001B[38;5;124m\"\u001B[39m\u001B[38;5;124msize\u001B[39m\u001B[38;5;124m\"\u001B[39m\n\u001B[1;32m-> 2754\u001B[0m plotter \u001B[38;5;241m=\u001B[39m \u001B[43m_BarPlotter\u001B[49m\u001B[43m(\u001B[49m\u001B[43mx\u001B[49m\u001B[43m,\u001B[49m\u001B[43m \u001B[49m\u001B[43my\u001B[49m\u001B[43m,\u001B[49m\u001B[43m \u001B[49m\u001B[43mhue\u001B[49m\u001B[43m,\u001B[49m\u001B[43m \u001B[49m\u001B[43mdata\u001B[49m\u001B[43m,\u001B[49m\u001B[43m \u001B[49m\u001B[43morder\u001B[49m\u001B[43m,\u001B[49m\u001B[43m \u001B[49m\u001B[43mhue_order\u001B[49m\u001B[43m,\u001B[49m\n\u001B[0;32m   2755\u001B[0m \u001B[43m                      \u001B[49m\u001B[43mestimator\u001B[49m\u001B[43m,\u001B[49m\u001B[43m \u001B[49m\u001B[43merrorbar\u001B[49m\u001B[43m,\u001B[49m\u001B[43m \u001B[49m\u001B[43mn_boot\u001B[49m\u001B[43m,\u001B[49m\u001B[43m \u001B[49m\u001B[43munits\u001B[49m\u001B[43m,\u001B[49m\u001B[43m \u001B[49m\u001B[43mseed\u001B[49m\u001B[43m,\u001B[49m\n\u001B[0;32m   2756\u001B[0m \u001B[43m                      \u001B[49m\u001B[43morient\u001B[49m\u001B[43m,\u001B[49m\u001B[43m \u001B[49m\u001B[43mcolor\u001B[49m\u001B[43m,\u001B[49m\u001B[43m \u001B[49m\u001B[43mpalette\u001B[49m\u001B[43m,\u001B[49m\u001B[43m \u001B[49m\u001B[43msaturation\u001B[49m\u001B[43m,\u001B[49m\n\u001B[0;32m   2757\u001B[0m \u001B[43m                      \u001B[49m\u001B[43mwidth\u001B[49m\u001B[43m,\u001B[49m\u001B[43m \u001B[49m\u001B[43merrcolor\u001B[49m\u001B[43m,\u001B[49m\u001B[43m \u001B[49m\u001B[43merrwidth\u001B[49m\u001B[43m,\u001B[49m\u001B[43m \u001B[49m\u001B[43mcapsize\u001B[49m\u001B[43m,\u001B[49m\u001B[43m \u001B[49m\u001B[43mdodge\u001B[49m\u001B[43m)\u001B[49m\n\u001B[0;32m   2759\u001B[0m \u001B[38;5;28;01mif\u001B[39;00m ax \u001B[38;5;129;01mis\u001B[39;00m \u001B[38;5;28;01mNone\u001B[39;00m:\n\u001B[0;32m   2760\u001B[0m     ax \u001B[38;5;241m=\u001B[39m plt\u001B[38;5;241m.\u001B[39mgca()\n",
      "File \u001B[1;32mD:\\XuJiantao\\PycharmProjects\\pythonProject\\venv\\lib\\site-packages\\seaborn\\categorical.py:1530\u001B[0m, in \u001B[0;36m_BarPlotter.__init__\u001B[1;34m(self, x, y, hue, data, order, hue_order, estimator, errorbar, n_boot, units, seed, orient, color, palette, saturation, width, errcolor, errwidth, capsize, dodge)\u001B[0m\n\u001B[0;32m   1525\u001B[0m \u001B[38;5;28;01mdef\u001B[39;00m \u001B[38;5;21m__init__\u001B[39m(\u001B[38;5;28mself\u001B[39m, x, y, hue, data, order, hue_order,\n\u001B[0;32m   1526\u001B[0m              estimator, errorbar, n_boot, units, seed,\n\u001B[0;32m   1527\u001B[0m              orient, color, palette, saturation, width,\n\u001B[0;32m   1528\u001B[0m              errcolor, errwidth, capsize, dodge):\n\u001B[0;32m   1529\u001B[0m     \u001B[38;5;124;03m\"\"\"Initialize the plotter.\"\"\"\u001B[39;00m\n\u001B[1;32m-> 1530\u001B[0m     \u001B[38;5;28;43mself\u001B[39;49m\u001B[38;5;241;43m.\u001B[39;49m\u001B[43mestablish_variables\u001B[49m\u001B[43m(\u001B[49m\u001B[43mx\u001B[49m\u001B[43m,\u001B[49m\u001B[43m \u001B[49m\u001B[43my\u001B[49m\u001B[43m,\u001B[49m\u001B[43m \u001B[49m\u001B[43mhue\u001B[49m\u001B[43m,\u001B[49m\u001B[43m \u001B[49m\u001B[43mdata\u001B[49m\u001B[43m,\u001B[49m\u001B[43m \u001B[49m\u001B[43morient\u001B[49m\u001B[43m,\u001B[49m\n\u001B[0;32m   1531\u001B[0m \u001B[43m                             \u001B[49m\u001B[43morder\u001B[49m\u001B[43m,\u001B[49m\u001B[43m \u001B[49m\u001B[43mhue_order\u001B[49m\u001B[43m,\u001B[49m\u001B[43m \u001B[49m\u001B[43munits\u001B[49m\u001B[43m)\u001B[49m\n\u001B[0;32m   1532\u001B[0m     \u001B[38;5;28mself\u001B[39m\u001B[38;5;241m.\u001B[39mestablish_colors(color, palette, saturation)\n\u001B[0;32m   1533\u001B[0m     \u001B[38;5;28mself\u001B[39m\u001B[38;5;241m.\u001B[39mestimate_statistic(estimator, errorbar, n_boot, seed)\n",
      "File \u001B[1;32mD:\\XuJiantao\\PycharmProjects\\pythonProject\\venv\\lib\\site-packages\\seaborn\\categorical.py:544\u001B[0m, in \u001B[0;36m_CategoricalPlotter.establish_variables\u001B[1;34m(self, x, y, hue, data, orient, order, hue_order, units)\u001B[0m\n\u001B[0;32m    541\u001B[0m         \u001B[38;5;28;01mraise\u001B[39;00m \u001B[38;5;167;01mValueError\u001B[39;00m(err)\n\u001B[0;32m    543\u001B[0m \u001B[38;5;66;03m# Figure out the plotting orientation\u001B[39;00m\n\u001B[1;32m--> 544\u001B[0m orient \u001B[38;5;241m=\u001B[39m \u001B[43minfer_orient\u001B[49m\u001B[43m(\u001B[49m\n\u001B[0;32m    545\u001B[0m \u001B[43m    \u001B[49m\u001B[43mx\u001B[49m\u001B[43m,\u001B[49m\u001B[43m \u001B[49m\u001B[43my\u001B[49m\u001B[43m,\u001B[49m\u001B[43m \u001B[49m\u001B[43morient\u001B[49m\u001B[43m,\u001B[49m\u001B[43m \u001B[49m\u001B[43mrequire_numeric\u001B[49m\u001B[38;5;241;43m=\u001B[39;49m\u001B[38;5;28;43mself\u001B[39;49m\u001B[38;5;241;43m.\u001B[39;49m\u001B[43mrequire_numeric\u001B[49m\n\u001B[0;32m    546\u001B[0m \u001B[43m\u001B[49m\u001B[43m)\u001B[49m\n\u001B[0;32m    548\u001B[0m \u001B[38;5;66;03m# Option 2a:\u001B[39;00m\n\u001B[0;32m    549\u001B[0m \u001B[38;5;66;03m# We are plotting a single set of data\u001B[39;00m\n\u001B[0;32m    550\u001B[0m \u001B[38;5;66;03m# ------------------------------------\u001B[39;00m\n\u001B[0;32m    551\u001B[0m \u001B[38;5;28;01mif\u001B[39;00m x \u001B[38;5;129;01mis\u001B[39;00m \u001B[38;5;28;01mNone\u001B[39;00m \u001B[38;5;129;01mor\u001B[39;00m y \u001B[38;5;129;01mis\u001B[39;00m \u001B[38;5;28;01mNone\u001B[39;00m:\n\u001B[0;32m    552\u001B[0m \n\u001B[0;32m    553\u001B[0m     \u001B[38;5;66;03m# Determine where the data are\u001B[39;00m\n",
      "File \u001B[1;32mD:\\XuJiantao\\PycharmProjects\\pythonProject\\venv\\lib\\site-packages\\seaborn\\_oldcore.py:1585\u001B[0m, in \u001B[0;36minfer_orient\u001B[1;34m(x, y, orient, require_numeric)\u001B[0m\n\u001B[0;32m   1557\u001B[0m \u001B[38;5;124;03m\"\"\"Determine how the plot should be oriented based on the data.\u001B[39;00m\n\u001B[0;32m   1558\u001B[0m \n\u001B[0;32m   1559\u001B[0m \u001B[38;5;124;03mFor historical reasons, the convention is to call a plot \"horizontally\"\u001B[39;00m\n\u001B[1;32m   (...)\u001B[0m\n\u001B[0;32m   1581\u001B[0m \n\u001B[0;32m   1582\u001B[0m \u001B[38;5;124;03m\"\"\"\u001B[39;00m\n\u001B[0;32m   1584\u001B[0m x_type \u001B[38;5;241m=\u001B[39m \u001B[38;5;28;01mNone\u001B[39;00m \u001B[38;5;28;01mif\u001B[39;00m x \u001B[38;5;129;01mis\u001B[39;00m \u001B[38;5;28;01mNone\u001B[39;00m \u001B[38;5;28;01melse\u001B[39;00m variable_type(x)\n\u001B[1;32m-> 1585\u001B[0m y_type \u001B[38;5;241m=\u001B[39m \u001B[38;5;28;01mNone\u001B[39;00m \u001B[38;5;28;01mif\u001B[39;00m y \u001B[38;5;129;01mis\u001B[39;00m \u001B[38;5;28;01mNone\u001B[39;00m \u001B[38;5;28;01melse\u001B[39;00m \u001B[43mvariable_type\u001B[49m\u001B[43m(\u001B[49m\u001B[43my\u001B[49m\u001B[43m)\u001B[49m\n\u001B[0;32m   1587\u001B[0m nonnumeric_dv_error \u001B[38;5;241m=\u001B[39m \u001B[38;5;124m\"\u001B[39m\u001B[38;5;132;01m{}\u001B[39;00m\u001B[38;5;124m orientation requires numeric `\u001B[39m\u001B[38;5;132;01m{}\u001B[39;00m\u001B[38;5;124m` variable.\u001B[39m\u001B[38;5;124m\"\u001B[39m\n\u001B[0;32m   1588\u001B[0m single_var_warning \u001B[38;5;241m=\u001B[39m \u001B[38;5;124m\"\u001B[39m\u001B[38;5;132;01m{}\u001B[39;00m\u001B[38;5;124m orientation ignored with only `\u001B[39m\u001B[38;5;132;01m{}\u001B[39;00m\u001B[38;5;124m` specified.\u001B[39m\u001B[38;5;124m\"\u001B[39m\n",
      "File \u001B[1;32mD:\\XuJiantao\\PycharmProjects\\pythonProject\\venv\\lib\\site-packages\\seaborn\\_oldcore.py:1502\u001B[0m, in \u001B[0;36mvariable_type\u001B[1;34m(vector, boolean_type)\u001B[0m\n\u001B[0;32m   1499\u001B[0m     \u001B[38;5;28;01mreturn\u001B[39;00m VariableType(\u001B[38;5;124m\"\u001B[39m\u001B[38;5;124mcategorical\u001B[39m\u001B[38;5;124m\"\u001B[39m)\n\u001B[0;32m   1501\u001B[0m \u001B[38;5;66;03m# Special-case all-na data, which is always \"numeric\"\u001B[39;00m\n\u001B[1;32m-> 1502\u001B[0m \u001B[38;5;28;01mif\u001B[39;00m \u001B[43mpd\u001B[49m\u001B[38;5;241;43m.\u001B[39;49m\u001B[43misna\u001B[49m\u001B[43m(\u001B[49m\u001B[43mvector\u001B[49m\u001B[43m)\u001B[49m\u001B[38;5;241;43m.\u001B[39;49m\u001B[43mall\u001B[49m():\n\u001B[0;32m   1503\u001B[0m     \u001B[38;5;28;01mreturn\u001B[39;00m VariableType(\u001B[38;5;124m\"\u001B[39m\u001B[38;5;124mnumeric\u001B[39m\u001B[38;5;124m\"\u001B[39m)\n\u001B[0;32m   1505\u001B[0m \u001B[38;5;66;03m# Special-case binary/boolean data, allow caller to determine\u001B[39;00m\n\u001B[0;32m   1506\u001B[0m \u001B[38;5;66;03m# This triggers a numpy warning when vector has strings/objects\u001B[39;00m\n\u001B[0;32m   1507\u001B[0m \u001B[38;5;66;03m# https://github.com/numpy/numpy/issues/6784\u001B[39;00m\n\u001B[1;32m   (...)\u001B[0m\n\u001B[0;32m   1511\u001B[0m \u001B[38;5;66;03m# https://github.com/numpy/numpy/issues/13548\u001B[39;00m\n\u001B[0;32m   1512\u001B[0m \u001B[38;5;66;03m# This is considered a bug by numpy and will likely go away.\u001B[39;00m\n",
      "\u001B[1;31mAttributeError\u001B[0m: 'bool' object has no attribute 'all'"
     ]
    },
    {
     "data": {
      "text/plain": "<Figure size 640x480 with 1 Axes>",
      "image/png": "[encoded data removed]"
     },
     "metadata": {},
     "output_type": "display_data"
    }
   ],
   "source": [
    "#Relation between Age/Class:\n",
    "sns.set(style=\"whitegrid\")\n",
    "plt.subplot(1,2,1)\n",
    "sns.barplot(data=df_binary,x='diagnosis',y=0)"
   ]
  },
  {
   "cell_type": "code",
   "execution_count": null,
   "metadata": {
    "pycharm": {
     "name": "#%%\n"
    }
   },
   "outputs": [],
   "source": [
    "#Relation sex/class: \n",
    "sns.barplot(data=df_binary,x='diagnosis',y=1)"
   ]
  },
  {
   "cell_type": "code",
   "execution_count": null,
   "metadata": {
    "scrolled": true,
    "pycharm": {
     "name": "#%%\n"
    }
   },
   "outputs": [],
   "source": [
    "sns.boxplot(data=df_binary,x='diagnosis',y=14)\n",
    "#14= Heart rate: Number of heart beats per minute"
   ]
  },
  {
   "cell_type": "markdown",
   "metadata": {
    "pycharm": {
     "name": "#%% md\n"
    }
   },
   "source": [
    "## PCA "
   ]
  },
  {
   "cell_type": "code",
   "execution_count": null,
   "metadata": {
    "pycharm": {
     "name": "#%%\n"
    }
   },
   "outputs": [],
   "source": [
    "from sklearn.decomposition import PCA\n",
    "pca = PCA(n_components=90)\n",
    "X,y = X_train,y_train\n",
    "comp = pca.fit_transform(X)\n",
    "### Displaying data in 2-dimensional space of the 2 principal components\n",
    "plt.figure(1, figsize =(13, 8))\n",
    "colors = ['b', 'r']\n",
    "for l in range(2):\n",
    "    plt.scatter(comp[y==l][:, 0], comp[y==l][:, 1], c=colors[l], label = 'Class ' + str(l))\n",
    "plt.legend(loc='best')\n",
    "plt.xlabel('Component 1')\n",
    "plt.ylabel('Component 2')\n",
    "plt.title('y')\n"
   ]
  },
  {
   "cell_type": "code",
   "execution_count": null,
   "metadata": {
    "pycharm": {
     "name": "#%%\n"
    }
   },
   "outputs": [],
   "source": [
    "plt.plot(np.cumsum(pca.explained_variance_ratio_))"
   ]
  },
  {
   "cell_type": "markdown",
   "metadata": {
    "pycharm": {
     "name": "#%% md\n"
    }
   },
   "source": [
    "# Oversampling "
   ]
  },
  {
   "cell_type": "code",
   "execution_count": null,
   "metadata": {
    "pycharm": {
     "name": "#%%\n"
    }
   },
   "outputs": [],
   "source": [
    "def oversample(df, labels, r = 3, strategy = 'same'):\n",
    "    max_size = labels.value_counts().max() \n",
    "    lst = [df]\n",
    "    labels_new = [labels]\n",
    "    for class_index, group in df.groupby(labels):\n",
    "        if strategy == 'same':\n",
    "            n_samples = max_size - len(group)\n",
    "        else:\n",
    "            n_samples = min(int(len(group)*r), max_size - len(group))  \n",
    "        lst.append(group.sample(n_samples, replace=True, random_state = 10))\n",
    "        labels_new.append(pd.Series(n_samples*[class_index]))\n",
    "    frame_new = pd.concat(lst)\n",
    "    labels_new = pd.concat(labels_new)\n",
    "    return(frame_new, labels_new)"
   ]
  },
  {
   "cell_type": "markdown",
   "metadata": {
    "pycharm": {
     "name": "#%% md\n"
    }
   },
   "source": [
    "#  MODELS "
   ]
  },
  {
   "cell_type": "markdown",
   "metadata": {
    "pycharm": {
     "name": "#%% md\n"
    }
   },
   "source": [
    "## Naive Bayes\n"
   ]
  },
  {
   "cell_type": "code",
   "execution_count": null,
   "metadata": {
    "pycharm": {
     "name": "#%%\n"
    }
   },
   "outputs": [],
   "source": [
    "from sklearn.naive_bayes import GaussianNB\n",
    "\n",
    "#Model\n",
    "gnb = GaussianNB()\n",
    "\n",
    "\n",
    "cv_results = cross_validate(gnb,X_train,y_train, return_train_score = True)\n",
    "\n",
    "print('Training cross validation accuracy: %1.3f' % cv_results['train_score'].mean())\n",
    "print('Testing cross validation accuracy: %1.4f' % cv_results['test_score'].mean())"
   ]
  },
  {
   "cell_type": "markdown",
   "metadata": {
    "pycharm": {
     "name": "#%% md\n"
    }
   },
   "source": [
    "## Logistic Regression "
   ]
  },
  {
   "cell_type": "code",
   "execution_count": null,
   "metadata": {
    "pycharm": {
     "name": "#%%\n"
    }
   },
   "outputs": [],
   "source": [
    "#Model\n",
    "logmodel=LogisticRegression()\n",
    "\n",
    "cv_results = cross_validate(logmodel,X_train,y_train, return_train_score = True)\n",
    "\n",
    "print('Training cross validation accuracy: %1.3f' % cv_results['train_score'].mean())\n",
    "print('Testing cross validation accuracy: %1.4f' % cv_results['test_score'].mean())"
   ]
  },
  {
   "cell_type": "markdown",
   "metadata": {
    "pycharm": {
     "name": "#%% md\n"
    }
   },
   "source": [
    "### Oversampling with LogRegression"
   ]
  },
  {
   "cell_type": "code",
   "execution_count": null,
   "metadata": {
    "pycharm": {
     "name": "#%%\n"
    }
   },
   "outputs": [],
   "source": [
    "#oversampling\n",
    "oversample_data,oversample_target= oversample(X_train,y_train,2, strategy = None)\n",
    "\n",
    "#Model\n",
    "logmodel=LogisticRegression()\n",
    "\n",
    "cv_results = cross_validate(logmodel,oversample_data,oversample_target, return_train_score = True)\n",
    "\n",
    "print('Training cross validation accuracy: %1.3f' % cv_results['train_score'].mean())\n",
    "print('Testing cross validation accuracy: %1.4f' % cv_results['test_score'].mean())"
   ]
  },
  {
   "cell_type": "markdown",
   "metadata": {
    "pycharm": {
     "name": "#%% md\n"
    }
   },
   "source": [
    "## KNN "
   ]
  },
  {
   "cell_type": "code",
   "execution_count": null,
   "metadata": {
    "pycharm": {
     "name": "#%%\n"
    }
   },
   "outputs": [],
   "source": [
    "from sklearn.neighbors import KNeighborsClassifier\n",
    "from sklearn.metrics import classification_report\n",
    "\n",
    "\n",
    "#Model\n",
    "neigh = KNeighborsClassifier(n_neighbors=3)\n",
    "\n",
    "cv_results = cross_validate(neigh,X_train,y_train, return_train_score = True)\n",
    "\n",
    "print('Training cross validation accuracy: %1.3f' % cv_results['train_score'].mean())\n",
    "print('Testing cross validation accuracy: %1.4f' % cv_results['test_score'].mean())"
   ]
  },
  {
   "cell_type": "markdown",
   "metadata": {
    "pycharm": {
     "name": "#%% md\n"
    }
   },
   "source": [
    "## SVM "
   ]
  },
  {
   "cell_type": "code",
   "execution_count": null,
   "metadata": {
    "pycharm": {
     "name": "#%%\n"
    }
   },
   "outputs": [],
   "source": [
    "#Effective in high dimensional spaces.\n",
    "#Still effective in cases where number of dimensions is greater than the number of samples.\n",
    "\n",
    "from sklearn import svm\n",
    "\n",
    "#Model\n",
    "model=svm.SVC(kernel='poly',degree=2)\n",
    "\n",
    "\n",
    "cv_results = cross_validate(model,X_train,y_train, return_train_score = True)\n",
    "\n",
    "print('Training cross validation accuracy: %1.3f' % cv_results['train_score'].mean())\n",
    "print('Testing cross validation accuracy: %1.4f' % cv_results['test_score'].mean())"
   ]
  },
  {
   "cell_type": "markdown",
   "metadata": {
    "pycharm": {
     "name": "#%% md\n"
    }
   },
   "source": [
    "\n",
    "\n",
    "## Decision Tree "
   ]
  },
  {
   "cell_type": "code",
   "execution_count": null,
   "metadata": {
    "pycharm": {
     "name": "#%%\n"
    }
   },
   "outputs": [],
   "source": [
    "from sklearn import tree\n",
    "\n",
    "#Model\n",
    "clf = tree.DecisionTreeClassifier(random_state=1)\n",
    "\n",
    "cv_results = cross_validate(clf,X_train,y_train, return_train_score = True)\n",
    "\n",
    "print('Training cross validation accuracy: %1.3f' % cv_results['train_score'].mean())\n",
    "print('Testing cross validation accuracy: %1.4f' % cv_results['test_score'].mean())"
   ]
  },
  {
   "cell_type": "code",
   "execution_count": null,
   "metadata": {
    "pycharm": {
     "name": "#%%\n"
    }
   },
   "outputs": [],
   "source": [
    "#Overfitting"
   ]
  },
  {
   "cell_type": "markdown",
   "metadata": {
    "pycharm": {
     "name": "#%% md\n"
    }
   },
   "source": [
    "## XGBoost "
   ]
  },
  {
   "cell_type": "code",
   "execution_count": null,
   "metadata": {
    "scrolled": true,
    "pycharm": {
     "name": "#%%\n"
    }
   },
   "outputs": [],
   "source": [
    "!pip install xgboost"
   ]
  },
  {
   "cell_type": "code",
   "execution_count": null,
   "metadata": {
    "pycharm": {
     "name": "#%%\n"
    }
   },
   "outputs": [],
   "source": [
    "from xgboost import XGBClassifier"
   ]
  },
  {
   "cell_type": "code",
   "execution_count": null,
   "metadata": {
    "pycharm": {
     "name": "#%%\n"
    }
   },
   "outputs": [],
   "source": [
    "xgb = XGBClassifier(eta = 0.6, gamma = 1 , max_depth = 5, min_child_weight = 3, reg_lambda = 10,objective='binary:logistic')\n",
    "cv_results = cross_validate(xgb,X_train,y_train, return_train_score = True)\n",
    "\n",
    "print('Training cross validation accuracy: %1.3f' % cv_results['train_score'].mean())\n",
    "print('Testing cross validation accuracy: %1.4f' % cv_results['test_score'].mean())"
   ]
  },
  {
   "cell_type": "markdown",
   "metadata": {
    "pycharm": {
     "name": "#%% md\n"
    }
   },
   "source": [
    "## Random Forest"
   ]
  },
  {
   "cell_type": "code",
   "execution_count": null,
   "metadata": {
    "scrolled": true,
    "pycharm": {
     "name": "#%%\n"
    }
   },
   "outputs": [],
   "source": [
    "from sklearn.ensemble import RandomForestClassifier\n",
    "\n",
    "#Model \n",
    "random_model = RandomForestClassifier(n_estimators=200, max_depth=4, random_state=0)\n",
    "\n",
    "cv_results = cross_validate(random_model,X_train,y_train, return_train_score = True)\n",
    "\n",
    "print('Training cross validation accuracy: %1.3f' % cv_results['train_score'].mean())\n",
    "print('Testing cross validation accuracy: %1.4f' % cv_results['test_score'].mean())"
   ]
  },
  {
   "cell_type": "markdown",
   "metadata": {
    "pycharm": {
     "name": "#%% md\n"
    }
   },
   "source": [
    "### Oversampling on RandomForest"
   ]
  },
  {
   "cell_type": "code",
   "execution_count": null,
   "metadata": {
    "pycharm": {
     "name": "#%%\n"
    }
   },
   "outputs": [],
   "source": [
    "#oversampling\n",
    "oversample_data,oversample_target= oversample(X_train,y_train,2, strategy = None)\n",
    "\n",
    "\n",
    "#Model\n",
    "random_model = RandomForestClassifier(bootstrap= False,\n",
    " max_depth= 10,\n",
    " max_features= 10,\n",
    " min_samples_leaf=1,\n",
    " min_samples_split =2,\n",
    " n_estimators= 100,random_state=1)\n",
    "\n",
    "\n",
    "cv_results = cross_validate(random_model,oversample_data,oversample_target, return_train_score = True)\n",
    "\n",
    "print('Training cross validation accuracy: %1.3f' % cv_results['train_score'].mean())\n",
    "print('Testing cross validation accuracy: %1.4f' % cv_results['test_score'].mean())"
   ]
  },
  {
   "cell_type": "code",
   "execution_count": null,
   "metadata": {
    "pycharm": {
     "name": "#%%\n"
    }
   },
   "outputs": [],
   "source": [
    "## With the previous results, the models with the highest accuracy and best potential are XGboost and Random Forest "
   ]
  },
  {
   "cell_type": "markdown",
   "metadata": {
    "pycharm": {
     "name": "#%% md\n"
    }
   },
   "source": [
    "### Parameter tunning with Grid search: Random Forest "
   ]
  },
  {
   "cell_type": "code",
   "execution_count": null,
   "metadata": {
    "pycharm": {
     "name": "#%%\n"
    }
   },
   "outputs": [],
   "source": [
    "from sklearn.model_selection import GridSearchCV\n",
    "\n",
    "param_grid = {\n",
    "    'bootstrap': [False],\n",
    "    'max_depth': [5,20,70],\n",
    "    'max_features': [40,50,70],\n",
    "    'min_samples_leaf': [3, 4, 5],\n",
    "    'min_samples_split': [3,4,5],\n",
    "    'n_estimators': [50, 80, 100, 300]\n",
    "}\n",
    "\n",
    "model = RandomForestClassifier(random_state = 10)\n",
    "\n",
    "rf_grid = GridSearchCV(estimator = model, param_grid = param_grid, verbose=2, n_jobs = -1, cv=3)\n",
    "\n",
    "rf_grid.fit(X_train,y_train)"
   ]
  },
  {
   "cell_type": "code",
   "execution_count": null,
   "metadata": {
    "pycharm": {
     "name": "#%%\n"
    }
   },
   "outputs": [],
   "source": [
    "rf_grid.best_params_"
   ]
  },
  {
   "cell_type": "code",
   "execution_count": null,
   "metadata": {
    "pycharm": {
     "name": "#%%\n"
    }
   },
   "outputs": [],
   "source": [
    "rf_grid.best_score_"
   ]
  },
  {
   "cell_type": "markdown",
   "metadata": {
    "pycharm": {
     "name": "#%% md\n"
    }
   },
   "source": [
    "## Feature selection with RFECV "
   ]
  },
  {
   "cell_type": "code",
   "execution_count": null,
   "metadata": {
    "pycharm": {
     "name": "#%%\n"
    }
   },
   "outputs": [],
   "source": [
    "#RFESV \n",
    "from sklearn.model_selection import StratifiedKFold\n",
    "from sklearn.feature_selection import RFECV\n",
    "from sklearn.datasets import make_classification\n",
    "\n",
    "#Model \n",
    "random_model = RandomForestClassifier(random_state=1)\n",
    "random_model.fit(X_train,y_train)\n",
    "\n",
    "\n",
    "# Create the RFE object and compute a cross-validated score.\n",
    "#Model \n",
    "random_model = RandomForestClassifier(random_state=1)\n",
    "\n",
    "# The \"accuracy\" scoring is proportional to the number of correct\n",
    "# classifications\n",
    "rfecv = RFECV(estimator=random_model, step=1, cv=5, scoring='accuracy',verbose=20)\n",
    "rfecv = rfecv.fit(X_train,y_train)\n",
    "\n",
    "print(\"Optimal number of features : %d\" % rfecv.n_features_)\n",
    "\n",
    "# Plot number of features VS. cross-validation scores\n",
    "plt.figure()\n",
    "plt.xlabel(\"Number of features selected\")\n",
    "plt.ylabel(\"Cross validation score (nb of correct classifications)\")\n",
    "plt.plot(range(1, len(rfecv.grid_scores_) + 1), rfecv.grid_scores_)\n",
    "plt.show()"
   ]
  },
  {
   "cell_type": "code",
   "execution_count": null,
   "metadata": {
    "pycharm": {
     "name": "#%%\n"
    }
   },
   "outputs": [],
   "source": [
    "# Optimal number of features: 67 "
   ]
  },
  {
   "cell_type": "markdown",
   "metadata": {
    "pycharm": {
     "name": "#%% md\n"
    }
   },
   "source": [
    "### Feature selection on Random Forest "
   ]
  },
  {
   "cell_type": "code",
   "execution_count": null,
   "metadata": {
    "pycharm": {
     "name": "#%%\n"
    }
   },
   "outputs": [],
   "source": [
    "from sklearn.model_selection import cross_val_score\n",
    "new_cols = train_binary.columns[np.where(rfecv.support_)]\n",
    "\n",
    "#Model \n",
    "random_model = RandomForestClassifier(bootstrap = False, random_state=1)\n",
    "\n",
    "\n",
    "print(cross_val_score(random_model,X_train[new_cols],y_train).mean())"
   ]
  },
  {
   "cell_type": "code",
   "execution_count": null,
   "metadata": {
    "pycharm": {
     "name": "#%%\n"
    }
   },
   "outputs": [],
   "source": [
    "#Model \n",
    "random_model = RandomForestClassifier(bootstrap= False,\n",
    " max_depth= 20,\n",
    " max_features= 40,\n",
    " min_samples_leaf=3,\n",
    " min_samples_split =3,\n",
    " n_estimators= 300,random_state=1)\n",
    "\n",
    "print(cross_val_score(random_model,X_train[new_cols],y_train).mean())"
   ]
  },
  {
   "cell_type": "markdown",
   "metadata": {
    "pycharm": {
     "name": "#%% md\n"
    }
   },
   "source": [
    "## Feature selection using mutual information"
   ]
  },
  {
   "cell_type": "code",
   "execution_count": null,
   "metadata": {
    "pycharm": {
     "name": "#%%\n"
    }
   },
   "outputs": [],
   "source": [
    "\"\"\" Feature selection using mutual information criteria then in-model feature importance\"\"\"\n",
    "from sklearn.feature_selection import SelectKBest, mutual_info_classif, SelectFromModel\n",
    "from sklearn.model_selection import cross_validate\n",
    "\n",
    "def mi_classif_random(X,y):\n",
    "    discrete = np.where(np.sum(X * (1-X) != 0, axis = 0)==0)\n",
    "    return(mutual_info_classif(X,y, random_state = 1, discrete_features = discrete))\n",
    "    \n",
    "mi_selector = SelectKBest(mi_classif)\n",
    "mi_selector.fit(X_train,y_train)\n",
    "\n",
    "thresh = np.linspace(0.01, 0.08, 200)\n",
    "scores = []\n",
    "\n",
    "for i in range(200):\n",
    "    \n",
    "    if i%10 == 0:\n",
    "        print('Iteration ', i)\n",
    "        \n",
    "    t = thresh[i]\n",
    "    \n",
    "    cols = X_train.columns[np.where(mi_selector.scores_ > t)]\n",
    "\n",
    "    random_model = RandomForestClassifier(bootstrap = False, random_state=1)\n",
    "\n",
    "    selector = SelectFromModel(random_model, threshold = 'mean')\n",
    "    selector.fit(X_train[cols], y_train)\n",
    "\n",
    "    train_X = selector.transform(X_train[cols])\n",
    "\n",
    "    cv_results = cross_validate(random_model,train_X,y_train, return_train_score = True)\n",
    "    \n",
    "    scores.append(cv_results['test_score'].mean())\n",
    "    \n",
    "plt.plot(thresh, scores)\n",
    "plt.show()\n",
    "\n",
    "t = thresh[np.argmax(np.array(scores))]\n",
    "\n",
    "print('Best threshold: ', t)\n",
    "    \n",
    "\n",
    "#print('Training cross validation accuracy: %1.3f' % cv_results['train_score'].mean())\n",
    "#print('Testing cross validation accuracy: %1.4f' % cv_results['test_score'].mean())"
   ]
  },
  {
   "cell_type": "code",
   "execution_count": null,
   "metadata": {
    "scrolled": true,
    "pycharm": {
     "name": "#%%\n"
    }
   },
   "outputs": [],
   "source": [
    "cols = X_train.columns[np.where(mi_selector.scores_ > 0.029)]\n",
    "\n",
    "random_model = RandomForestClassifier(bootstrap = False, \n",
    "                                      random_state=1)\n",
    "\n",
    "selector = SelectFromModel(random_model, threshold = 'mean')\n",
    "selector.fit(X_train[cols], y_train)\n",
    "\n",
    "train_X = selector.transform(X_train[cols])\n",
    "\n",
    "random_model = RandomForestClassifier(bootstrap = False,  random_state=1)\n",
    "\n",
    "print(train_X.shape)\n",
    "\n",
    "cv_results = cross_validate(random_model,train_X,y_train, return_train_score = True)\n",
    "\n",
    "print('Training cross validation accuracy: %1.3f' % cv_results['train_score'].mean())\n",
    "print('Testing cross validation accuracy: %1.4f' % cv_results['test_score'].mean())"
   ]
  },
  {
   "cell_type": "code",
   "execution_count": null,
   "metadata": {
    "pycharm": {
     "name": "#%%\n"
    }
   },
   "outputs": [],
   "source": [
    "cols[selector.get_support()]"
   ]
  },
  {
   "cell_type": "markdown",
   "metadata": {
    "pycharm": {
     "name": "#%% md\n"
    }
   },
   "source": [
    "### Grid Search on RandomForest model using the previous columns cols "
   ]
  },
  {
   "cell_type": "code",
   "execution_count": null,
   "metadata": {
    "pycharm": {
     "name": "#%%\n"
    }
   },
   "outputs": [],
   "source": [
    "\n",
    "random_model = RandomForestClassifier(random_state=1)\n",
    "\n",
    "param_grid = {\n",
    "    'bootstrap': [True, False],\n",
    "    'max_depth': [10,20,30,50, None],\n",
    "    'max_features': [10,20,25,'auto'],\n",
    "    'min_samples_leaf': [1,3, 6, 9],\n",
    "    'min_samples_split': [2,3,6,9],\n",
    "    'n_estimators': [80,100,200]\n",
    "}\n",
    "\n",
    "model = RandomForestClassifier(random_state = 1)\n",
    "\n",
    "rf_grid = GridSearchCV(estimator = model, param_grid = param_grid, verbose=2, n_jobs = -1, cv=5)\n",
    "\n",
    "rf_grid.fit(train_X, y_train)  "
   ]
  },
  {
   "cell_type": "code",
   "execution_count": null,
   "metadata": {
    "pycharm": {
     "name": "#%%\n"
    }
   },
   "outputs": [],
   "source": [
    "rf_grid.best_params_"
   ]
  },
  {
   "cell_type": "code",
   "execution_count": null,
   "metadata": {
    "pycharm": {
     "name": "#%%\n"
    }
   },
   "outputs": [],
   "source": [
    "rf_grid.best_score_"
   ]
  },
  {
   "cell_type": "code",
   "execution_count": null,
   "metadata": {
    "pycharm": {
     "name": "#%%\n"
    }
   },
   "outputs": [],
   "source": [
    "#Model using cols and the previous tuned hyper-paramters \n",
    "random_model = RandomForestClassifier(bootstrap= False,\n",
    " max_depth= 10,\n",
    " max_features= 10,\n",
    " min_samples_leaf=1,\n",
    " min_samples_split =2,\n",
    " n_estimators= 100,random_state=1)\n",
    "\n",
    "\n",
    "cv_results = cross_validate(random_model,train_X,y_train, return_train_score = True)\n",
    "\n",
    "print('Training cross validation accuracy: %1.3f' % cv_results['train_score'].mean())\n",
    "print('Testing cross validation accuracy: %1.4f' % cv_results['test_score'].mean())"
   ]
  },
  {
   "cell_type": "markdown",
   "metadata": {
    "pycharm": {
     "name": "#%% md\n"
    }
   },
   "source": [
    "### Grid search with more precise hyper parameters"
   ]
  },
  {
   "cell_type": "code",
   "execution_count": null,
   "metadata": {
    "pycharm": {
     "name": "#%%\n"
    }
   },
   "outputs": [],
   "source": [
    "\n",
    "param_grid = {\n",
    "    'max_depth': [6,8,9,10,11,12,None],\n",
    "    'max_features': [5,7,9,10,12,14],\n",
    "    'min_samples_leaf': [1,2],\n",
    "    'min_samples_split': [2,3],\n",
    "    'n_estimators': [80,90,100,110,120,150]\n",
    "}\n",
    "\n",
    "model = RandomForestClassifier(bootstrap = False, random_state = 1)\n",
    "\n",
    "rf_grid = GridSearchCV(estimator = model, param_grid = param_grid, verbose=2, n_jobs = -1, cv=5)\n",
    "\n",
    "rf_grid.fit(train_X, y_train)  "
   ]
  },
  {
   "cell_type": "code",
   "execution_count": null,
   "metadata": {
    "pycharm": {
     "name": "#%%\n"
    }
   },
   "outputs": [],
   "source": [
    "rf_grid.best_params_"
   ]
  },
  {
   "cell_type": "code",
   "execution_count": null,
   "metadata": {
    "pycharm": {
     "name": "#%%\n"
    }
   },
   "outputs": [],
   "source": [
    "rf_grid.best_score_"
   ]
  },
  {
   "cell_type": "code",
   "execution_count": null,
   "metadata": {
    "pycharm": {
     "name": "#%%\n"
    }
   },
   "outputs": [],
   "source": [
    "random_model = RandomForestClassifier(bootstrap= False,\n",
    " max_depth= 10,\n",
    " max_features= 10,\n",
    " min_samples_leaf=1,\n",
    " min_samples_split =2,\n",
    " n_estimators= 100,random_state=1)\n",
    "\n",
    "\n",
    "cv_results = cross_validate(random_model,train_X,y_train, return_train_score = True)\n",
    "\n",
    "print('Training cross validation accuracy: %1.3f' % cv_results['train_score'].mean())\n",
    "print('Testing cross validation accuracy: %1.4f' % cv_results['test_score'].mean())"
   ]
  },
  {
   "cell_type": "code",
   "execution_count": null,
   "metadata": {
    "pycharm": {
     "name": "#%%\n"
    }
   },
   "outputs": [],
   "source": [
    "# No real change to the test cv accuracy >> I choose to stick to these hyper-parameters "
   ]
  },
  {
   "cell_type": "markdown",
   "metadata": {
    "pycharm": {
     "name": "#%% md\n"
    }
   },
   "source": [
    "## Testing the final binary classification model"
   ]
  },
  {
   "cell_type": "code",
   "execution_count": null,
   "metadata": {
    "pycharm": {
     "name": "#%%\n"
    }
   },
   "outputs": [],
   "source": [
    "\n",
    "#other parameters by default \n",
    "random_model = RandomForestClassifier(bootstrap= False,\n",
    " max_depth= 10,\n",
    " max_features= 10,random_state=1)\n",
    "\n",
    "\n",
    "#Converting to df \n",
    "df_train = pd.DataFrame(train_X, columns = cols[selector.get_support()].tolist())\n",
    "\n",
    "X_test = selector.transform(y_train[cols])\n",
    "df_test = pd.DataFrame(X_test, columns = cols[selector.get_support()].tolist())\n",
    "df_test.index = y_test.index\n",
    "\n",
    "#Model fitting and predicting \n",
    "random_model.fit(df_train, y_train)\n",
    "\n",
    "y_pred = random_model.predict(df_test)\n",
    "y_pred = pd.Series(y_pred)\n",
    "y_pred.index = y_test.index\n",
    "\n",
    "print(classification_report(y_test,y_pred))\n",
    "confusion_matrix(y_test, y_pred)"
   ]
  },
  {
   "cell_type": "markdown",
   "metadata": {
    "pycharm": {
     "name": "#%% md\n"
    }
   },
   "source": [
    "### Learning curve"
   ]
  },
  {
   "cell_type": "code",
   "execution_count": null,
   "metadata": {
    "pycharm": {
     "name": "#%%\n"
    }
   },
   "outputs": [],
   "source": [
    "from sklearn.model_selection import learning_curve\n",
    "\n",
    "\n",
    "#Model\n",
    "random_model = RandomForestClassifier(bootstrap= False,\n",
    " max_depth= 10,\n",
    " max_features= 10,random_state=1)\n",
    "\n",
    "sizes, train_scores, test_scores = learning_curve(random_model,train_X, y_train)\n",
    "\n",
    "plt.figure()\n",
    "plt.plot(sizes, np.mean(train_scores, axis = 1), label = 'Training curve')\n",
    "plt.plot(sizes, np.mean(test_scores, axis = 1), label = 'Testing curve')\n",
    "plt.title('Learning curve')\n",
    "plt.xlabel('Data')\n",
    "plt.ylabel('Accuracy')\n",
    "plt.ylim(0,1.1)\n",
    "plt.legend(loc='best')\n",
    "plt.show()"
   ]
  },
  {
   "cell_type": "markdown",
   "metadata": {
    "pycharm": {
     "name": "#%% md\n"
    }
   },
   "source": [
    "## Shap visualizations "
   ]
  },
  {
   "cell_type": "code",
   "execution_count": null,
   "metadata": {
    "pycharm": {
     "name": "#%%\n"
    }
   },
   "outputs": [],
   "source": [
    "feature_stat = pd.concat([df_train.mean(), df_train.std()], axis = 1)\n",
    "feature_stat.columns = ['mean','std']\n",
    "feature_stat"
   ]
  },
  {
   "cell_type": "markdown",
   "metadata": {
    "pycharm": {
     "name": "#%% md\n"
    }
   },
   "source": [
    "## Visualize the features leading to false negatives using SHAP  "
   ]
  },
  {
   "cell_type": "code",
   "execution_count": null,
   "metadata": {
    "pycharm": {
     "name": "#%%\n"
    }
   },
   "outputs": [],
   "source": [
    "#shap \n",
    "import shap\n",
    "from sklearn.ensemble import RandomForestClassifier\n",
    "\n",
    "random_model = RandomForestClassifier(bootstrap= False,\n",
    " max_depth= 10,\n",
    " max_features= 10,random_state=1)\n",
    "\n",
    "random_model.fit(df_train, y_train)\n",
    "\n",
    "explainer = shap.TreeExplainer(random_model)\n",
    "shap_values = explainer.shap_values(df_train, y = y_train, check_additivity = False)\n",
    "shap.summary_plot(shap_values[1], df_train)"
   ]
  },
  {
   "cell_type": "code",
   "execution_count": null,
   "metadata": {
    "pycharm": {
     "name": "#%%\n"
    }
   },
   "outputs": [],
   "source": [
    "test_shap_values = explainer.shap_values(df_test, y = y_test, check_additivity = False)\n",
    "\n",
    "df_shap = pd.DataFrame(test_shap_values[1])\n",
    "df_shap.index = df_test.index\n",
    "\n",
    "#false negatives \n",
    "index = df_test[(y_pred == 0) & (y_test == 1)].index.tolist()\n",
    "\n",
    "i = index[9]\n",
    " \n",
    "print(\"Real target value: \", y_test.loc[i])\n",
    "feature_names = list(map(str,df_train.columns.tolist()))\n",
    "shap.force_plot(explainer.expected_value[1], df_shap.loc[i,:].values, df_test.loc[i,:].values , feature_names = feature_names,  matplotlib = True)"
   ]
  },
  {
   "cell_type": "code",
   "execution_count": null,
   "metadata": {
    "pycharm": {
     "name": "#%%\n"
    }
   },
   "outputs": [],
   "source": [
    "shap.initjs()\n",
    "\n",
    "# True Positive and False Positive for label 1:\n",
    "TP    = df_test[(y_pred == 1) & (y_test == 1)].index.tolist()\n",
    "FP    = df_test[(y_pred == 1) & (y_test == 0)].index.tolist()\n",
    "\n",
    "# Explaining a True Positive example:\n",
    "x  = df_test.loc[TP[2],:]\n",
    "\n",
    "explainer = shap.TreeExplainer(random_model, df_train)\n",
    "\n",
    "TP_TN = df_test[y_pred == y_test].index.tolist()\n",
    "shap_values = explainer.shap_values(df_test.loc[TP_TN,:], check_additivity=False)\n",
    "shap.force_plot(explainer.expected_value[1], shap_values[1],df_test.loc[TP_TN,:],feature_names=df_train.columns)\n"
   ]
  },
  {
   "cell_type": "code",
   "execution_count": null,
   "metadata": {
    "pycharm": {
     "name": "#%%\n"
    }
   },
   "outputs": [],
   "source": [
    "# With this plot we gather every information we could've had with the previous ones. "
   ]
  },
  {
   "cell_type": "markdown",
   "metadata": {
    "pycharm": {
     "name": "#%% md\n"
    }
   },
   "source": [
    "# XGBoost "
   ]
  },
  {
   "cell_type": "markdown",
   "metadata": {
    "pycharm": {
     "name": "#%% md\n"
    }
   },
   "source": [
    "### With feature selection"
   ]
  },
  {
   "cell_type": "code",
   "execution_count": null,
   "metadata": {
    "pycharm": {
     "name": "#%%\n"
    }
   },
   "outputs": [],
   "source": [
    "xgb = XGBClassifier(eta = 0.3, gamma = 1.2 , max_depth = 4, objective='binary:logistic', min_child_weight = 3, reg_lambda = 12, subsample=1,scale_pos_weight=1.9\n",
    "                   )\n",
    "cv_results = cross_validate(xgb,df_train,y_train, return_train_score = True)\n",
    "\n",
    "print('Training cross validation accuracy: %1.3f' % cv_results['train_score'].mean())\n",
    "print('Testing cross validation accuracy: %1.4f' % cv_results['test_score'].mean())"
   ]
  },
  {
   "cell_type": "markdown",
   "metadata": {
    "pycharm": {
     "name": "#%% md\n"
    }
   },
   "source": [
    "### On the test set"
   ]
  },
  {
   "cell_type": "code",
   "execution_count": null,
   "metadata": {
    "pycharm": {
     "name": "#%%\n"
    }
   },
   "outputs": [],
   "source": [
    "xgb = XGBClassifier(eta = 0.3, gamma = 1.2 , max_depth = 4, min_child_weight = 3, reg_lambda = 12)\n",
    "xgb.fit(df_train, y_train)\n",
    "preds = xgb.predict(df_test)\n",
    "acc_xgb = (preds == y_test).sum().astype(float) / len(preds)*100\n",
    "print(\"XGBoost's prediction accuracy is: %3.2f\" % (acc_xgb))"
   ]
  },
  {
   "cell_type": "markdown",
   "metadata": {
    "pycharm": {
     "name": "#%% md\n"
    }
   },
   "source": [
    "## Grid search for XGBoost "
   ]
  },
  {
   "cell_type": "code",
   "execution_count": null,
   "metadata": {
    "pycharm": {
     "name": "#%%\n"
    }
   },
   "outputs": [],
   "source": [
    "from sklearn.model_selection import GridSearchCV\n",
    "\n",
    "param_grid = {\n",
    "    'eta' : [0.80,1],\n",
    "    'gamma' : [0.3,0.8,1.2,1.3], \n",
    "    'max_depth': [2,4,5], \n",
    "    'min_child_weight' : [3,3.3,3.5], \n",
    "    'reg_lambda' : [1,5,8,12],\n",
    "    'subsample':[0.85,1],\n",
    "    'scale_pos_weight':[1,1.4,1.6]\n",
    "}\n",
    "\n",
    "model = XGBClassifier()\n",
    "\n",
    "rf_grid = GridSearchCV(estimator = model, param_grid = param_grid, verbose=2, n_jobs = -1, cv=5)\n",
    "\n",
    "rf_grid.fit(df_train, y_train)"
   ]
  },
  {
   "cell_type": "code",
   "execution_count": null,
   "metadata": {
    "pycharm": {
     "name": "#%%\n"
    }
   },
   "outputs": [],
   "source": [
    "rf_grid.best_params_"
   ]
  },
  {
   "cell_type": "code",
   "execution_count": null,
   "metadata": {
    "pycharm": {
     "name": "#%%\n"
    }
   },
   "outputs": [],
   "source": [
    "rf_grid.best_score_"
   ]
  },
  {
   "cell_type": "code",
   "execution_count": null,
   "metadata": {
    "pycharm": {
     "name": "#%%\n"
    }
   },
   "outputs": [],
   "source": [
    "xgb = XGBClassifier(eta = 0.1, gamma = 0.5 , max_depth = 2, objective='binary:logistic', min_child_weight = 3.3, reg_lambda = 1, subsample=1,scale_pos_weight=1.4\n",
    "                   )\n",
    "cv_results = cross_validate(xgb,df_train,y_train, return_train_score = True)\n",
    "\n",
    "print('Training cross validation accuracy: %1.3f' % cv_results['train_score'].mean())\n",
    "print('Testing cross validation accuracy: %1.4f' % cv_results['test_score'].mean())"
   ]
  },
  {
   "cell_type": "code",
   "execution_count": null,
   "metadata": {
    "pycharm": {
     "name": "#%%\n"
    }
   },
   "outputs": [],
   "source": [
    "xgb = XGBClassifier(eta = 0.1, gamma = 0.5 , max_depth = 2, objective='binary:logistic', min_child_weight = 3.3, reg_lambda = 1, subsample=1,scale_pos_weight=1.4\n",
    "                   )\n",
    "xgb.fit(df_train, y_train)\n",
    "preds = xgb.predict(df_test)\n",
    "acc_xgb = (preds == y_test).sum().astype(float) / len(preds)*100\n",
    "print(\"XGBoost's prediction accuracy is: %3.2f\" % (acc_xgb))"
   ]
  },
  {
   "cell_type": "code",
   "execution_count": null,
   "metadata": {
    "pycharm": {
     "name": "#%%\n"
    }
   },
   "outputs": [],
   "source": [
    "# Better accuracy on the testing set using manually-selected parameters\n",
    "#The issue is still the same: the size of the test set is too small \n",
    "#supposing we have almost 0.5 chance of predicting 1, the confidence interval is around 0.1 which is very high "
   ]
  }
 ],
 "metadata": {
  "kernelspec": {
   "display_name": "Python 3",
   "language": "python",
   "name": "python3"
  },
  "language_info": {
   "codemirror_mode": {
    "name": "ipython",
    "version": 3
   },
   "file_extension": ".py",
   "mimetype": "text/x-python",
   "name": "python",
   "nbconvert_exporter": "python",
   "pygments_lexer": "ipython3",
   "version": "3.7.3"
  }
 },
 "nbformat": 4,
 "nbformat_minor": 2
}