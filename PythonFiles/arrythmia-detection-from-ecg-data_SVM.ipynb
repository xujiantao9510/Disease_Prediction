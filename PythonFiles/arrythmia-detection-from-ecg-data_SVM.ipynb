{
 "cells": [
  {
   "cell_type": "code",
   "execution_count": 1,
   "metadata": {
    "_cell_guid": "b1076dfc-b9ad-4769-8c92-a6c4dae69d19",
    "_uuid": "8f2839f25d086af736a60e9eeb907d3b93b6e0e5",
    "execution": {
     "iopub.execute_input": "2021-01-21T19:49:26.394340Z",
     "iopub.status.busy": "2021-01-21T19:49:26.393248Z",
     "iopub.status.idle": "2021-01-21T19:49:27.757477Z",
     "shell.execute_reply": "2021-01-21T19:49:27.757991Z"
    },
    "papermill": {
     "duration": 1.402103,
     "end_time": "2021-01-21T19:49:27.758174",
     "exception": false,
     "start_time": "2021-01-21T19:49:26.356071",
     "status": "completed"
    },
    "tags": [],
    "pycharm": {
     "name": "#%%\n"
    }
   },
   "outputs": [],
   "source": [
    "from mpl_toolkits.mplot3d import Axes3D\n",
    "from sklearn.preprocessing import StandardScaler\n",
    "import matplotlib.pyplot as plt # plotting\n",
    "import numpy as np # linear algebra\n",
    "import os # accessing directory structure\n",
    "import pandas as pd # data processing, CSV file I/O (e.g. pd.read_csv)\n",
    "from sklearn.model_selection import train_test_split\n",
    "from sklearn.preprocessing import MinMaxScaler\n",
    "from sklearn.linear_model import LogisticRegression\n",
    "from sklearn.neighbors import KNeighborsClassifier\n",
    "from sklearn.tree import DecisionTreeClassifier\n",
    "from sklearn.ensemble import RandomForestClassifier\n",
    "from sklearn.naive_bayes import GaussianNB\n",
    "from sklearn.metrics import roc_auc_score, roc_curve, accuracy_score, confusion_matrix\n",
    "plt.style.use(\"fivethirtyeight\")\n",
    "colors = [\"Teal\",\"Indigo\",\"HotPink\",\"DarkGoldenRod\",\"Coral\"]"
   ]
  },
  {
   "cell_type": "markdown",
   "metadata": {
    "papermill": {
     "duration": 0.038612,
     "end_time": "2021-01-21T19:49:27.829337",
     "exception": false,
     "start_time": "2021-01-21T19:49:27.790725",
     "status": "completed"
    },
    "tags": [],
    "pycharm": {
     "name": "#%% md\n"
    }
   },
   "source": [
    "Data is prepared as it has been provided by Bülent Esen's notebook https://www.kaggle.com/bulentesen/cardiac-arrythmia-naive-bayes-v2 who is the publisher of the dataset. No further data preparation besides the ones in cell 8 were not pursued since the data preparataion should be at it's best under the owner's own usage."
   ]
  },
  {
   "cell_type": "code",
   "execution_count": 2,
   "metadata": {
    "_cell_guid": "79c7e3d0-c299-4dcb-8224-4455121ee9b0",
    "_uuid": "d629ff2d2480ee46fbb7e2d37f6b5fab8052498a",
    "execution": {
     "iopub.execute_input": "2021-01-21T19:49:27.941984Z",
     "iopub.status.busy": "2021-01-21T19:49:27.941220Z",
     "iopub.status.idle": "2021-01-21T19:49:27.956636Z",
     "shell.execute_reply": "2021-01-21T19:49:27.955825Z"
    },
    "papermill": {
     "duration": 0.071089,
     "end_time": "2021-01-21T19:49:27.956797",
     "exception": false,
     "start_time": "2021-01-21T19:49:27.885708",
     "status": "completed"
    },
    "tags": [],
    "pycharm": {
     "name": "#%%\n"
    }
   },
   "outputs": [
    {
     "name": "stdout",
     "output_type": "stream",
     "text": [
      "['$RECYCLE.BIN', 'apache-jmeter-5.5', 'Files', 'kali-linux-2022.3-installer-amd64.iso', 'Student-Management-System-in-Python-main', 'System Volume Information', 'Users', 'Windows10 x64(19045.2075).ISO', 'XuJiantao', '福昕高级PDF编辑器免安装已激活', '虚拟机VMware 15.5.0']\n"
     ]
    }
   ],
   "source": [
    "print(os.listdir('/'))"
   ]
  },
  {
   "cell_type": "markdown",
   "metadata": {
    "papermill": {
     "duration": 0.03271,
     "end_time": "2021-01-21T19:49:28.028889",
     "exception": false,
     "start_time": "2021-01-21T19:49:27.996179",
     "status": "completed"
    },
    "tags": [],
    "pycharm": {
     "name": "#%% md\n"
    }
   },
   "source": [
    "Data is a .CSV file which contains all the possible instructions that can be obtained from ECG readings. However some of the columns have unreliable data (nulls and just vectors of singular values to be exact). So the owner of the dataset seems to drop these columns not applying any interpolation implementation. So, this notebook doesn't follow any interpolation measure either."
   ]
  },
  {
   "cell_type": "code",
   "execution_count": 3,
   "metadata": {
    "execution": {
     "iopub.execute_input": "2021-01-21T19:49:28.099026Z",
     "iopub.status.busy": "2021-01-21T19:49:28.097998Z",
     "iopub.status.idle": "2021-01-21T19:49:28.151921Z",
     "shell.execute_reply": "2021-01-21T19:49:28.152469Z"
    },
    "papermill": {
     "duration": 0.090754,
     "end_time": "2021-01-21T19:49:28.152641",
     "exception": false,
     "start_time": "2021-01-21T19:49:28.061887",
     "status": "completed"
    },
    "tags": [],
    "pycharm": {
     "name": "#%%\n"
    }
   },
   "outputs": [],
   "source": [
    "df = pd.read_csv('data_arrhythmia.csv', delimiter=';')"
   ]
  },
  {
   "cell_type": "code",
   "execution_count": 4,
   "outputs": [],
   "source": [
    "columns_to_replace = ['T', 'P', 'QRST(ms)', 'J', 'heart_rate(bpm)']\n",
    "for col in columns_to_replace:\n",
    "    df[col].replace('?', -1, inplace=True)"
   ],
   "metadata": {
    "collapsed": false,
    "pycharm": {
     "name": "#%%\n"
    }
   }
  },
  {
   "cell_type": "code",
   "execution_count": 5,
   "metadata": {
    "execution": {
     "iopub.execute_input": "2021-01-21T19:49:28.230755Z",
     "iopub.status.busy": "2021-01-21T19:49:28.229726Z",
     "iopub.status.idle": "2021-01-21T19:49:28.263245Z",
     "shell.execute_reply": "2021-01-21T19:49:28.263924Z"
    },
    "papermill": {
     "duration": 0.077554,
     "end_time": "2021-01-21T19:49:28.264067",
     "exception": false,
     "start_time": "2021-01-21T19:49:28.186513",
     "status": "completed"
    },
    "tags": [],
    "pycharm": {
     "name": "#%%\n"
    }
   },
   "outputs": [
    {
     "data": {
      "text/plain": "   age  sex  height  weight  qrs_duration(ms)  p-r_interval(ms)  q-t_interval  \\\n0   75    0     190      80                91               193           371   \n1   56    1     165      64                81               174           401   \n2   54    0     172      95               138               163           386   \n3   55    0     175      94               100               202           380   \n4   75    0     190      80                88               181           360   \n\n   t_interval  p_interval  qrs  ...   KY    KZ   LA   LB LC   LD   LE    LF  \\\n0         174         121  -16  ...  0.0   9.0 -0.9  0.0  0  0.9  2.9  23.3   \n1         149          39   25  ...  0.0   8.5  0.0  0.0  0  0.2  2.1  20.4   \n2         185         102   96  ...  0.0   9.5 -2.4  0.0  0  0.3  3.4  12.3   \n3         179         143   28  ...  0.0  12.2 -2.2  0.0  0  0.4  2.6  34.6   \n4         177         103  -16  ...  0.0  13.1 -3.6  0.0  0 -0.1  3.9  25.4   \n\n     LG  diagnosis  \n0  49.4          8  \n1  38.8          6  \n2  49.0         10  \n3  61.6          1  \n4  62.8          7  \n\n[5 rows x 280 columns]",
      "text/html": "<div>\n<style scoped>\n    .dataframe tbody tr th:only-of-type {\n        vertical-align: middle;\n    }\n\n    .dataframe tbody tr th {\n        vertical-align: top;\n    }\n\n    .dataframe thead th {\n        text-align: right;\n    }\n</style>\n<table border=\"1\" class=\"dataframe\">\n  <thead>\n    <tr style=\"text-align: right;\">\n      <th></th>\n      <th>age</th>\n      <th>sex</th>\n      <th>height</th>\n      <th>weight</th>\n      <th>qrs_duration(ms)</th>\n      <th>p-r_interval(ms)</th>\n      <th>q-t_interval</th>\n      <th>t_interval</th>\n      <th>p_interval</th>\n      <th>qrs</th>\n      <th>...</th>\n      <th>KY</th>\n      <th>KZ</th>\n      <th>LA</th>\n      <th>LB</th>\n      <th>LC</th>\n      <th>LD</th>\n      <th>LE</th>\n      <th>LF</th>\n      <th>LG</th>\n      <th>diagnosis</th>\n    </tr>\n  </thead>\n  <tbody>\n    <tr>\n      <th>0</th>\n      <td>75</td>\n      <td>0</td>\n      <td>190</td>\n      <td>80</td>\n      <td>91</td>\n      <td>193</td>\n      <td>371</td>\n      <td>174</td>\n      <td>121</td>\n      <td>-16</td>\n      <td>...</td>\n      <td>0.0</td>\n      <td>9.0</td>\n      <td>-0.9</td>\n      <td>0.0</td>\n      <td>0</td>\n      <td>0.9</td>\n      <td>2.9</td>\n      <td>23.3</td>\n      <td>49.4</td>\n      <td>8</td>\n    </tr>\n    <tr>\n      <th>1</th>\n      <td>56</td>\n      <td>1</td>\n      <td>165</td>\n      <td>64</td>\n      <td>81</td>\n      <td>174</td>\n      <td>401</td>\n      <td>149</td>\n      <td>39</td>\n      <td>25</td>\n      <td>...</td>\n      <td>0.0</td>\n      <td>8.5</td>\n      <td>0.0</td>\n      <td>0.0</td>\n      <td>0</td>\n      <td>0.2</td>\n      <td>2.1</td>\n      <td>20.4</td>\n      <td>38.8</td>\n      <td>6</td>\n    </tr>\n    <tr>\n      <th>2</th>\n      <td>54</td>\n      <td>0</td>\n      <td>172</td>\n      <td>95</td>\n      <td>138</td>\n      <td>163</td>\n      <td>386</td>\n      <td>185</td>\n      <td>102</td>\n      <td>96</td>\n      <td>...</td>\n      <td>0.0</td>\n      <td>9.5</td>\n      <td>-2.4</td>\n      <td>0.0</td>\n      <td>0</td>\n      <td>0.3</td>\n      <td>3.4</td>\n      <td>12.3</td>\n      <td>49.0</td>\n      <td>10</td>\n    </tr>\n    <tr>\n      <th>3</th>\n      <td>55</td>\n      <td>0</td>\n      <td>175</td>\n      <td>94</td>\n      <td>100</td>\n      <td>202</td>\n      <td>380</td>\n      <td>179</td>\n      <td>143</td>\n      <td>28</td>\n      <td>...</td>\n      <td>0.0</td>\n      <td>12.2</td>\n      <td>-2.2</td>\n      <td>0.0</td>\n      <td>0</td>\n      <td>0.4</td>\n      <td>2.6</td>\n      <td>34.6</td>\n      <td>61.6</td>\n      <td>1</td>\n    </tr>\n    <tr>\n      <th>4</th>\n      <td>75</td>\n      <td>0</td>\n      <td>190</td>\n      <td>80</td>\n      <td>88</td>\n      <td>181</td>\n      <td>360</td>\n      <td>177</td>\n      <td>103</td>\n      <td>-16</td>\n      <td>...</td>\n      <td>0.0</td>\n      <td>13.1</td>\n      <td>-3.6</td>\n      <td>0.0</td>\n      <td>0</td>\n      <td>-0.1</td>\n      <td>3.9</td>\n      <td>25.4</td>\n      <td>62.8</td>\n      <td>7</td>\n    </tr>\n  </tbody>\n</table>\n<p>5 rows × 280 columns</p>\n</div>"
     },
     "execution_count": 5,
     "metadata": {},
     "output_type": "execute_result"
    }
   ],
   "source": [
    "df.head()"
   ]
  },
  {
   "cell_type": "code",
   "execution_count": 6,
   "metadata": {
    "execution": {
     "iopub.execute_input": "2021-01-21T19:49:28.346261Z",
     "iopub.status.busy": "2021-01-21T19:49:28.345506Z",
     "iopub.status.idle": "2021-01-21T19:49:28.348223Z",
     "shell.execute_reply": "2021-01-21T19:49:28.348836Z"
    },
    "papermill": {
     "duration": 0.050501,
     "end_time": "2021-01-21T19:49:28.348977",
     "exception": false,
     "start_time": "2021-01-21T19:49:28.298476",
     "status": "completed"
    },
    "tags": [],
    "pycharm": {
     "name": "#%%\n"
    }
   },
   "outputs": [],
   "source": [
    "df.drop([\"S\\'_wave(ms)\",\"CB\",\"CD\",\"CS\",\"EV\",\"EY\",\"FF\",\"FH\",\"FJ\",\"FL\",\"FS\",\"FZ\",\"GA\",\"S'_wave(mv)\",\"IB\",\"KP\",\"LC\",\n",
    "         \"AB\", \"AC\", \"AD\",\"AE\", \"AF\", \"AG\",\"AH\",\"AI\",\"AJ\",\"AK\",\"AL\", \"AM\",\"AN\", \"AO\", \"AP\", \"AR\", \"AS\", \"AT\",\"AU\", \"AV\",  \"AY\",  \"AZ\", \"BA\", \"BB\",\"BC\", \"BD\", \"BE\", \"BF\",\"BG\", \"BH\",\"BI\", \"BJ\", \"BK\", \"BL\", \"BM\", \"BN\",   \"BP\", \"BR\", \"BS\", \"BT\", \"BU\",\"BV\",\"BY\",\"BZ\", \"CA\", \"CC\", \"CE\", \"CF\", \"CG\", \"CH\", \"CI\", \"CJ\",\"CK\",\"CL\",\"CM\",\"CN\",\"CO\",\"CP\",\"CR\",   \"CT\",\"CU\",\"CV\",\"CY\",\"CZ\",\"DA\",\"DB\",\"DC\",\"DD\",\"DE\",\"DF\",\"DG\",\"DH\",\"DI\",\"DJ\",\"DK\",\"DL\",\"DM\",\"DN\",\"DO\",\"DP\",\"DR\",\"DS\",\"DT\",\"DU\",\"DV\",\"DY\",\"DZ\",\"EA\",\"EB\",\"EC\",\"ED\",\"EF\",\"EG\",\"EH\",\"EI\",\"EJ\",\"EK\", \"EL\",\"EM\",\"EM\",\"EN\",\"EO\",\"EP\", \"ER\",\"ES\", \"ET\", \"EU\",\n",
    "\n",
    "         \"EZ\", \"FA\",\"FB\",\"FC\",\"FD\", \"FE\",    \"FG\",    \"FI\",    \"FK\",    \"FM\",\"FN\",\"FO\",\"FP\", \"FR\",    \"FT\", \"FU\", \"FV\", \"FY\",     \"GB\",   \"GM\",\"GN\",\"GO\",\"GP\",   \"GR\",\"GS\",\"GT\",\"GU\",\"GV\",    \"GY\",\"GZ\",\"HA\",\"HB\",\"HC\",\"HD\", \"HE\",\"HF\",\"HG\",\"HH\",\"HI\",\"HJ\",\"HK\",\"HL\",\"HM\",\"HN\",\"HO\",\"HP\",\"HR\",\"HS\",\"HT\",\"HU\",\"HV\",\"HY\",\"HZ\",\"IA\",\"IC\",\"ID\",\"IE\",\"IF\",\"IG\",\"IH\",\"II\",\"IJ\",\"IK\",\"IL\", \"IM\",\"IN\",\"IO\",\"IP\",\"IR\",\"IS\",\"IT\",\"IU\",\"IV\", \"IY\",\"IZ\", \"JA\",\"JB\",\"JC\",\"JD\",\"JE\",\"JF\",\"JG\",\"JH\",\"JI\",\"JJ\", \"JK\", \"JL\",\"JM\",\"JN\",\"JO\",\"JP\",\"JR\",\"JS\",\"JT\",\"JU\",\"JV\",\"JY\",\"JZ\", \"KA\",\"KB\",\"KC\",\"KD\",\"KE\",\"KF\",\"KG\",\"KH\",\"KI\",\"KJ\",\"KK\",\"KL\",\"KM\",\"KN\", \"KO\", \"KR\",\"KS\",\"KT\",\"KU\",\"KV\",\"KY\",\"KZ\", \"LA\",\"LB\", \"LC\",\"LD\",\"LE\",\"LF\",\"LG\"\n",
    "         ], axis=1, inplace=True)#axis=1指定删除的是列而不是行，inplace=True指定对原始DataFrame进行更改，而不是返回一个修改后的副本。"
   ]
  },
  {
   "cell_type": "code",
   "execution_count": 7,
   "metadata": {
    "execution": {
     "iopub.execute_input": "2021-01-21T19:49:28.421058Z",
     "iopub.status.busy": "2021-01-21T19:49:28.420037Z",
     "iopub.status.idle": "2021-01-21T19:49:28.443041Z",
     "shell.execute_reply": "2021-01-21T19:49:28.443550Z"
    },
    "papermill": {
     "duration": 0.060557,
     "end_time": "2021-01-21T19:49:28.443696",
     "exception": false,
     "start_time": "2021-01-21T19:49:28.383139",
     "status": "completed"
    },
    "tags": [],
    "pycharm": {
     "name": "#%%\n"
    }
   },
   "outputs": [
    {
     "data": {
      "text/plain": "   age  sex  height  weight  qrs_duration(ms)  p-r_interval(ms)  q-t_interval  \\\n0   75    0     190      80                91               193           371   \n1   56    1     165      64                81               174           401   \n2   54    0     172      95               138               163           386   \n3   55    0     175      94               100               202           380   \n4   75    0     190      80                88               181           360   \n\n   t_interval  p_interval  qrs  ... JJ_wave(mv) Q_wave(mv) R_wave(mv)  \\\n0         174         121  -16  ...        -0.2        0.0        6.1   \n1         149          39   25  ...        -0.6        0.0        7.2   \n2         185         102   96  ...         1.0        0.0        4.5   \n3         179         143   28  ...         0.9        0.0        7.8   \n4         177         103  -16  ...         0.0        0.0        5.2   \n\n  S_wave(mv) R'_wave(mv)  P_wave(mv)  T_wave(mv)  QRSA(mvs)  QRSTA(mvs)  \\\n0       -1.0         0.0         0.6         2.1       13.6        30.8   \n1        0.0         0.0         0.4         1.5       17.2        26.5   \n2       -2.8         0.0         0.3         2.5       -2.2        19.8   \n3       -0.7         0.0         1.1         1.9       27.3        45.1   \n4       -1.4         0.0         0.9         2.3        9.6        31.6   \n\n   diagnosis  \n0          8  \n1          6  \n2         10  \n3          1  \n4          7  \n\n[5 rows x 31 columns]",
      "text/html": "<div>\n<style scoped>\n    .dataframe tbody tr th:only-of-type {\n        vertical-align: middle;\n    }\n\n    .dataframe tbody tr th {\n        vertical-align: top;\n    }\n\n    .dataframe thead th {\n        text-align: right;\n    }\n</style>\n<table border=\"1\" class=\"dataframe\">\n  <thead>\n    <tr style=\"text-align: right;\">\n      <th></th>\n      <th>age</th>\n      <th>sex</th>\n      <th>height</th>\n      <th>weight</th>\n      <th>qrs_duration(ms)</th>\n      <th>p-r_interval(ms)</th>\n      <th>q-t_interval</th>\n      <th>t_interval</th>\n      <th>p_interval</th>\n      <th>qrs</th>\n      <th>...</th>\n      <th>JJ_wave(mv)</th>\n      <th>Q_wave(mv)</th>\n      <th>R_wave(mv)</th>\n      <th>S_wave(mv)</th>\n      <th>R'_wave(mv)</th>\n      <th>P_wave(mv)</th>\n      <th>T_wave(mv)</th>\n      <th>QRSA(mvs)</th>\n      <th>QRSTA(mvs)</th>\n      <th>diagnosis</th>\n    </tr>\n  </thead>\n  <tbody>\n    <tr>\n      <th>0</th>\n      <td>75</td>\n      <td>0</td>\n      <td>190</td>\n      <td>80</td>\n      <td>91</td>\n      <td>193</td>\n      <td>371</td>\n      <td>174</td>\n      <td>121</td>\n      <td>-16</td>\n      <td>...</td>\n      <td>-0.2</td>\n      <td>0.0</td>\n      <td>6.1</td>\n      <td>-1.0</td>\n      <td>0.0</td>\n      <td>0.6</td>\n      <td>2.1</td>\n      <td>13.6</td>\n      <td>30.8</td>\n      <td>8</td>\n    </tr>\n    <tr>\n      <th>1</th>\n      <td>56</td>\n      <td>1</td>\n      <td>165</td>\n      <td>64</td>\n      <td>81</td>\n      <td>174</td>\n      <td>401</td>\n      <td>149</td>\n      <td>39</td>\n      <td>25</td>\n      <td>...</td>\n      <td>-0.6</td>\n      <td>0.0</td>\n      <td>7.2</td>\n      <td>0.0</td>\n      <td>0.0</td>\n      <td>0.4</td>\n      <td>1.5</td>\n      <td>17.2</td>\n      <td>26.5</td>\n      <td>6</td>\n    </tr>\n    <tr>\n      <th>2</th>\n      <td>54</td>\n      <td>0</td>\n      <td>172</td>\n      <td>95</td>\n      <td>138</td>\n      <td>163</td>\n      <td>386</td>\n      <td>185</td>\n      <td>102</td>\n      <td>96</td>\n      <td>...</td>\n      <td>1.0</td>\n      <td>0.0</td>\n      <td>4.5</td>\n      <td>-2.8</td>\n      <td>0.0</td>\n      <td>0.3</td>\n      <td>2.5</td>\n      <td>-2.2</td>\n      <td>19.8</td>\n      <td>10</td>\n    </tr>\n    <tr>\n      <th>3</th>\n      <td>55</td>\n      <td>0</td>\n      <td>175</td>\n      <td>94</td>\n      <td>100</td>\n      <td>202</td>\n      <td>380</td>\n      <td>179</td>\n      <td>143</td>\n      <td>28</td>\n      <td>...</td>\n      <td>0.9</td>\n      <td>0.0</td>\n      <td>7.8</td>\n      <td>-0.7</td>\n      <td>0.0</td>\n      <td>1.1</td>\n      <td>1.9</td>\n      <td>27.3</td>\n      <td>45.1</td>\n      <td>1</td>\n    </tr>\n    <tr>\n      <th>4</th>\n      <td>75</td>\n      <td>0</td>\n      <td>190</td>\n      <td>80</td>\n      <td>88</td>\n      <td>181</td>\n      <td>360</td>\n      <td>177</td>\n      <td>103</td>\n      <td>-16</td>\n      <td>...</td>\n      <td>0.0</td>\n      <td>0.0</td>\n      <td>5.2</td>\n      <td>-1.4</td>\n      <td>0.0</td>\n      <td>0.9</td>\n      <td>2.3</td>\n      <td>9.6</td>\n      <td>31.6</td>\n      <td>7</td>\n    </tr>\n  </tbody>\n</table>\n<p>5 rows × 31 columns</p>\n</div>"
     },
     "execution_count": 7,
     "metadata": {},
     "output_type": "execute_result"
    }
   ],
   "source": [
    "df.head()"
   ]
  },
  {
   "cell_type": "markdown",
   "metadata": {
    "papermill": {
     "duration": 0.034157,
     "end_time": "2021-01-21T19:49:28.512259",
     "exception": false,
     "start_time": "2021-01-21T19:49:28.478102",
     "status": "completed"
    },
    "tags": [],
    "pycharm": {
     "name": "#%% md\n"
    }
   },
   "source": [
    "Further investigating the data have revealed there are some odd entries for the entries that are made presumably for babies which is handled manually. https://www.kaggle.com/mtavares51/binary-classification-on-arrhythmia-dataset"
   ]
  },
  {
   "cell_type": "code",
   "execution_count": 8,
   "metadata": {
    "execution": {
     "iopub.execute_input": "2021-01-21T19:49:28.585036Z",
     "iopub.status.busy": "2021-01-21T19:49:28.584336Z",
     "iopub.status.idle": "2021-01-21T19:49:28.599590Z",
     "shell.execute_reply": "2021-01-21T19:49:28.598883Z"
    },
    "papermill": {
     "duration": 0.052589,
     "end_time": "2021-01-21T19:49:28.599707",
     "exception": false,
     "start_time": "2021-01-21T19:49:28.547118",
     "status": "completed"
    },
    "tags": [],
    "pycharm": {
     "name": "#%%\n"
    }
   },
   "outputs": [
    {
     "data": {
      "text/plain": "105     1\n110     1\n119     1\n120     2\n124     1\n127     1\n130     2\n132     1\n133     1\n138     1\n140     1\n146     1\n148     1\n149     1\n150     9\n152     1\n153     5\n154     4\n155    23\n156    19\n157    10\n158     9\n159     6\n160    81\n161     5\n162    15\n163    16\n164     9\n165    46\n166     9\n167     8\n168    15\n169     7\n170    40\n171     9\n172    14\n173     7\n174     4\n175    21\n176    10\n177     4\n178     9\n179     1\n180     4\n181     1\n182     2\n184     1\n185     3\n186     3\n188     1\n190     3\n608     1\n780     1\nName: height, dtype: int64"
     },
     "execution_count": 8,
     "metadata": {},
     "output_type": "execute_result"
    }
   ],
   "source": [
    "df['height'].value_counts().sort_index()"
   ]
  },
  {
   "cell_type": "code",
   "execution_count": 9,
   "metadata": {
    "execution": {
     "iopub.execute_input": "2021-01-21T19:49:28.674162Z",
     "iopub.status.busy": "2021-01-21T19:49:28.673147Z",
     "iopub.status.idle": "2021-01-21T19:49:28.712150Z",
     "shell.execute_reply": "2021-01-21T19:49:28.711587Z"
    },
    "papermill": {
     "duration": 0.07722,
     "end_time": "2021-01-21T19:49:28.712264",
     "exception": false,
     "start_time": "2021-01-21T19:49:28.635044",
     "status": "completed"
    },
    "tags": [],
    "pycharm": {
     "name": "#%%\n"
    }
   },
   "outputs": [
    {
     "data": {
      "text/plain": "61      1\n78      1\n105     1\n110     1\n119     1\n120     2\n124     1\n127     1\n130     2\n132     1\n133     1\n138     1\n140     1\n146     1\n148     1\n149     1\n150     9\n152     1\n153     5\n154     4\n155    23\n156    19\n157    10\n158     9\n159     6\n160    81\n161     5\n162    15\n163    16\n164     9\n165    46\n166     9\n167     8\n168    15\n169     7\n170    40\n171     9\n172    14\n173     7\n174     4\n175    21\n176    10\n177     4\n178     9\n179     1\n180     4\n181     1\n182     2\n184     1\n185     3\n186     3\n188     1\n190     3\nName: height, dtype: int64"
     },
     "execution_count": 9,
     "metadata": {},
     "output_type": "execute_result"
    }
   ],
   "source": [
    "df.loc[df[\"height\"] == 608, \"height\"] = 61\n",
    "df.loc[df[\"height\"] == 780, \"height\"] = 78\n",
    "df['height'].value_counts().sort_index()"
   ]
  },
  {
   "cell_type": "code",
   "execution_count": 10,
   "metadata": {
    "execution": {
     "iopub.execute_input": "2021-01-21T19:49:28.871603Z",
     "iopub.status.busy": "2021-01-21T19:49:28.870506Z",
     "iopub.status.idle": "2021-01-21T19:49:28.893397Z",
     "shell.execute_reply": "2021-01-21T19:49:28.892201Z"
    },
    "papermill": {
     "duration": 0.073423,
     "end_time": "2021-01-21T19:49:28.893576",
     "exception": false,
     "start_time": "2021-01-21T19:49:28.820153",
     "status": "completed"
    },
    "tags": [],
    "pycharm": {
     "name": "#%%\n"
    }
   },
   "outputs": [
    {
     "data": {
      "text/plain": "True     245\nFalse    207\nName: label, dtype: int64"
     },
     "execution_count": 10,
     "metadata": {},
     "output_type": "execute_result"
    }
   ],
   "source": [
    "norm_risk_list = []\n",
    "for diagnose in df.diagnosis:\n",
    "    if diagnose == 1:\n",
    "        norm_risk_list.append(True)\n",
    "    else:\n",
    "        norm_risk_list.append(False)\n",
    "df[\"label\"] = np.array(norm_risk_list)\n",
    "df.drop(columns = [\"diagnosis\"],inplace = True)\n",
    "df.label.value_counts()"
   ]
  },
  {
   "cell_type": "markdown",
   "metadata": {
    "papermill": {
     "duration": 0.036247,
     "end_time": "2021-01-21T19:49:28.967921",
     "exception": false,
     "start_time": "2021-01-21T19:49:28.931674",
     "status": "completed"
    },
    "tags": [],
    "pycharm": {
     "name": "#%% md\n"
    }
   },
   "source": [
    "X is formed by importing every data at first. All the dimensionality reduction will be applied afterwards. Y is the label column."
   ]
  },
  {
   "cell_type": "code",
   "execution_count": 11,
   "metadata": {
    "execution": {
     "iopub.execute_input": "2021-01-21T19:49:29.045223Z",
     "iopub.status.busy": "2021-01-21T19:49:29.044537Z",
     "iopub.status.idle": "2021-01-21T19:49:29.054675Z",
     "shell.execute_reply": "2021-01-21T19:49:29.054007Z"
    },
    "papermill": {
     "duration": 0.049213,
     "end_time": "2021-01-21T19:49:29.054788",
     "exception": false,
     "start_time": "2021-01-21T19:49:29.005575",
     "status": "completed"
    },
    "tags": [],
    "pycharm": {
     "name": "#%%\n"
    }
   },
   "outputs": [
    {
     "name": "stdout",
     "output_type": "stream",
     "text": [
      "(452, 30)\n",
      "(452,)\n"
     ]
    }
   ],
   "source": [
    "X = df.drop(columns = [df.columns[-1]])\n",
    "y = df[df.columns[-1]]\n",
    "print(X.shape)\n",
    "print(y.shape)"
   ]
  },
  {
   "cell_type": "markdown",
   "metadata": {
    "papermill": {
     "duration": 0.036443,
     "end_time": "2021-01-21T19:49:29.127878",
     "exception": false,
     "start_time": "2021-01-21T19:49:29.091435",
     "status": "completed"
    },
    "tags": [],
    "pycharm": {
     "name": "#%% md\n"
    }
   },
   "source": [
    "A train test split have been implemented with 0.2 test_size value."
   ]
  },
  {
   "cell_type": "code",
   "execution_count": 12,
   "metadata": {
    "execution": {
     "iopub.execute_input": "2021-01-21T19:49:29.210831Z",
     "iopub.status.busy": "2021-01-21T19:49:29.210122Z",
     "iopub.status.idle": "2021-01-21T19:49:29.212991Z",
     "shell.execute_reply": "2021-01-21T19:49:29.213737Z"
    },
    "papermill": {
     "duration": 0.049525,
     "end_time": "2021-01-21T19:49:29.213930",
     "exception": false,
     "start_time": "2021-01-21T19:49:29.164405",
     "status": "completed"
    },
    "tags": [],
    "pycharm": {
     "name": "#%%\n"
    }
   },
   "outputs": [
    {
     "name": "stdout",
     "output_type": "stream",
     "text": [
      "(361, 30)\n",
      "(361,)\n",
      "(91, 30)\n",
      "(91,)\n"
     ]
    }
   ],
   "source": [
    "X_train, X_test, y_train, y_test = train_test_split(X, y, test_size=0.2, random_state=0)\n",
    "print(X_train.shape)\n",
    "print(y_train.shape)\n",
    "print(X_test.shape)\n",
    "print(y_test.shape)"
   ]
  },
  {
   "cell_type": "markdown",
   "metadata": {
    "papermill": {
     "duration": 0.03669,
     "end_time": "2021-01-21T19:49:29.291166",
     "exception": false,
     "start_time": "2021-01-21T19:49:29.254476",
     "status": "completed"
    },
    "tags": [],
    "pycharm": {
     "name": "#%% md\n"
    }
   },
   "source": [
    "For every column, a MinMaxScaler have been implemented"
   ]
  },
  {
   "cell_type": "code",
   "execution_count": 13,
   "metadata": {
    "execution": {
     "iopub.execute_input": "2021-01-21T19:49:29.369531Z",
     "iopub.status.busy": "2021-01-21T19:49:29.368803Z",
     "iopub.status.idle": "2021-01-21T19:49:29.387533Z",
     "shell.execute_reply": "2021-01-21T19:49:29.388062Z"
    },
    "papermill": {
     "duration": 0.059728,
     "end_time": "2021-01-21T19:49:29.388223",
     "exception": false,
     "start_time": "2021-01-21T19:49:29.328495",
     "status": "completed"
    },
    "tags": [],
    "pycharm": {
     "name": "#%%\n"
    }
   },
   "outputs": [],
   "source": [
    "scaler = MinMaxScaler()\n",
    "X_train_scaled = scaler.fit_transform(X_train)\n",
    "X_test_scaled = scaler.transform(X_test)\n",
    "X_train = X_train_scaled\n",
    "X_test = X_test_scaled"
   ]
  },
  {
   "cell_type": "code",
   "execution_count": 14,
   "outputs": [
    {
     "name": "stdout",
     "output_type": "stream",
     "text": [
      "SVM_Accuracy: 0.7252747252747253\n",
      "SVM_Precision: 0.6935483870967742\n",
      "SVM_Recall: 0.8775510204081632\n"
     ]
    },
    {
     "name": "stderr",
     "output_type": "stream",
     "text": [
      "D:\\XuJiantao\\PycharmProjects\\pythonProject\\venv\\lib\\site-packages\\sklearn\\svm\\_base.py:301: ConvergenceWarning: Solver terminated early (max_iter=102).  Consider pre-processing your data with StandardScaler or MinMaxScaler.\n",
      "  warnings.warn(\n"
     ]
    }
   ],
   "source": [
    "from sklearn.svm import SVC\n",
    "from sklearn.metrics import accuracy_score, precision_score, recall_score\n",
    "from sklearn.model_selection import GridSearchCV\n",
    "# perform grid search to find the best parameters for SVM\n",
    "svm = SVC(\n",
    "        C=1,\n",
    "        kernel=\"rbf\",\n",
    "        degree=5,\n",
    "        gamma=\"scale\",\n",
    "        coef0=0.0,                      #仅在核被设置为“poly”或“sigmoid”时使用。\n",
    "        shrinking=True,\n",
    "        probability=False,\n",
    "        tol=1e-3,                       #较小的值将导致更准确的解，但也可能增加训练时间。\n",
    "        cache_size=200,\n",
    "        class_weight=None,\n",
    "        verbose=False,\n",
    "        max_iter=102,                   #优化算法的最大迭代次数。较大的值将导致更准确的解，但也可能增加训练时间。\n",
    "        decision_function_shape=\"ovo\",  #\"ovr\": One-vs-rest. \"ovo\": One-vs-one.\n",
    "        break_ties=False,\n",
    "        random_state=None\n",
    ")\n",
    "svm.fit(X_train, y_train)\n",
    "y_pred = svm.predict(X_test)\n",
    "# 计算准确率\n",
    "acc = accuracy_score(y_test, y_pred)\n",
    "print('SVM_Accuracy:', acc)\n",
    "\n",
    "# 计算精确率\n",
    "precision = precision_score(y_test, y_pred)\n",
    "print('SVM_Precision:', precision)\n",
    "\n",
    "# 计算召回率\n",
    "recall = recall_score(y_test, y_pred)\n",
    "print('SVM_Recall:', recall)"
   ],
   "metadata": {
    "collapsed": false,
    "pycharm": {
     "name": "#%%\n"
    }
   }
  },
  {
   "cell_type": "code",
   "execution_count": 15,
   "outputs": [
    {
     "data": {
      "text/plain": "<Figure size 400x400 with 2 Axes>",
      "image/png": "[encoded data removed]"
     },
     "metadata": {},
     "output_type": "display_data"
    },
    {
     "data": {
      "text/plain": "<Figure size 640x480 with 1 Axes>",
      "image/png": "[encoded data removed]"
     },
     "metadata": {},
     "output_type": "display_data"
    },
    {
     "name": "stdout",
     "output_type": "stream",
     "text": [
      "AUC score:  0.7125850340136055\n"
     ]
    }
   ],
   "source": [
    "import seaborn as sns\n",
    "# create confusion matrix\n",
    "conf_mat = confusion_matrix(y_test, y_pred)\n",
    "# print('Confusion matrix:', conf_mat)\n",
    "# Plot confusion matrix\n",
    "fig, ax = plt.subplots(figsize=(4,4))\n",
    "ax = sns.heatmap(conf_mat, annot=True, fmt='d',\n",
    "            xticklabels=['True', 'False'], yticklabels=['True', 'False'])\n",
    "plt.ylabel('Actual')\n",
    "plt.xlabel('Predicted')\n",
    "plt.show()\n",
    "\n",
    "fpr, tpr, _ = roc_curve(y_test, y_pred)\n",
    "plt.plot(fpr, tpr)\n",
    "plt.xlabel('False positive rate')\n",
    "plt.ylabel('True positive rate')\n",
    "plt.title('SVM_ROC curve')\n",
    "plt.show()\n",
    "auc = roc_auc_score(y_test, y_pred)\n",
    "print(\"AUC score: \", auc)"
   ],
   "metadata": {
    "collapsed": false,
    "pycharm": {
     "name": "#%%\n"
    }
   }
  }
 ],
 "metadata": {
  "kernelspec": {
   "display_name": "Python 3",
   "language": "python",
   "name": "python3"
  },
  "language_info": {
   "codemirror_mode": {
    "name": "ipython",
    "version": 3
   },
   "file_extension": ".py",
   "mimetype": "text/x-python",
   "name": "python",
   "nbconvert_exporter": "python",
   "pygments_lexer": "ipython3",
   "version": "3.7.6"
  },
  "papermill": {
   "duration": 159.424593,
   "end_time": "2021-01-21T19:52:00.614530",
   "environment_variables": {},
   "exception": null,
   "input_path": "__notebook__.ipynb",
   "output_path": "__notebook__.ipynb",
   "parameters": {},
   "start_time": "2021-01-21T19:49:21.189937",
   "version": "2.1.0"
  }
 },
 "nbformat": 4,
 "nbformat_minor": 4
}