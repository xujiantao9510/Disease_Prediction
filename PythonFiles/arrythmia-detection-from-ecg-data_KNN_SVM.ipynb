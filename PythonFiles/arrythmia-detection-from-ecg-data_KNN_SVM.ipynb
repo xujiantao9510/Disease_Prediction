{
 "cells": [
  {
   "cell_type": "code",
   "execution_count": 233,
   "metadata": {
    "_cell_guid": "b1076dfc-b9ad-4769-8c92-a6c4dae69d19",
    "_uuid": "8f2839f25d086af736a60e9eeb907d3b93b6e0e5",
    "execution": {
     "iopub.execute_input": "2021-01-21T19:49:26.394340Z",
     "iopub.status.busy": "2021-01-21T19:49:26.393248Z",
     "iopub.status.idle": "2021-01-21T19:49:27.757477Z",
     "shell.execute_reply": "2021-01-21T19:49:27.757991Z"
    },
    "papermill": {
     "duration": 1.402103,
     "end_time": "2021-01-21T19:49:27.758174",
     "exception": false,
     "start_time": "2021-01-21T19:49:26.356071",
     "status": "completed"
    },
    "tags": [],
    "pycharm": {
     "name": "#%%\n"
    }
   },
   "outputs": [],
   "source": [
    "from mpl_toolkits.mplot3d import Axes3D\n",
    "from sklearn.preprocessing import StandardScaler\n",
    "import matplotlib.pyplot as plt # plotting\n",
    "import numpy as np # linear algebra\n",
    "import os # accessing directory structure\n",
    "import pandas as pd # data processing, CSV file I/O (e.g. pd.read_csv)\n",
    "from sklearn.model_selection import train_test_split\n",
    "from sklearn.preprocessing import MinMaxScaler\n",
    "from sklearn.linear_model import LogisticRegression\n",
    "from sklearn.neighbors import KNeighborsClassifier\n",
    "from sklearn.tree import DecisionTreeClassifier\n",
    "from sklearn.ensemble import RandomForestClassifier\n",
    "from sklearn.naive_bayes import GaussianNB\n",
    "from sklearn.metrics import roc_auc_score, roc_curve, accuracy_score, confusion_matrix\n",
    "plt.style.use(\"fivethirtyeight\")\n",
    "colors = [\"Teal\",\"Indigo\",\"HotPink\",\"DarkGoldenRod\",\"Coral\"]"
   ]
  },
  {
   "cell_type": "markdown",
   "metadata": {
    "papermill": {
     "duration": 0.038612,
     "end_time": "2021-01-21T19:49:27.829337",
     "exception": false,
     "start_time": "2021-01-21T19:49:27.790725",
     "status": "completed"
    },
    "tags": [],
    "pycharm": {
     "name": "#%% md\n"
    }
   },
   "source": [
    "Data is prepared as it has been provided by Bülent Esen's notebook https://www.kaggle.com/bulentesen/cardiac-arrythmia-naive-bayes-v2 who is the publisher of the dataset. No further data preparation besides the ones in cell 8 were not pursued since the data preparataion should be at it's best under the owner's own usage."
   ]
  },
  {
   "cell_type": "code",
   "execution_count": 234,
   "metadata": {
    "_cell_guid": "79c7e3d0-c299-4dcb-8224-4455121ee9b0",
    "_uuid": "d629ff2d2480ee46fbb7e2d37f6b5fab8052498a",
    "execution": {
     "iopub.execute_input": "2021-01-21T19:49:27.941984Z",
     "iopub.status.busy": "2021-01-21T19:49:27.941220Z",
     "iopub.status.idle": "2021-01-21T19:49:27.956636Z",
     "shell.execute_reply": "2021-01-21T19:49:27.955825Z"
    },
    "papermill": {
     "duration": 0.071089,
     "end_time": "2021-01-21T19:49:27.956797",
     "exception": false,
     "start_time": "2021-01-21T19:49:27.885708",
     "status": "completed"
    },
    "tags": [],
    "pycharm": {
     "name": "#%%\n"
    }
   },
   "outputs": [
    {
     "name": "stdout",
     "output_type": "stream",
     "text": [
      "['$RECYCLE.BIN', 'android-x86-9.0-r2.iso', 'apache-jmeter-5.5', 'Files', 'kali-linux-2022.3-installer-amd64.iso', 'Student-Management-System-in-Python-main', 'System Volume Information', 'Windows10 x64(19045.2075).ISO', 'XuJiantao', '虚拟机VMware 15.5.0', '虚拟机VMware 15.5.0.zip']\n"
     ]
    }
   ],
   "source": [
    "print(os.listdir('/'))"
   ]
  },
  {
   "cell_type": "markdown",
   "metadata": {
    "papermill": {
     "duration": 0.03271,
     "end_time": "2021-01-21T19:49:28.028889",
     "exception": false,
     "start_time": "2021-01-21T19:49:27.996179",
     "status": "completed"
    },
    "tags": [],
    "pycharm": {
     "name": "#%% md\n"
    }
   },
   "source": [
    "Data is a .CSV file which contains all the possible instructions that can be obtained from ECG readings. However some of the columns have unreliable data (nulls and just vectors of singular values to be exact). So the owner of the dataset seems to drop these columns not applying any interpolation implementation. So, this notebook doesn't follow any interpolation measure either."
   ]
  },
  {
   "cell_type": "code",
   "execution_count": 235,
   "metadata": {
    "execution": {
     "iopub.execute_input": "2021-01-21T19:49:28.099026Z",
     "iopub.status.busy": "2021-01-21T19:49:28.097998Z",
     "iopub.status.idle": "2021-01-21T19:49:28.151921Z",
     "shell.execute_reply": "2021-01-21T19:49:28.152469Z"
    },
    "papermill": {
     "duration": 0.090754,
     "end_time": "2021-01-21T19:49:28.152641",
     "exception": false,
     "start_time": "2021-01-21T19:49:28.061887",
     "status": "completed"
    },
    "tags": [],
    "pycharm": {
     "name": "#%%\n"
    }
   },
   "outputs": [],
   "source": [
    "df = pd.read_csv('data_arrhythmia.csv', delimiter=';')"
   ]
  },
  {
   "cell_type": "code",
   "execution_count": 236,
   "metadata": {
    "execution": {
     "iopub.execute_input": "2021-01-21T19:49:28.230755Z",
     "iopub.status.busy": "2021-01-21T19:49:28.229726Z",
     "iopub.status.idle": "2021-01-21T19:49:28.263245Z",
     "shell.execute_reply": "2021-01-21T19:49:28.263924Z"
    },
    "papermill": {
     "duration": 0.077554,
     "end_time": "2021-01-21T19:49:28.264067",
     "exception": false,
     "start_time": "2021-01-21T19:49:28.186513",
     "status": "completed"
    },
    "tags": [],
    "pycharm": {
     "name": "#%%\n"
    }
   },
   "outputs": [
    {
     "data": {
      "text/plain": "   age  sex  height  weight  qrs_duration  p-r_interval  q-t_interval  \\\n0   75    0     190      80            91           193           371   \n1   56    1     165      64            81           174           401   \n2   54    0     172      95           138           163           386   \n3   55    0     175      94           100           202           380   \n4   75    0     190      80            88           181           360   \n5   13    0     169      51           100           167           321   \n6   40    1     160      52            77           129           377   \n7   49    1     162      54            78             0           376   \n8   44    0     168      56            84           118           354   \n9   50    1     167      67            89           130           383   \n\n   t_interval  p_interval  qrs  ...   KY    KZ   LA   LB LC   LD   LE    LF  \\\n0         174         121  -16  ...  0.0   9.0 -0.9  0.0  0  0.9  2.9  23.3   \n1         149          39   25  ...  0.0   8.5  0.0  0.0  0  0.2  2.1  20.4   \n2         185         102   96  ...  0.0   9.5 -2.4  0.0  0  0.3  3.4  12.3   \n3         179         143   28  ...  0.0  12.2 -2.2  0.0  0  0.4  2.6  34.6   \n4         177         103  -16  ...  0.0  13.1 -3.6  0.0  0 -0.1  3.9  25.4   \n5         174          91  107  ... -0.6  12.2 -2.8  0.0  0  0.9  2.2  13.5   \n6         133          77   77  ...  0.0   6.5  0.0  0.0  0  0.4  1.0  14.3   \n7         157          70   67  ...  0.0   8.2 -1.9  0.0  0  0.1  0.5  15.8   \n8         160          63   61  ...  0.0   7.0 -1.3  0.0  0  0.6  2.1  12.5   \n9         156          73   85  ... -0.6  10.8 -1.7  0.0  0  0.8  0.9  20.1   \n\n     LG  diagnosis  \n0  49.4          8  \n1  38.8          6  \n2  49.0         10  \n3  61.6          1  \n4  62.8          7  \n5  31.1         14  \n6  20.5          1  \n7  19.8          1  \n8  30.9          1  \n9  25.1         10  \n\n[10 rows x 280 columns]",
      "text/html": "<div>\n<style scoped>\n    .dataframe tbody tr th:only-of-type {\n        vertical-align: middle;\n    }\n\n    .dataframe tbody tr th {\n        vertical-align: top;\n    }\n\n    .dataframe thead th {\n        text-align: right;\n    }\n</style>\n<table border=\"1\" class=\"dataframe\">\n  <thead>\n    <tr style=\"text-align: right;\">\n      <th></th>\n      <th>age</th>\n      <th>sex</th>\n      <th>height</th>\n      <th>weight</th>\n      <th>qrs_duration</th>\n      <th>p-r_interval</th>\n      <th>q-t_interval</th>\n      <th>t_interval</th>\n      <th>p_interval</th>\n      <th>qrs</th>\n      <th>...</th>\n      <th>KY</th>\n      <th>KZ</th>\n      <th>LA</th>\n      <th>LB</th>\n      <th>LC</th>\n      <th>LD</th>\n      <th>LE</th>\n      <th>LF</th>\n      <th>LG</th>\n      <th>diagnosis</th>\n    </tr>\n  </thead>\n  <tbody>\n    <tr>\n      <th>0</th>\n      <td>75</td>\n      <td>0</td>\n      <td>190</td>\n      <td>80</td>\n      <td>91</td>\n      <td>193</td>\n      <td>371</td>\n      <td>174</td>\n      <td>121</td>\n      <td>-16</td>\n      <td>...</td>\n      <td>0.0</td>\n      <td>9.0</td>\n      <td>-0.9</td>\n      <td>0.0</td>\n      <td>0</td>\n      <td>0.9</td>\n      <td>2.9</td>\n      <td>23.3</td>\n      <td>49.4</td>\n      <td>8</td>\n    </tr>\n    <tr>\n      <th>1</th>\n      <td>56</td>\n      <td>1</td>\n      <td>165</td>\n      <td>64</td>\n      <td>81</td>\n      <td>174</td>\n      <td>401</td>\n      <td>149</td>\n      <td>39</td>\n      <td>25</td>\n      <td>...</td>\n      <td>0.0</td>\n      <td>8.5</td>\n      <td>0.0</td>\n      <td>0.0</td>\n      <td>0</td>\n      <td>0.2</td>\n      <td>2.1</td>\n      <td>20.4</td>\n      <td>38.8</td>\n      <td>6</td>\n    </tr>\n    <tr>\n      <th>2</th>\n      <td>54</td>\n      <td>0</td>\n      <td>172</td>\n      <td>95</td>\n      <td>138</td>\n      <td>163</td>\n      <td>386</td>\n      <td>185</td>\n      <td>102</td>\n      <td>96</td>\n      <td>...</td>\n      <td>0.0</td>\n      <td>9.5</td>\n      <td>-2.4</td>\n      <td>0.0</td>\n      <td>0</td>\n      <td>0.3</td>\n      <td>3.4</td>\n      <td>12.3</td>\n      <td>49.0</td>\n      <td>10</td>\n    </tr>\n    <tr>\n      <th>3</th>\n      <td>55</td>\n      <td>0</td>\n      <td>175</td>\n      <td>94</td>\n      <td>100</td>\n      <td>202</td>\n      <td>380</td>\n      <td>179</td>\n      <td>143</td>\n      <td>28</td>\n      <td>...</td>\n      <td>0.0</td>\n      <td>12.2</td>\n      <td>-2.2</td>\n      <td>0.0</td>\n      <td>0</td>\n      <td>0.4</td>\n      <td>2.6</td>\n      <td>34.6</td>\n      <td>61.6</td>\n      <td>1</td>\n    </tr>\n    <tr>\n      <th>4</th>\n      <td>75</td>\n      <td>0</td>\n      <td>190</td>\n      <td>80</td>\n      <td>88</td>\n      <td>181</td>\n      <td>360</td>\n      <td>177</td>\n      <td>103</td>\n      <td>-16</td>\n      <td>...</td>\n      <td>0.0</td>\n      <td>13.1</td>\n      <td>-3.6</td>\n      <td>0.0</td>\n      <td>0</td>\n      <td>-0.1</td>\n      <td>3.9</td>\n      <td>25.4</td>\n      <td>62.8</td>\n      <td>7</td>\n    </tr>\n    <tr>\n      <th>5</th>\n      <td>13</td>\n      <td>0</td>\n      <td>169</td>\n      <td>51</td>\n      <td>100</td>\n      <td>167</td>\n      <td>321</td>\n      <td>174</td>\n      <td>91</td>\n      <td>107</td>\n      <td>...</td>\n      <td>-0.6</td>\n      <td>12.2</td>\n      <td>-2.8</td>\n      <td>0.0</td>\n      <td>0</td>\n      <td>0.9</td>\n      <td>2.2</td>\n      <td>13.5</td>\n      <td>31.1</td>\n      <td>14</td>\n    </tr>\n    <tr>\n      <th>6</th>\n      <td>40</td>\n      <td>1</td>\n      <td>160</td>\n      <td>52</td>\n      <td>77</td>\n      <td>129</td>\n      <td>377</td>\n      <td>133</td>\n      <td>77</td>\n      <td>77</td>\n      <td>...</td>\n      <td>0.0</td>\n      <td>6.5</td>\n      <td>0.0</td>\n      <td>0.0</td>\n      <td>0</td>\n      <td>0.4</td>\n      <td>1.0</td>\n      <td>14.3</td>\n      <td>20.5</td>\n      <td>1</td>\n    </tr>\n    <tr>\n      <th>7</th>\n      <td>49</td>\n      <td>1</td>\n      <td>162</td>\n      <td>54</td>\n      <td>78</td>\n      <td>0</td>\n      <td>376</td>\n      <td>157</td>\n      <td>70</td>\n      <td>67</td>\n      <td>...</td>\n      <td>0.0</td>\n      <td>8.2</td>\n      <td>-1.9</td>\n      <td>0.0</td>\n      <td>0</td>\n      <td>0.1</td>\n      <td>0.5</td>\n      <td>15.8</td>\n      <td>19.8</td>\n      <td>1</td>\n    </tr>\n    <tr>\n      <th>8</th>\n      <td>44</td>\n      <td>0</td>\n      <td>168</td>\n      <td>56</td>\n      <td>84</td>\n      <td>118</td>\n      <td>354</td>\n      <td>160</td>\n      <td>63</td>\n      <td>61</td>\n      <td>...</td>\n      <td>0.0</td>\n      <td>7.0</td>\n      <td>-1.3</td>\n      <td>0.0</td>\n      <td>0</td>\n      <td>0.6</td>\n      <td>2.1</td>\n      <td>12.5</td>\n      <td>30.9</td>\n      <td>1</td>\n    </tr>\n    <tr>\n      <th>9</th>\n      <td>50</td>\n      <td>1</td>\n      <td>167</td>\n      <td>67</td>\n      <td>89</td>\n      <td>130</td>\n      <td>383</td>\n      <td>156</td>\n      <td>73</td>\n      <td>85</td>\n      <td>...</td>\n      <td>-0.6</td>\n      <td>10.8</td>\n      <td>-1.7</td>\n      <td>0.0</td>\n      <td>0</td>\n      <td>0.8</td>\n      <td>0.9</td>\n      <td>20.1</td>\n      <td>25.1</td>\n      <td>10</td>\n    </tr>\n  </tbody>\n</table>\n<p>10 rows × 280 columns</p>\n</div>"
     },
     "execution_count": 236,
     "metadata": {},
     "output_type": "execute_result"
    }
   ],
   "source": [
    "df.head(10)"
   ]
  },
  {
   "cell_type": "code",
   "execution_count": 237,
   "metadata": {
    "execution": {
     "iopub.execute_input": "2021-01-21T19:49:28.346261Z",
     "iopub.status.busy": "2021-01-21T19:49:28.345506Z",
     "iopub.status.idle": "2021-01-21T19:49:28.348223Z",
     "shell.execute_reply": "2021-01-21T19:49:28.348836Z"
    },
    "papermill": {
     "duration": 0.050501,
     "end_time": "2021-01-21T19:49:28.348977",
     "exception": false,
     "start_time": "2021-01-21T19:49:28.298476",
     "status": "completed"
    },
    "tags": [],
    "pycharm": {
     "name": "#%%\n"
    }
   },
   "outputs": [],
   "source": [
    "df.drop([\"J\",\"R'_wave\",\"S'_wave\", \"AB\", \"AC\", \"AD\",\"AE\", \"AF\", \"AG\", \"AL\", \"AN\", \"AO\", \"AP\", \"AR\", \"AS\", \"AT\", \"AZ\", \"AB'\", \"BC\", \"BD\", \"BE\", \"BG\", \"BH\", \"BP\", \"BR\", \"BS\", \"BT\", \"BU\", \n",
    "          \"CA\", \"CD\", \"CE\", \"Cf\", \"CG\", \"CH\", \"CI\", \"CM\",\"CN\",\"CP\",\"CR\",\"CS\",\"CT\",\"CU\",\"CV\",\"DE\",\"DF\",\"DG\",\"DH\",\"DI\",\"DJ\",\"DR\",\"DS\",\"DT\",\"DU\",\"DV\",\"DY\",\"EG\",\n",
    "          \"EH\", \"EL\", \"ER\", \"ET\", \"EU\", \"EV\", \"EY\", \"EZ\", \"FA\", \"FE\", \"FF\", \"FH\", \"FI\", \"FJ\", \"FK\", \"FL\", \"FM\", \"FR\", \"FS\", \"FU\", \"FV\", \"FY\", \"FZ\", \"GA\",\n",
    "          \"GB\", \"GG\", \"GH\", \"HD\", \"HE\", \"HO\", \"IA\", \"IB\", \"IK\", \"IL\", \"IY\", \"JI\", \"JS\", \"JT\", \"KF\", \"KO\", \"KP\", \"LB\", \"LC\", \"T\", \"P\", \"QRST\", \"heart_rate\"], axis=1, inplace=True)"
   ]
  },
  {
   "cell_type": "code",
   "execution_count": 238,
   "metadata": {
    "execution": {
     "iopub.execute_input": "2021-01-21T19:49:28.421058Z",
     "iopub.status.busy": "2021-01-21T19:49:28.420037Z",
     "iopub.status.idle": "2021-01-21T19:49:28.443041Z",
     "shell.execute_reply": "2021-01-21T19:49:28.443550Z"
    },
    "papermill": {
     "duration": 0.060557,
     "end_time": "2021-01-21T19:49:28.443696",
     "exception": false,
     "start_time": "2021-01-21T19:49:28.383139",
     "status": "completed"
    },
    "tags": [],
    "pycharm": {
     "name": "#%%\n"
    }
   },
   "outputs": [
    {
     "data": {
      "text/plain": "    age  sex  height  weight  qrs_duration  p-r_interval  q-t_interval  \\\n0    75    0     190      80            91           193           371   \n1    56    1     165      64            81           174           401   \n2    54    0     172      95           138           163           386   \n3    55    0     175      94           100           202           380   \n4    75    0     190      80            88           181           360   \n5    13    0     169      51           100           167           321   \n6    40    1     160      52            77           129           377   \n7    49    1     162      54            78             0           376   \n8    44    0     168      56            84           118           354   \n9    50    1     167      67            89           130           383   \n10   62    0     170      72           102           135           401   \n11   45    1     165      86            77           143           373   \n12   54    1     172      58            78           155           382   \n13   30    0     170      73            91           180           355   \n14   44    1     160      88            77           158           399   \n15   47    1     150      48            75           132           350   \n16   47    0     171      59            82           145           347   \n17   46    1     158      58            70           120           353   \n18   73    0     165      63            91           154           392   \n19   57    1     166      72            82           181           399   \n20   28    1     160      58            83           251           383   \n21   45    0     169      67            90           122           336   \n22   36    1     153      75            71           132           364   \n23   57    1     165      59            75           157           406   \n24   40    1     153      55            82           140           388   \n25   44    0     169      80           109           128           382   \n26   34    0     170      73            94           186           373   \n27   31    1     160      54            95           161           407   \n28   56    1     164      65            90           164           420   \n29   51    1     160      83            96           147           400   \n30   53    0     175      85            85           157           408   \n31   58    1     163      68            71           136           339   \n32   50    1     160      73            75           125           353   \n33   52    1     155      70            78           137           368   \n34   69    0     176      75            82           145           357   \n35   44    1     160      45            69           178           357   \n36   50    0     172      80           103           142           366   \n37   35    1     164      94            85           200           385   \n38   62    1     163      60            80           185           354   \n39   45    0     175      80            94           163           401   \n40   43    1     157      71            80           162           383   \n41   40    1     160      75            79           154           350   \n42   30    1     160      62            92           154           346   \n43   34    1     165      61            84           152           383   \n44   40    1     160      51            86           177           367   \n45   75    1     156      55            73           159           350   \n46   69    1     160      71            75           156           322   \n47   30    1     158      57            73           137           369   \n48   41    1     159      55            78           228           429   \n49   34    1     159      68            80           135           379   \n\n    t_interval  p_interval  qrs  ...    KU   KV   KY    KZ   LA   LD   LE  \\\n0          174         121  -16  ...  62.9 -0.3  0.0   9.0 -0.9  0.9  2.9   \n1          149          39   25  ...  43.4 -0.5  0.0   8.5  0.0  0.2  2.1   \n2          185         102   96  ...  48.2  0.9  0.0   9.5 -2.4  0.3  3.4   \n3          179         143   28  ...  68.0  0.1  0.0  12.2 -2.2  0.4  2.6   \n4          177         103  -16  ...  48.9 -0.4  0.0  13.1 -3.6 -0.1  3.9   \n5          174          91  107  ...  49.1  0.0 -0.6  12.2 -2.8  0.9  2.2   \n6          133          77   77  ...  18.9 -0.4  0.0   6.5  0.0  0.4  1.0   \n7          157          70   67  ...  20.9 -0.3  0.0   8.2 -1.9  0.1  0.5   \n8          160          63   61  ...  48.5  0.1  0.0   7.0 -1.3  0.6  2.1   \n9          156          73   85  ...  29.6 -0.5 -0.6  10.8 -1.7  0.8  0.9   \n10         156          83   72  ...   3.7 -0.4 -0.5   9.0 -2.0  0.8  0.9   \n11         150          65   12  ...   5.7  0.1  0.0   4.4 -2.2  0.5  1.5   \n12         163          81  -24  ...   8.2 -0.2  0.0   6.3 -2.1  0.8  0.5   \n13         157         104   68  ...  79.9 -0.6 -0.9  12.3  0.0  0.4  2.1   \n14         163          94   46  ...  46.4  0.1 -0.6  12.4  0.0  0.3  1.7   \n15         169          65   36  ...  41.5  0.0  0.0   7.7 -0.8  0.6  1.7   \n16         169          61   77  ...  47.1 -0.4  0.0   9.4 -1.7  0.6  2.3   \n17         122          52   57  ...  19.6 -0.6  0.0   6.6  0.0  0.3  0.7   \n18         175          83   73  ...  25.9 -0.5  0.0   5.7  0.0  0.4  0.5   \n19         158          79  -12  ...  43.6 -0.3  0.0   7.7 -0.9  0.5  1.8   \n20         189         183   50  ...  64.7  0.0 -0.6   9.1 -1.4  0.6  3.3   \n21         177          78   81  ...  21.8 -0.4 -0.6   8.3 -1.8  0.8  1.1   \n22         169          82   62  ...  37.8 -0.1  0.0   8.9 -1.0  0.5  1.7   \n23         143          92    4  ...  28.4  0.7  0.0   6.7 -0.5  0.4  1.1   \n24         149          82   52  ...  57.8 -0.6  0.0  13.6  0.0  0.5  2.5   \n25         195          60  -34  ...  22.2 -0.7  0.0   6.9  0.0  0.4  1.3   \n26         224         125   90  ...  98.2 -0.3  0.0  15.3 -1.1  0.6  2.6   \n27         168          83   10  ...  57.4  0.0  0.0  12.7 -1.8  0.3  3.2   \n28         381          99   -8  ...  -3.7 -0.4  0.0   5.4  0.0  0.4 -1.4   \n29         301          82  -37  ... -16.3 -0.7  0.0   7.3 -3.9  0.5 -1.1   \n30         172          91  -52  ...  30.9  0.1  0.0   4.5 -1.6  0.7  1.1   \n31         152          76   13  ...  29.7  0.0  0.0   6.9 -0.8  0.4  1.4   \n32         183          63   38  ...  41.2 -0.2 -0.5   8.1 -0.8  0.7  2.5   \n33         148          83    9  ...  29.3 -0.5  0.0  10.9  0.0  0.7  1.2   \n34         129         101   49  ...  14.6  0.1 -0.6   6.8 -0.8  0.9  0.8   \n35         137          80   62  ...  38.3 -0.1  0.0  10.2  0.0  0.6  1.6   \n36         161          94   54  ...  28.5 -0.4  0.0  11.4 -4.7  0.5  1.6   \n37         174          74   48  ...  76.9 -0.2  0.0  11.2 -1.3  1.0  4.3   \n38         166         107   -2  ...  54.2  0.2  0.0  11.2 -1.0  0.9  3.8   \n39         159         106  -57  ...  30.4 -0.4  0.0   3.1  0.0  0.4  1.0   \n40         141          84   53  ...  40.7 -0.2  0.0  10.8 -1.5  0.4  1.9   \n41         160          94   67  ...  14.2 -0.3  0.0   6.1 -1.3  0.4  0.9   \n42         158          96   54  ...  34.4 -0.4 -0.7   8.6 -1.0  0.9  1.5   \n43         144          71   59  ...  24.6 -0.5 -1.0  16.3  0.0  0.4 -1.1   \n44         147         113  -18  ...  13.7 -0.3  0.0   6.5 -2.2  0.6  0.7   \n45         138          99  -18  ...   9.4  0.2  0.0   2.9 -1.6  0.7  1.5   \n46         172         105   18  ...  19.7 -0.3  0.0   6.6 -0.8  0.2  1.3   \n47         143          77   30  ...  26.7 -0.6  0.0   9.5  0.0  0.4  0.5   \n48         130          94   63  ...  27.1 -0.3  0.0   6.9  0.0  0.4  1.6   \n49         149          97  -14  ...   7.0 -0.2  0.0   6.5 -3.1  0.7  0.6   \n\n      LF    LG  diagnosis  \n0   23.3  49.4          8  \n1   20.4  38.8          6  \n2   12.3  49.0         10  \n3   34.6  61.6          1  \n4   25.4  62.8          7  \n5   13.5  31.1         14  \n6   14.3  20.5          1  \n7   15.8  19.8          1  \n8   12.5  30.9          1  \n9   20.1  25.1         10  \n10  12.3  19.3          3  \n11   4.9  17.2          1  \n12   8.8  12.1         10  \n13  28.5  48.6          6  \n14  39.2  54.1          1  \n15  17.2  31.1          1  \n16  19.5  41.1         10  \n17  17.1  20.8          1  \n18  18.2  22.4          1  \n19  25.2  38.5          1  \n20  17.1  54.7          1  \n21  11.7  19.6          1  \n22  19.7  34.3          1  \n23  18.4  28.9          1  \n24  35.3  57.3          1  \n25  20.7  29.2         16  \n26  44.0  68.4         14  \n27  25.4  54.8         10  \n28  17.2   3.0          2  \n29   3.6  -6.3          2  \n30   8.6  16.3          6  \n31  13.5  25.5          1  \n32  14.5  39.5          1  \n33  26.1  32.5          1  \n34  11.8  16.2          4  \n35  34.6  46.4          1  \n36  14.2  27.6          1  \n37  26.5  67.7         10  \n38  28.3  60.9          1  \n39  10.5  17.9          6  \n40  23.5  36.4          1  \n41   8.1  16.2          1  \n42  16.4  25.7          1  \n43  37.9  22.1          1  \n44  10.4  14.4          1  \n45   3.0  12.0          4  \n46  11.8  23.5          5  \n47  22.8  26.0          1  \n48  17.9  29.4          6  \n49   8.8  12.7          1  \n\n[50 rows x 177 columns]",
      "text/html": "<div>\n<style scoped>\n    .dataframe tbody tr th:only-of-type {\n        vertical-align: middle;\n    }\n\n    .dataframe tbody tr th {\n        vertical-align: top;\n    }\n\n    .dataframe thead th {\n        text-align: right;\n    }\n</style>\n<table border=\"1\" class=\"dataframe\">\n  <thead>\n    <tr style=\"text-align: right;\">\n      <th></th>\n      <th>age</th>\n      <th>sex</th>\n      <th>height</th>\n      <th>weight</th>\n      <th>qrs_duration</th>\n      <th>p-r_interval</th>\n      <th>q-t_interval</th>\n      <th>t_interval</th>\n      <th>p_interval</th>\n      <th>qrs</th>\n      <th>...</th>\n      <th>KU</th>\n      <th>KV</th>\n      <th>KY</th>\n      <th>KZ</th>\n      <th>LA</th>\n      <th>LD</th>\n      <th>LE</th>\n      <th>LF</th>\n      <th>LG</th>\n      <th>diagnosis</th>\n    </tr>\n  </thead>\n  <tbody>\n    <tr>\n      <th>0</th>\n      <td>75</td>\n      <td>0</td>\n      <td>190</td>\n      <td>80</td>\n      <td>91</td>\n      <td>193</td>\n      <td>371</td>\n      <td>174</td>\n      <td>121</td>\n      <td>-16</td>\n      <td>...</td>\n      <td>62.9</td>\n      <td>-0.3</td>\n      <td>0.0</td>\n      <td>9.0</td>\n      <td>-0.9</td>\n      <td>0.9</td>\n      <td>2.9</td>\n      <td>23.3</td>\n      <td>49.4</td>\n      <td>8</td>\n    </tr>\n    <tr>\n      <th>1</th>\n      <td>56</td>\n      <td>1</td>\n      <td>165</td>\n      <td>64</td>\n      <td>81</td>\n      <td>174</td>\n      <td>401</td>\n      <td>149</td>\n      <td>39</td>\n      <td>25</td>\n      <td>...</td>\n      <td>43.4</td>\n      <td>-0.5</td>\n      <td>0.0</td>\n      <td>8.5</td>\n      <td>0.0</td>\n      <td>0.2</td>\n      <td>2.1</td>\n      <td>20.4</td>\n      <td>38.8</td>\n      <td>6</td>\n    </tr>\n    <tr>\n      <th>2</th>\n      <td>54</td>\n      <td>0</td>\n      <td>172</td>\n      <td>95</td>\n      <td>138</td>\n      <td>163</td>\n      <td>386</td>\n      <td>185</td>\n      <td>102</td>\n      <td>96</td>\n      <td>...</td>\n      <td>48.2</td>\n      <td>0.9</td>\n      <td>0.0</td>\n      <td>9.5</td>\n      <td>-2.4</td>\n      <td>0.3</td>\n      <td>3.4</td>\n      <td>12.3</td>\n      <td>49.0</td>\n      <td>10</td>\n    </tr>\n    <tr>\n      <th>3</th>\n      <td>55</td>\n      <td>0</td>\n      <td>175</td>\n      <td>94</td>\n      <td>100</td>\n      <td>202</td>\n      <td>380</td>\n      <td>179</td>\n      <td>143</td>\n      <td>28</td>\n      <td>...</td>\n      <td>68.0</td>\n      <td>0.1</td>\n      <td>0.0</td>\n      <td>12.2</td>\n      <td>-2.2</td>\n      <td>0.4</td>\n      <td>2.6</td>\n      <td>34.6</td>\n      <td>61.6</td>\n      <td>1</td>\n    </tr>\n    <tr>\n      <th>4</th>\n      <td>75</td>\n      <td>0</td>\n      <td>190</td>\n      <td>80</td>\n      <td>88</td>\n      <td>181</td>\n      <td>360</td>\n      <td>177</td>\n      <td>103</td>\n      <td>-16</td>\n      <td>...</td>\n      <td>48.9</td>\n      <td>-0.4</td>\n      <td>0.0</td>\n      <td>13.1</td>\n      <td>-3.6</td>\n      <td>-0.1</td>\n      <td>3.9</td>\n      <td>25.4</td>\n      <td>62.8</td>\n      <td>7</td>\n    </tr>\n    <tr>\n      <th>5</th>\n      <td>13</td>\n      <td>0</td>\n      <td>169</td>\n      <td>51</td>\n      <td>100</td>\n      <td>167</td>\n      <td>321</td>\n      <td>174</td>\n      <td>91</td>\n      <td>107</td>\n      <td>...</td>\n      <td>49.1</td>\n      <td>0.0</td>\n      <td>-0.6</td>\n      <td>12.2</td>\n      <td>-2.8</td>\n      <td>0.9</td>\n      <td>2.2</td>\n      <td>13.5</td>\n      <td>31.1</td>\n      <td>14</td>\n    </tr>\n    <tr>\n      <th>6</th>\n      <td>40</td>\n      <td>1</td>\n      <td>160</td>\n      <td>52</td>\n      <td>77</td>\n      <td>129</td>\n      <td>377</td>\n      <td>133</td>\n      <td>77</td>\n      <td>77</td>\n      <td>...</td>\n      <td>18.9</td>\n      <td>-0.4</td>\n      <td>0.0</td>\n      <td>6.5</td>\n      <td>0.0</td>\n      <td>0.4</td>\n      <td>1.0</td>\n      <td>14.3</td>\n      <td>20.5</td>\n      <td>1</td>\n    </tr>\n    <tr>\n      <th>7</th>\n      <td>49</td>\n      <td>1</td>\n      <td>162</td>\n      <td>54</td>\n      <td>78</td>\n      <td>0</td>\n      <td>376</td>\n      <td>157</td>\n      <td>70</td>\n      <td>67</td>\n      <td>...</td>\n      <td>20.9</td>\n      <td>-0.3</td>\n      <td>0.0</td>\n      <td>8.2</td>\n      <td>-1.9</td>\n      <td>0.1</td>\n      <td>0.5</td>\n      <td>15.8</td>\n      <td>19.8</td>\n      <td>1</td>\n    </tr>\n    <tr>\n      <th>8</th>\n      <td>44</td>\n      <td>0</td>\n      <td>168</td>\n      <td>56</td>\n      <td>84</td>\n      <td>118</td>\n      <td>354</td>\n      <td>160</td>\n      <td>63</td>\n      <td>61</td>\n      <td>...</td>\n      <td>48.5</td>\n      <td>0.1</td>\n      <td>0.0</td>\n      <td>7.0</td>\n      <td>-1.3</td>\n      <td>0.6</td>\n      <td>2.1</td>\n      <td>12.5</td>\n      <td>30.9</td>\n      <td>1</td>\n    </tr>\n    <tr>\n      <th>9</th>\n      <td>50</td>\n      <td>1</td>\n      <td>167</td>\n      <td>67</td>\n      <td>89</td>\n      <td>130</td>\n      <td>383</td>\n      <td>156</td>\n      <td>73</td>\n      <td>85</td>\n      <td>...</td>\n      <td>29.6</td>\n      <td>-0.5</td>\n      <td>-0.6</td>\n      <td>10.8</td>\n      <td>-1.7</td>\n      <td>0.8</td>\n      <td>0.9</td>\n      <td>20.1</td>\n      <td>25.1</td>\n      <td>10</td>\n    </tr>\n    <tr>\n      <th>10</th>\n      <td>62</td>\n      <td>0</td>\n      <td>170</td>\n      <td>72</td>\n      <td>102</td>\n      <td>135</td>\n      <td>401</td>\n      <td>156</td>\n      <td>83</td>\n      <td>72</td>\n      <td>...</td>\n      <td>3.7</td>\n      <td>-0.4</td>\n      <td>-0.5</td>\n      <td>9.0</td>\n      <td>-2.0</td>\n      <td>0.8</td>\n      <td>0.9</td>\n      <td>12.3</td>\n      <td>19.3</td>\n      <td>3</td>\n    </tr>\n    <tr>\n      <th>11</th>\n      <td>45</td>\n      <td>1</td>\n      <td>165</td>\n      <td>86</td>\n      <td>77</td>\n      <td>143</td>\n      <td>373</td>\n      <td>150</td>\n      <td>65</td>\n      <td>12</td>\n      <td>...</td>\n      <td>5.7</td>\n      <td>0.1</td>\n      <td>0.0</td>\n      <td>4.4</td>\n      <td>-2.2</td>\n      <td>0.5</td>\n      <td>1.5</td>\n      <td>4.9</td>\n      <td>17.2</td>\n      <td>1</td>\n    </tr>\n    <tr>\n      <th>12</th>\n      <td>54</td>\n      <td>1</td>\n      <td>172</td>\n      <td>58</td>\n      <td>78</td>\n      <td>155</td>\n      <td>382</td>\n      <td>163</td>\n      <td>81</td>\n      <td>-24</td>\n      <td>...</td>\n      <td>8.2</td>\n      <td>-0.2</td>\n      <td>0.0</td>\n      <td>6.3</td>\n      <td>-2.1</td>\n      <td>0.8</td>\n      <td>0.5</td>\n      <td>8.8</td>\n      <td>12.1</td>\n      <td>10</td>\n    </tr>\n    <tr>\n      <th>13</th>\n      <td>30</td>\n      <td>0</td>\n      <td>170</td>\n      <td>73</td>\n      <td>91</td>\n      <td>180</td>\n      <td>355</td>\n      <td>157</td>\n      <td>104</td>\n      <td>68</td>\n      <td>...</td>\n      <td>79.9</td>\n      <td>-0.6</td>\n      <td>-0.9</td>\n      <td>12.3</td>\n      <td>0.0</td>\n      <td>0.4</td>\n      <td>2.1</td>\n      <td>28.5</td>\n      <td>48.6</td>\n      <td>6</td>\n    </tr>\n    <tr>\n      <th>14</th>\n      <td>44</td>\n      <td>1</td>\n      <td>160</td>\n      <td>88</td>\n      <td>77</td>\n      <td>158</td>\n      <td>399</td>\n      <td>163</td>\n      <td>94</td>\n      <td>46</td>\n      <td>...</td>\n      <td>46.4</td>\n      <td>0.1</td>\n      <td>-0.6</td>\n      <td>12.4</td>\n      <td>0.0</td>\n      <td>0.3</td>\n      <td>1.7</td>\n      <td>39.2</td>\n      <td>54.1</td>\n      <td>1</td>\n    </tr>\n    <tr>\n      <th>15</th>\n      <td>47</td>\n      <td>1</td>\n      <td>150</td>\n      <td>48</td>\n      <td>75</td>\n      <td>132</td>\n      <td>350</td>\n      <td>169</td>\n      <td>65</td>\n      <td>36</td>\n      <td>...</td>\n      <td>41.5</td>\n      <td>0.0</td>\n      <td>0.0</td>\n      <td>7.7</td>\n      <td>-0.8</td>\n      <td>0.6</td>\n      <td>1.7</td>\n      <td>17.2</td>\n      <td>31.1</td>\n      <td>1</td>\n    </tr>\n    <tr>\n      <th>16</th>\n      <td>47</td>\n      <td>0</td>\n      <td>171</td>\n      <td>59</td>\n      <td>82</td>\n      <td>145</td>\n      <td>347</td>\n      <td>169</td>\n      <td>61</td>\n      <td>77</td>\n      <td>...</td>\n      <td>47.1</td>\n      <td>-0.4</td>\n      <td>0.0</td>\n      <td>9.4</td>\n      <td>-1.7</td>\n      <td>0.6</td>\n      <td>2.3</td>\n      <td>19.5</td>\n      <td>41.1</td>\n      <td>10</td>\n    </tr>\n    <tr>\n      <th>17</th>\n      <td>46</td>\n      <td>1</td>\n      <td>158</td>\n      <td>58</td>\n      <td>70</td>\n      <td>120</td>\n      <td>353</td>\n      <td>122</td>\n      <td>52</td>\n      <td>57</td>\n      <td>...</td>\n      <td>19.6</td>\n      <td>-0.6</td>\n      <td>0.0</td>\n      <td>6.6</td>\n      <td>0.0</td>\n      <td>0.3</td>\n      <td>0.7</td>\n      <td>17.1</td>\n      <td>20.8</td>\n      <td>1</td>\n    </tr>\n    <tr>\n      <th>18</th>\n      <td>73</td>\n      <td>0</td>\n      <td>165</td>\n      <td>63</td>\n      <td>91</td>\n      <td>154</td>\n      <td>392</td>\n      <td>175</td>\n      <td>83</td>\n      <td>73</td>\n      <td>...</td>\n      <td>25.9</td>\n      <td>-0.5</td>\n      <td>0.0</td>\n      <td>5.7</td>\n      <td>0.0</td>\n      <td>0.4</td>\n      <td>0.5</td>\n      <td>18.2</td>\n      <td>22.4</td>\n      <td>1</td>\n    </tr>\n    <tr>\n      <th>19</th>\n      <td>57</td>\n      <td>1</td>\n      <td>166</td>\n      <td>72</td>\n      <td>82</td>\n      <td>181</td>\n      <td>399</td>\n      <td>158</td>\n      <td>79</td>\n      <td>-12</td>\n      <td>...</td>\n      <td>43.6</td>\n      <td>-0.3</td>\n      <td>0.0</td>\n      <td>7.7</td>\n      <td>-0.9</td>\n      <td>0.5</td>\n      <td>1.8</td>\n      <td>25.2</td>\n      <td>38.5</td>\n      <td>1</td>\n    </tr>\n    <tr>\n      <th>20</th>\n      <td>28</td>\n      <td>1</td>\n      <td>160</td>\n      <td>58</td>\n      <td>83</td>\n      <td>251</td>\n      <td>383</td>\n      <td>189</td>\n      <td>183</td>\n      <td>50</td>\n      <td>...</td>\n      <td>64.7</td>\n      <td>0.0</td>\n      <td>-0.6</td>\n      <td>9.1</td>\n      <td>-1.4</td>\n      <td>0.6</td>\n      <td>3.3</td>\n      <td>17.1</td>\n      <td>54.7</td>\n      <td>1</td>\n    </tr>\n    <tr>\n      <th>21</th>\n      <td>45</td>\n      <td>0</td>\n      <td>169</td>\n      <td>67</td>\n      <td>90</td>\n      <td>122</td>\n      <td>336</td>\n      <td>177</td>\n      <td>78</td>\n      <td>81</td>\n      <td>...</td>\n      <td>21.8</td>\n      <td>-0.4</td>\n      <td>-0.6</td>\n      <td>8.3</td>\n      <td>-1.8</td>\n      <td>0.8</td>\n      <td>1.1</td>\n      <td>11.7</td>\n      <td>19.6</td>\n      <td>1</td>\n    </tr>\n    <tr>\n      <th>22</th>\n      <td>36</td>\n      <td>1</td>\n      <td>153</td>\n      <td>75</td>\n      <td>71</td>\n      <td>132</td>\n      <td>364</td>\n      <td>169</td>\n      <td>82</td>\n      <td>62</td>\n      <td>...</td>\n      <td>37.8</td>\n      <td>-0.1</td>\n      <td>0.0</td>\n      <td>8.9</td>\n      <td>-1.0</td>\n      <td>0.5</td>\n      <td>1.7</td>\n      <td>19.7</td>\n      <td>34.3</td>\n      <td>1</td>\n    </tr>\n    <tr>\n      <th>23</th>\n      <td>57</td>\n      <td>1</td>\n      <td>165</td>\n      <td>59</td>\n      <td>75</td>\n      <td>157</td>\n      <td>406</td>\n      <td>143</td>\n      <td>92</td>\n      <td>4</td>\n      <td>...</td>\n      <td>28.4</td>\n      <td>0.7</td>\n      <td>0.0</td>\n      <td>6.7</td>\n      <td>-0.5</td>\n      <td>0.4</td>\n      <td>1.1</td>\n      <td>18.4</td>\n      <td>28.9</td>\n      <td>1</td>\n    </tr>\n    <tr>\n      <th>24</th>\n      <td>40</td>\n      <td>1</td>\n      <td>153</td>\n      <td>55</td>\n      <td>82</td>\n      <td>140</td>\n      <td>388</td>\n      <td>149</td>\n      <td>82</td>\n      <td>52</td>\n      <td>...</td>\n      <td>57.8</td>\n      <td>-0.6</td>\n      <td>0.0</td>\n      <td>13.6</td>\n      <td>0.0</td>\n      <td>0.5</td>\n      <td>2.5</td>\n      <td>35.3</td>\n      <td>57.3</td>\n      <td>1</td>\n    </tr>\n    <tr>\n      <th>25</th>\n      <td>44</td>\n      <td>0</td>\n      <td>169</td>\n      <td>80</td>\n      <td>109</td>\n      <td>128</td>\n      <td>382</td>\n      <td>195</td>\n      <td>60</td>\n      <td>-34</td>\n      <td>...</td>\n      <td>22.2</td>\n      <td>-0.7</td>\n      <td>0.0</td>\n      <td>6.9</td>\n      <td>0.0</td>\n      <td>0.4</td>\n      <td>1.3</td>\n      <td>20.7</td>\n      <td>29.2</td>\n      <td>16</td>\n    </tr>\n    <tr>\n      <th>26</th>\n      <td>34</td>\n      <td>0</td>\n      <td>170</td>\n      <td>73</td>\n      <td>94</td>\n      <td>186</td>\n      <td>373</td>\n      <td>224</td>\n      <td>125</td>\n      <td>90</td>\n      <td>...</td>\n      <td>98.2</td>\n      <td>-0.3</td>\n      <td>0.0</td>\n      <td>15.3</td>\n      <td>-1.1</td>\n      <td>0.6</td>\n      <td>2.6</td>\n      <td>44.0</td>\n      <td>68.4</td>\n      <td>14</td>\n    </tr>\n    <tr>\n      <th>27</th>\n      <td>31</td>\n      <td>1</td>\n      <td>160</td>\n      <td>54</td>\n      <td>95</td>\n      <td>161</td>\n      <td>407</td>\n      <td>168</td>\n      <td>83</td>\n      <td>10</td>\n      <td>...</td>\n      <td>57.4</td>\n      <td>0.0</td>\n      <td>0.0</td>\n      <td>12.7</td>\n      <td>-1.8</td>\n      <td>0.3</td>\n      <td>3.2</td>\n      <td>25.4</td>\n      <td>54.8</td>\n      <td>10</td>\n    </tr>\n    <tr>\n      <th>28</th>\n      <td>56</td>\n      <td>1</td>\n      <td>164</td>\n      <td>65</td>\n      <td>90</td>\n      <td>164</td>\n      <td>420</td>\n      <td>381</td>\n      <td>99</td>\n      <td>-8</td>\n      <td>...</td>\n      <td>-3.7</td>\n      <td>-0.4</td>\n      <td>0.0</td>\n      <td>5.4</td>\n      <td>0.0</td>\n      <td>0.4</td>\n      <td>-1.4</td>\n      <td>17.2</td>\n      <td>3.0</td>\n      <td>2</td>\n    </tr>\n    <tr>\n      <th>29</th>\n      <td>51</td>\n      <td>1</td>\n      <td>160</td>\n      <td>83</td>\n      <td>96</td>\n      <td>147</td>\n      <td>400</td>\n      <td>301</td>\n      <td>82</td>\n      <td>-37</td>\n      <td>...</td>\n      <td>-16.3</td>\n      <td>-0.7</td>\n      <td>0.0</td>\n      <td>7.3</td>\n      <td>-3.9</td>\n      <td>0.5</td>\n      <td>-1.1</td>\n      <td>3.6</td>\n      <td>-6.3</td>\n      <td>2</td>\n    </tr>\n    <tr>\n      <th>30</th>\n      <td>53</td>\n      <td>0</td>\n      <td>175</td>\n      <td>85</td>\n      <td>85</td>\n      <td>157</td>\n      <td>408</td>\n      <td>172</td>\n      <td>91</td>\n      <td>-52</td>\n      <td>...</td>\n      <td>30.9</td>\n      <td>0.1</td>\n      <td>0.0</td>\n      <td>4.5</td>\n      <td>-1.6</td>\n      <td>0.7</td>\n      <td>1.1</td>\n      <td>8.6</td>\n      <td>16.3</td>\n      <td>6</td>\n    </tr>\n    <tr>\n      <th>31</th>\n      <td>58</td>\n      <td>1</td>\n      <td>163</td>\n      <td>68</td>\n      <td>71</td>\n      <td>136</td>\n      <td>339</td>\n      <td>152</td>\n      <td>76</td>\n      <td>13</td>\n      <td>...</td>\n      <td>29.7</td>\n      <td>0.0</td>\n      <td>0.0</td>\n      <td>6.9</td>\n      <td>-0.8</td>\n      <td>0.4</td>\n      <td>1.4</td>\n      <td>13.5</td>\n      <td>25.5</td>\n      <td>1</td>\n    </tr>\n    <tr>\n      <th>32</th>\n      <td>50</td>\n      <td>1</td>\n      <td>160</td>\n      <td>73</td>\n      <td>75</td>\n      <td>125</td>\n      <td>353</td>\n      <td>183</td>\n      <td>63</td>\n      <td>38</td>\n      <td>...</td>\n      <td>41.2</td>\n      <td>-0.2</td>\n      <td>-0.5</td>\n      <td>8.1</td>\n      <td>-0.8</td>\n      <td>0.7</td>\n      <td>2.5</td>\n      <td>14.5</td>\n      <td>39.5</td>\n      <td>1</td>\n    </tr>\n    <tr>\n      <th>33</th>\n      <td>52</td>\n      <td>1</td>\n      <td>155</td>\n      <td>70</td>\n      <td>78</td>\n      <td>137</td>\n      <td>368</td>\n      <td>148</td>\n      <td>83</td>\n      <td>9</td>\n      <td>...</td>\n      <td>29.3</td>\n      <td>-0.5</td>\n      <td>0.0</td>\n      <td>10.9</td>\n      <td>0.0</td>\n      <td>0.7</td>\n      <td>1.2</td>\n      <td>26.1</td>\n      <td>32.5</td>\n      <td>1</td>\n    </tr>\n    <tr>\n      <th>34</th>\n      <td>69</td>\n      <td>0</td>\n      <td>176</td>\n      <td>75</td>\n      <td>82</td>\n      <td>145</td>\n      <td>357</td>\n      <td>129</td>\n      <td>101</td>\n      <td>49</td>\n      <td>...</td>\n      <td>14.6</td>\n      <td>0.1</td>\n      <td>-0.6</td>\n      <td>6.8</td>\n      <td>-0.8</td>\n      <td>0.9</td>\n      <td>0.8</td>\n      <td>11.8</td>\n      <td>16.2</td>\n      <td>4</td>\n    </tr>\n    <tr>\n      <th>35</th>\n      <td>44</td>\n      <td>1</td>\n      <td>160</td>\n      <td>45</td>\n      <td>69</td>\n      <td>178</td>\n      <td>357</td>\n      <td>137</td>\n      <td>80</td>\n      <td>62</td>\n      <td>...</td>\n      <td>38.3</td>\n      <td>-0.1</td>\n      <td>0.0</td>\n      <td>10.2</td>\n      <td>0.0</td>\n      <td>0.6</td>\n      <td>1.6</td>\n      <td>34.6</td>\n      <td>46.4</td>\n      <td>1</td>\n    </tr>\n    <tr>\n      <th>36</th>\n      <td>50</td>\n      <td>0</td>\n      <td>172</td>\n      <td>80</td>\n      <td>103</td>\n      <td>142</td>\n      <td>366</td>\n      <td>161</td>\n      <td>94</td>\n      <td>54</td>\n      <td>...</td>\n      <td>28.5</td>\n      <td>-0.4</td>\n      <td>0.0</td>\n      <td>11.4</td>\n      <td>-4.7</td>\n      <td>0.5</td>\n      <td>1.6</td>\n      <td>14.2</td>\n      <td>27.6</td>\n      <td>1</td>\n    </tr>\n    <tr>\n      <th>37</th>\n      <td>35</td>\n      <td>1</td>\n      <td>164</td>\n      <td>94</td>\n      <td>85</td>\n      <td>200</td>\n      <td>385</td>\n      <td>174</td>\n      <td>74</td>\n      <td>48</td>\n      <td>...</td>\n      <td>76.9</td>\n      <td>-0.2</td>\n      <td>0.0</td>\n      <td>11.2</td>\n      <td>-1.3</td>\n      <td>1.0</td>\n      <td>4.3</td>\n      <td>26.5</td>\n      <td>67.7</td>\n      <td>10</td>\n    </tr>\n    <tr>\n      <th>38</th>\n      <td>62</td>\n      <td>1</td>\n      <td>163</td>\n      <td>60</td>\n      <td>80</td>\n      <td>185</td>\n      <td>354</td>\n      <td>166</td>\n      <td>107</td>\n      <td>-2</td>\n      <td>...</td>\n      <td>54.2</td>\n      <td>0.2</td>\n      <td>0.0</td>\n      <td>11.2</td>\n      <td>-1.0</td>\n      <td>0.9</td>\n      <td>3.8</td>\n      <td>28.3</td>\n      <td>60.9</td>\n      <td>1</td>\n    </tr>\n    <tr>\n      <th>39</th>\n      <td>45</td>\n      <td>0</td>\n      <td>175</td>\n      <td>80</td>\n      <td>94</td>\n      <td>163</td>\n      <td>401</td>\n      <td>159</td>\n      <td>106</td>\n      <td>-57</td>\n      <td>...</td>\n      <td>30.4</td>\n      <td>-0.4</td>\n      <td>0.0</td>\n      <td>3.1</td>\n      <td>0.0</td>\n      <td>0.4</td>\n      <td>1.0</td>\n      <td>10.5</td>\n      <td>17.9</td>\n      <td>6</td>\n    </tr>\n    <tr>\n      <th>40</th>\n      <td>43</td>\n      <td>1</td>\n      <td>157</td>\n      <td>71</td>\n      <td>80</td>\n      <td>162</td>\n      <td>383</td>\n      <td>141</td>\n      <td>84</td>\n      <td>53</td>\n      <td>...</td>\n      <td>40.7</td>\n      <td>-0.2</td>\n      <td>0.0</td>\n      <td>10.8</td>\n      <td>-1.5</td>\n      <td>0.4</td>\n      <td>1.9</td>\n      <td>23.5</td>\n      <td>36.4</td>\n      <td>1</td>\n    </tr>\n    <tr>\n      <th>41</th>\n      <td>40</td>\n      <td>1</td>\n      <td>160</td>\n      <td>75</td>\n      <td>79</td>\n      <td>154</td>\n      <td>350</td>\n      <td>160</td>\n      <td>94</td>\n      <td>67</td>\n      <td>...</td>\n      <td>14.2</td>\n      <td>-0.3</td>\n      <td>0.0</td>\n      <td>6.1</td>\n      <td>-1.3</td>\n      <td>0.4</td>\n      <td>0.9</td>\n      <td>8.1</td>\n      <td>16.2</td>\n      <td>1</td>\n    </tr>\n    <tr>\n      <th>42</th>\n      <td>30</td>\n      <td>1</td>\n      <td>160</td>\n      <td>62</td>\n      <td>92</td>\n      <td>154</td>\n      <td>346</td>\n      <td>158</td>\n      <td>96</td>\n      <td>54</td>\n      <td>...</td>\n      <td>34.4</td>\n      <td>-0.4</td>\n      <td>-0.7</td>\n      <td>8.6</td>\n      <td>-1.0</td>\n      <td>0.9</td>\n      <td>1.5</td>\n      <td>16.4</td>\n      <td>25.7</td>\n      <td>1</td>\n    </tr>\n    <tr>\n      <th>43</th>\n      <td>34</td>\n      <td>1</td>\n      <td>165</td>\n      <td>61</td>\n      <td>84</td>\n      <td>152</td>\n      <td>383</td>\n      <td>144</td>\n      <td>71</td>\n      <td>59</td>\n      <td>...</td>\n      <td>24.6</td>\n      <td>-0.5</td>\n      <td>-1.0</td>\n      <td>16.3</td>\n      <td>0.0</td>\n      <td>0.4</td>\n      <td>-1.1</td>\n      <td>37.9</td>\n      <td>22.1</td>\n      <td>1</td>\n    </tr>\n    <tr>\n      <th>44</th>\n      <td>40</td>\n      <td>1</td>\n      <td>160</td>\n      <td>51</td>\n      <td>86</td>\n      <td>177</td>\n      <td>367</td>\n      <td>147</td>\n      <td>113</td>\n      <td>-18</td>\n      <td>...</td>\n      <td>13.7</td>\n      <td>-0.3</td>\n      <td>0.0</td>\n      <td>6.5</td>\n      <td>-2.2</td>\n      <td>0.6</td>\n      <td>0.7</td>\n      <td>10.4</td>\n      <td>14.4</td>\n      <td>1</td>\n    </tr>\n    <tr>\n      <th>45</th>\n      <td>75</td>\n      <td>1</td>\n      <td>156</td>\n      <td>55</td>\n      <td>73</td>\n      <td>159</td>\n      <td>350</td>\n      <td>138</td>\n      <td>99</td>\n      <td>-18</td>\n      <td>...</td>\n      <td>9.4</td>\n      <td>0.2</td>\n      <td>0.0</td>\n      <td>2.9</td>\n      <td>-1.6</td>\n      <td>0.7</td>\n      <td>1.5</td>\n      <td>3.0</td>\n      <td>12.0</td>\n      <td>4</td>\n    </tr>\n    <tr>\n      <th>46</th>\n      <td>69</td>\n      <td>1</td>\n      <td>160</td>\n      <td>71</td>\n      <td>75</td>\n      <td>156</td>\n      <td>322</td>\n      <td>172</td>\n      <td>105</td>\n      <td>18</td>\n      <td>...</td>\n      <td>19.7</td>\n      <td>-0.3</td>\n      <td>0.0</td>\n      <td>6.6</td>\n      <td>-0.8</td>\n      <td>0.2</td>\n      <td>1.3</td>\n      <td>11.8</td>\n      <td>23.5</td>\n      <td>5</td>\n    </tr>\n    <tr>\n      <th>47</th>\n      <td>30</td>\n      <td>1</td>\n      <td>158</td>\n      <td>57</td>\n      <td>73</td>\n      <td>137</td>\n      <td>369</td>\n      <td>143</td>\n      <td>77</td>\n      <td>30</td>\n      <td>...</td>\n      <td>26.7</td>\n      <td>-0.6</td>\n      <td>0.0</td>\n      <td>9.5</td>\n      <td>0.0</td>\n      <td>0.4</td>\n      <td>0.5</td>\n      <td>22.8</td>\n      <td>26.0</td>\n      <td>1</td>\n    </tr>\n    <tr>\n      <th>48</th>\n      <td>41</td>\n      <td>1</td>\n      <td>159</td>\n      <td>55</td>\n      <td>78</td>\n      <td>228</td>\n      <td>429</td>\n      <td>130</td>\n      <td>94</td>\n      <td>63</td>\n      <td>...</td>\n      <td>27.1</td>\n      <td>-0.3</td>\n      <td>0.0</td>\n      <td>6.9</td>\n      <td>0.0</td>\n      <td>0.4</td>\n      <td>1.6</td>\n      <td>17.9</td>\n      <td>29.4</td>\n      <td>6</td>\n    </tr>\n    <tr>\n      <th>49</th>\n      <td>34</td>\n      <td>1</td>\n      <td>159</td>\n      <td>68</td>\n      <td>80</td>\n      <td>135</td>\n      <td>379</td>\n      <td>149</td>\n      <td>97</td>\n      <td>-14</td>\n      <td>...</td>\n      <td>7.0</td>\n      <td>-0.2</td>\n      <td>0.0</td>\n      <td>6.5</td>\n      <td>-3.1</td>\n      <td>0.7</td>\n      <td>0.6</td>\n      <td>8.8</td>\n      <td>12.7</td>\n      <td>1</td>\n    </tr>\n  </tbody>\n</table>\n<p>50 rows × 177 columns</p>\n</div>"
     },
     "execution_count": 238,
     "metadata": {},
     "output_type": "execute_result"
    }
   ],
   "source": [
    "df.head(50)"
   ]
  },
  {
   "cell_type": "markdown",
   "metadata": {
    "papermill": {
     "duration": 0.034157,
     "end_time": "2021-01-21T19:49:28.512259",
     "exception": false,
     "start_time": "2021-01-21T19:49:28.478102",
     "status": "completed"
    },
    "tags": [],
    "pycharm": {
     "name": "#%% md\n"
    }
   },
   "source": [
    "Further investigating the data have revealed there are some odd entries for the entries that are made presumably for babies which is handled manually. https://www.kaggle.com/mtavares51/binary-classification-on-arrhythmia-dataset"
   ]
  },
  {
   "cell_type": "code",
   "execution_count": 239,
   "metadata": {
    "execution": {
     "iopub.execute_input": "2021-01-21T19:49:28.585036Z",
     "iopub.status.busy": "2021-01-21T19:49:28.584336Z",
     "iopub.status.idle": "2021-01-21T19:49:28.599590Z",
     "shell.execute_reply": "2021-01-21T19:49:28.598883Z"
    },
    "papermill": {
     "duration": 0.052589,
     "end_time": "2021-01-21T19:49:28.599707",
     "exception": false,
     "start_time": "2021-01-21T19:49:28.547118",
     "status": "completed"
    },
    "tags": [],
    "pycharm": {
     "name": "#%%\n"
    }
   },
   "outputs": [
    {
     "data": {
      "text/plain": "105     1\n110     1\n119     1\n120     2\n124     1\n127     1\n130     2\n132     1\n133     1\n138     1\n140     1\n146     1\n148     1\n149     1\n150     9\n152     1\n153     5\n154     4\n155    23\n156    19\n157    10\n158     9\n159     6\n160    81\n161     5\n162    15\n163    16\n164     9\n165    46\n166     9\n167     8\n168    15\n169     7\n170    40\n171     9\n172    14\n173     7\n174     4\n175    21\n176    10\n177     4\n178     9\n179     1\n180     4\n181     1\n182     2\n184     1\n185     3\n186     3\n188     1\n190     3\n608     1\n780     1\nName: height, dtype: int64"
     },
     "execution_count": 239,
     "metadata": {},
     "output_type": "execute_result"
    }
   ],
   "source": [
    "df['height'].value_counts().sort_index()"
   ]
  },
  {
   "cell_type": "code",
   "execution_count": 240,
   "metadata": {
    "execution": {
     "iopub.execute_input": "2021-01-21T19:49:28.674162Z",
     "iopub.status.busy": "2021-01-21T19:49:28.673147Z",
     "iopub.status.idle": "2021-01-21T19:49:28.712150Z",
     "shell.execute_reply": "2021-01-21T19:49:28.711587Z"
    },
    "papermill": {
     "duration": 0.07722,
     "end_time": "2021-01-21T19:49:28.712264",
     "exception": false,
     "start_time": "2021-01-21T19:49:28.635044",
     "status": "completed"
    },
    "tags": [],
    "pycharm": {
     "name": "#%%\n"
    }
   },
   "outputs": [
    {
     "data": {
      "text/plain": "61      1\n78      1\n105     1\n110     1\n119     1\n120     2\n124     1\n127     1\n130     2\n132     1\n133     1\n138     1\n140     1\n146     1\n148     1\n149     1\n150     9\n152     1\n153     5\n154     4\n155    23\n156    19\n157    10\n158     9\n159     6\n160    81\n161     5\n162    15\n163    16\n164     9\n165    46\n166     9\n167     8\n168    15\n169     7\n170    40\n171     9\n172    14\n173     7\n174     4\n175    21\n176    10\n177     4\n178     9\n179     1\n180     4\n181     1\n182     2\n184     1\n185     3\n186     3\n188     1\n190     3\nName: height, dtype: int64"
     },
     "execution_count": 240,
     "metadata": {},
     "output_type": "execute_result"
    }
   ],
   "source": [
    "df.loc[df[\"height\"] == 608, \"height\"] = 61\n",
    "df.loc[df[\"height\"] == 780, \"height\"] = 78\n",
    "df['height'].value_counts().sort_index()"
   ]
  },
  {
   "cell_type": "code",
   "execution_count": 241,
   "metadata": {
    "execution": {
     "iopub.execute_input": "2021-01-21T19:49:28.871603Z",
     "iopub.status.busy": "2021-01-21T19:49:28.870506Z",
     "iopub.status.idle": "2021-01-21T19:49:28.893397Z",
     "shell.execute_reply": "2021-01-21T19:49:28.892201Z"
    },
    "papermill": {
     "duration": 0.073423,
     "end_time": "2021-01-21T19:49:28.893576",
     "exception": false,
     "start_time": "2021-01-21T19:49:28.820153",
     "status": "completed"
    },
    "tags": [],
    "pycharm": {
     "name": "#%%\n"
    }
   },
   "outputs": [
    {
     "data": {
      "text/plain": "True     245\nFalse    207\nName: label, dtype: int64"
     },
     "execution_count": 241,
     "metadata": {},
     "output_type": "execute_result"
    }
   ],
   "source": [
    "norm_risk_list = []\n",
    "for diagnose in df.diagnosis:\n",
    "    if diagnose == 1:\n",
    "        norm_risk_list.append(True)\n",
    "    else:\n",
    "        norm_risk_list.append(False)\n",
    "df[\"label\"] = np.array(norm_risk_list)\n",
    "df.drop(columns = [\"diagnosis\"],inplace = True)\n",
    "df.label.value_counts()"
   ]
  },
  {
   "cell_type": "markdown",
   "metadata": {
    "papermill": {
     "duration": 0.036247,
     "end_time": "2021-01-21T19:49:28.967921",
     "exception": false,
     "start_time": "2021-01-21T19:49:28.931674",
     "status": "completed"
    },
    "tags": [],
    "pycharm": {
     "name": "#%% md\n"
    }
   },
   "source": [
    "X is formed by importing every data at first. All the dimensionality reduction will be applied afterwards. Y is the label column."
   ]
  },
  {
   "cell_type": "code",
   "execution_count": 242,
   "metadata": {
    "execution": {
     "iopub.execute_input": "2021-01-21T19:49:29.045223Z",
     "iopub.status.busy": "2021-01-21T19:49:29.044537Z",
     "iopub.status.idle": "2021-01-21T19:49:29.054675Z",
     "shell.execute_reply": "2021-01-21T19:49:29.054007Z"
    },
    "papermill": {
     "duration": 0.049213,
     "end_time": "2021-01-21T19:49:29.054788",
     "exception": false,
     "start_time": "2021-01-21T19:49:29.005575",
     "status": "completed"
    },
    "tags": [],
    "pycharm": {
     "name": "#%%\n"
    }
   },
   "outputs": [
    {
     "name": "stdout",
     "output_type": "stream",
     "text": [
      "(452, 176)\n",
      "(452,)\n"
     ]
    }
   ],
   "source": [
    "X = df.drop(columns = [df.columns[-1]])\n",
    "y = df[df.columns[-1]]\n",
    "print(X.shape)\n",
    "print(y.shape)"
   ]
  },
  {
   "cell_type": "code",
   "execution_count": 243,
   "outputs": [],
   "source": [
    "X_train, X_test, y_train, y_test = train_test_split(X, y, test_size=0.2, random_state=0)"
   ],
   "metadata": {
    "collapsed": false,
    "pycharm": {
     "name": "#%%\n"
    }
   }
  },
  {
   "cell_type": "code",
   "execution_count": 244,
   "outputs": [],
   "source": [
    "#数据标准化\n",
    "scaler = StandardScaler()\n",
    "X_train = scaler.fit_transform(X_train)\n",
    "X_test = scaler.transform(X_test)"
   ],
   "metadata": {
    "collapsed": false,
    "pycharm": {
     "name": "#%%\n"
    }
   }
  },
  {
   "cell_type": "code",
   "execution_count": 344,
   "outputs": [
    {
     "name": "stderr",
     "output_type": "stream",
     "text": [
      "D:\\XuJiantao\\PycharmProjects\\pythonProject\\venv\\lib\\site-packages\\sklearn\\svm\\_base.py:301: ConvergenceWarning: Solver terminated early (max_iter=102).  Consider pre-processing your data with StandardScaler or MinMaxScaler.\n",
      "  warnings.warn(\n"
     ]
    },
    {
     "data": {
      "text/plain": "RandomForestClassifier()",
      "text/html": "<style>#sk-container-id-68 {color: black;background-color: white;}#sk-container-id-68 pre{padding: 0;}#sk-container-id-68 div.sk-toggleable {background-color: white;}#sk-container-id-68 label.sk-toggleable__label {cursor: pointer;display: block;width: 100%;margin-bottom: 0;padding: 0.3em;box-sizing: border-box;text-align: center;}#sk-container-id-68 label.sk-toggleable__label-arrow:before {content: \"▸\";float: left;margin-right: 0.25em;color: #696969;}#sk-container-id-68 label.sk-toggleable__label-arrow:hover:before {color: black;}#sk-container-id-68 div.sk-estimator:hover label.sk-toggleable__label-arrow:before {color: black;}#sk-container-id-68 div.sk-toggleable__content {max-height: 0;max-width: 0;overflow: hidden;text-align: left;background-color: #f0f8ff;}#sk-container-id-68 div.sk-toggleable__content pre {margin: 0.2em;color: black;border-radius: 0.25em;background-color: #f0f8ff;}#sk-container-id-68 input.sk-toggleable__control:checked~div.sk-toggleable__content {max-height: 200px;max-width: 100%;overflow: auto;}#sk-container-id-68 input.sk-toggleable__control:checked~label.sk-toggleable__label-arrow:before {content: \"▾\";}#sk-container-id-68 div.sk-estimator input.sk-toggleable__control:checked~label.sk-toggleable__label {background-color: #d4ebff;}#sk-container-id-68 div.sk-label input.sk-toggleable__control:checked~label.sk-toggleable__label {background-color: #d4ebff;}#sk-container-id-68 input.sk-hidden--visually {border: 0;clip: rect(1px 1px 1px 1px);clip: rect(1px, 1px, 1px, 1px);height: 1px;margin: -1px;overflow: hidden;padding: 0;position: absolute;width: 1px;}#sk-container-id-68 div.sk-estimator {font-family: monospace;background-color: #f0f8ff;border: 1px dotted black;border-radius: 0.25em;box-sizing: border-box;margin-bottom: 0.5em;}#sk-container-id-68 div.sk-estimator:hover {background-color: #d4ebff;}#sk-container-id-68 div.sk-parallel-item::after {content: \"\";width: 100%;border-bottom: 1px solid gray;flex-grow: 1;}#sk-container-id-68 div.sk-label:hover label.sk-toggleable__label {background-color: #d4ebff;}#sk-container-id-68 div.sk-serial::before {content: \"\";position: absolute;border-left: 1px solid gray;box-sizing: border-box;top: 0;bottom: 0;left: 50%;z-index: 0;}#sk-container-id-68 div.sk-serial {display: flex;flex-direction: column;align-items: center;background-color: white;padding-right: 0.2em;padding-left: 0.2em;position: relative;}#sk-container-id-68 div.sk-item {position: relative;z-index: 1;}#sk-container-id-68 div.sk-parallel {display: flex;align-items: stretch;justify-content: center;background-color: white;position: relative;}#sk-container-id-68 div.sk-item::before, #sk-container-id-68 div.sk-parallel-item::before {content: \"\";position: absolute;border-left: 1px solid gray;box-sizing: border-box;top: 0;bottom: 0;left: 50%;z-index: -1;}#sk-container-id-68 div.sk-parallel-item {display: flex;flex-direction: column;z-index: 1;position: relative;background-color: white;}#sk-container-id-68 div.sk-parallel-item:first-child::after {align-self: flex-end;width: 50%;}#sk-container-id-68 div.sk-parallel-item:last-child::after {align-self: flex-start;width: 50%;}#sk-container-id-68 div.sk-parallel-item:only-child::after {width: 0;}#sk-container-id-68 div.sk-dashed-wrapped {border: 1px dashed gray;margin: 0 0.4em 0.5em 0.4em;box-sizing: border-box;padding-bottom: 0.4em;background-color: white;}#sk-container-id-68 div.sk-label label {font-family: monospace;font-weight: bold;display: inline-block;line-height: 1.2em;}#sk-container-id-68 div.sk-label-container {text-align: center;}#sk-container-id-68 div.sk-container {/* jupyter's `normalize.less` sets `[hidden] { display: none; }` but bootstrap.min.css set `[hidden] { display: none !important; }` so we also need the `!important` here to be able to override the default hidden behavior on the sphinx rendered scikit-learn.org. See: https://github.com/scikit-learn/scikit-learn/issues/21755 */display: inline-block !important;position: relative;}#sk-container-id-68 div.sk-text-repr-fallback {display: none;}</style><div id=\"sk-container-id-68\" class=\"sk-top-container\"><div class=\"sk-text-repr-fallback\"><pre>RandomForestClassifier()</pre><b>In a Jupyter environment, please rerun this cell to show the HTML representation or trust the notebook. <br />On GitHub, the HTML representation is unable to render, please try loading this page with nbviewer.org.</b></div><div class=\"sk-container\" hidden><div class=\"sk-item\"><div class=\"sk-estimator sk-toggleable\"><input class=\"sk-toggleable__control sk-hidden--visually\" id=\"sk-estimator-id-68\" type=\"checkbox\" checked><label for=\"sk-estimator-id-68\" class=\"sk-toggleable__label sk-toggleable__label-arrow\">RandomForestClassifier</label><div class=\"sk-toggleable__content\"><pre>RandomForestClassifier()</pre></div></div></div></div></div>"
     },
     "execution_count": 344,
     "metadata": {},
     "output_type": "execute_result"
    }
   ],
   "source": [
    "from sklearn.svm import SVC\n",
    "knn = KNeighborsClassifier(\n",
    "        n_neighbors=10,\n",
    "        weights=\"uniform\",\n",
    "        algorithm=\"auto\",\n",
    "        leaf_size=50,                       #较大的leaf_size值将使构建树更快，但可能会增加内存使用。\n",
    "        p=8,                                #值为2对应欧几里得距离，值为1对应曼哈顿距离,8是切比雪夫距离。\n",
    "        metric=\"minkowski\",\n",
    "        metric_params=None,\n",
    "        n_jobs=None\n",
    ")#n_neighbors=25\n",
    "svm = SVC(\n",
    "        C=1,\n",
    "        kernel=\"rbf\",\n",
    "        degree=3,\n",
    "        gamma=\"scale\",\n",
    "        coef0=0.0,                      #仅在核被设置为“poly”或“sigmoid”时使用。\n",
    "        shrinking=True,\n",
    "        probability=False,\n",
    "        tol=1e-3,                       #较小的值将导致更准确的解，但也可能增加训练时间。\n",
    "        cache_size=200,\n",
    "        class_weight=None,\n",
    "        verbose=False,\n",
    "        max_iter=102,                   #优化算法的最大迭代次数。较大的值将导致更准确的解，但也可能增加训练时间。\n",
    "        decision_function_shape=\"ovo\",  #\"ovr\": One-vs-rest. \"ovo\": One-vs-one.\n",
    "        break_ties=False,\n",
    "        random_state=None\n",
    ")#kernel=\"rbf\", probability=True,C=10,gamma=0.2\n",
    "rf=RandomForestClassifier()#max_depth=9, random_state=0\n",
    "knn.fit(X_train, y_train)\n",
    "svm.fit(X_train, y_train)\n",
    "rf.fit(X_train, y_train)"
   ],
   "metadata": {
    "collapsed": false,
    "pycharm": {
     "name": "#%%\n"
    }
   }
  },
  {
   "cell_type": "code",
   "execution_count": 349,
   "outputs": [
    {
     "name": "stderr",
     "output_type": "stream",
     "text": [
      "D:\\XuJiantao\\PycharmProjects\\pythonProject\\venv\\lib\\site-packages\\sklearn\\svm\\_base.py:301: ConvergenceWarning: Solver terminated early (max_iter=102).  Consider pre-processing your data with StandardScaler or MinMaxScaler.\n",
      "  warnings.warn(\n",
      "D:\\XuJiantao\\PycharmProjects\\pythonProject\\venv\\lib\\site-packages\\sklearn\\svm\\_base.py:301: ConvergenceWarning: Solver terminated early (max_iter=102).  Consider pre-processing your data with StandardScaler or MinMaxScaler.\n",
      "  warnings.warn(\n",
      "D:\\XuJiantao\\PycharmProjects\\pythonProject\\venv\\lib\\site-packages\\sklearn\\svm\\_base.py:301: ConvergenceWarning: Solver terminated early (max_iter=102).  Consider pre-processing your data with StandardScaler or MinMaxScaler.\n",
      "  warnings.warn(\n",
      "D:\\XuJiantao\\PycharmProjects\\pythonProject\\venv\\lib\\site-packages\\sklearn\\svm\\_base.py:301: ConvergenceWarning: Solver terminated early (max_iter=102).  Consider pre-processing your data with StandardScaler or MinMaxScaler.\n",
      "  warnings.warn(\n",
      "D:\\XuJiantao\\PycharmProjects\\pythonProject\\venv\\lib\\site-packages\\sklearn\\svm\\_base.py:301: ConvergenceWarning: Solver terminated early (max_iter=102).  Consider pre-processing your data with StandardScaler or MinMaxScaler.\n",
      "  warnings.warn(\n",
      "D:\\XuJiantao\\PycharmProjects\\pythonProject\\venv\\lib\\site-packages\\sklearn\\svm\\_base.py:301: ConvergenceWarning: Solver terminated early (max_iter=102).  Consider pre-processing your data with StandardScaler or MinMaxScaler.\n",
      "  warnings.warn(\n"
     ]
    },
    {
     "name": "stdout",
     "output_type": "stream",
     "text": [
      "Accuracy: 0.7472527472527473\n"
     ]
    }
   ],
   "source": [
    "from sklearn.ensemble import StackingClassifier\n",
    "# 创建Stacking模型\n",
    "estimators = [(\"knn\", knn), (\"svm\", svm),(\"rf\", rf)]\n",
    "meta_estimator = LogisticRegression()\n",
    "stacking = StackingClassifier(estimators=estimators, final_estimator=meta_estimator)\n",
    "# 训练模型\n",
    "stacking.fit(X_train, y_train)\n",
    "# 模型评估\n",
    "y_pred=stacking.predict(X_test)\n",
    "accuracy = stacking.score(X_test, y_test)\n",
    "print(\"Accuracy:\", accuracy)"
   ],
   "metadata": {
    "collapsed": false,
    "pycharm": {
     "name": "#%%\n"
    }
   }
  },
  {
   "cell_type": "code",
   "execution_count": 346,
   "outputs": [
    {
     "name": "stdout",
     "output_type": "stream",
     "text": [
      "Prediction: [ True]\n"
     ]
    },
    {
     "name": "stderr",
     "output_type": "stream",
     "text": [
      "D:\\XuJiantao\\PycharmProjects\\pythonProject\\venv\\lib\\site-packages\\sklearn\\base.py:450: UserWarning: X does not have valid feature names, but StandardScaler was fitted with feature names\n",
      "  warnings.warn(\n"
     ]
    }
   ],
   "source": [
    "print(\"Prediction:\", stacking.predict(scaler.transform([[55,0,175,94,100,202,380,179,143,28,0,72,20,48,0,64,36,0,36,20,52,48,56,0,64,32,0,0,0,72,0,0,60,12,0,44,0,60,44,32,56,0,0,0,0,0,0,40,44,0,0,20,0,52,40,0,0,32,0,0,0,0,56,48,0,36,0,60,48,36,0,64,40,40,0.9,0.0,7.8,-0.7,1.1,1.9,27.3,45.1,0.1,0.0,9.1,-2.6,0.0,0.0,0.4,1.5,24.5,36.8,-0.4,-0.4,1.6,-2.2,-1.0,-0.9,-1.5,-9.2,-0.4,-8.2,1.8,0.0,0.0,-0.7,-1.7,-23.4,-35.6,0.9,0.0,3.2,-0.4,0.7,1.2,9.4,18.0,-0.1,0.0,5.1,-2.5,0.3,0.6,9.8,12.6,1.6,-6.5,0.0,0.0,0.0,-0.4,-0.4,-18.2,-22.4,2.1,0.0,1.2,-6.9,0.0,-0.5,2.9,-12.7,18.0,0.7,0.0,9.0,-7.9,0.1,4.1,7.6,51.0,0.4,0.0,15.0,-5.5,0.0,0.1,3.3,28.8,63.1,0.1,0.0,15.2,-3.7,0.6,3.0,36.8,68.0,0.1,0.0,12.2,-2.2,0.4,2.6,34.6,61.6]])))"
   ],
   "metadata": {
    "collapsed": false,
    "pycharm": {
     "name": "#%%\n"
    }
   }
  }
 ],
 "metadata": {
  "kernelspec": {
   "display_name": "Python 3",
   "language": "python",
   "name": "python3"
  },
  "language_info": {
   "codemirror_mode": {
    "name": "ipython",
    "version": 3
   },
   "file_extension": ".py",
   "mimetype": "text/x-python",
   "name": "python",
   "nbconvert_exporter": "python",
   "pygments_lexer": "ipython3",
   "version": "3.7.6"
  },
  "papermill": {
   "duration": 159.424593,
   "end_time": "2021-01-21T19:52:00.614530",
   "environment_variables": {},
   "exception": null,
   "input_path": "__notebook__.ipynb",
   "output_path": "__notebook__.ipynb",
   "parameters": {},
   "start_time": "2021-01-21T19:49:21.189937",
   "version": "2.1.0"
  }
 },
 "nbformat": 4,
 "nbformat_minor": 4
}